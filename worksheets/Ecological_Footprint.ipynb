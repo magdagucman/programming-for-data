{
 "cells": [
  {
   "cell_type": "code",
   "execution_count": 4,
   "id": "0106a2b9",
   "metadata": {},
   "outputs": [
    {
     "name": "stdout",
     "output_type": "stream",
     "text": [
      "<class 'pandas.core.frame.DataFrame'>\n",
      "RangeIndex: 188 entries, 0 to 187\n",
      "Data columns (total 21 columns):\n",
      " #   Column                          Non-Null Count  Dtype  \n",
      "---  ------                          --------------  -----  \n",
      " 0   Country                         188 non-null    object \n",
      " 1   Region                          188 non-null    object \n",
      " 2   Population (millions)           188 non-null    float64\n",
      " 3   HDI                             172 non-null    float64\n",
      " 4   GDP per Capita                  173 non-null    object \n",
      " 5   Cropland Footprint              173 non-null    float64\n",
      " 6   Grazing Footprint               173 non-null    float64\n",
      " 7   Forest Footprint                173 non-null    float64\n",
      " 8   Carbon Footprint                173 non-null    float64\n",
      " 9   Fish Footprint                  173 non-null    float64\n",
      " 10  Total Ecological Footprint      188 non-null    float64\n",
      " 11  Cropland                        173 non-null    float64\n",
      " 12  Grazing Land                    173 non-null    float64\n",
      " 13  Forest Land                     173 non-null    float64\n",
      " 14  Fishing Water                   173 non-null    float64\n",
      " 15  Urban Land                      173 non-null    float64\n",
      " 16  Total Biocapacity               188 non-null    float64\n",
      " 17  Biocapacity Deficit or Reserve  188 non-null    float64\n",
      " 18  Earths Required                 188 non-null    float64\n",
      " 19  Countries Required              188 non-null    float64\n",
      " 20  Data Quality                    188 non-null    object \n",
      "dtypes: float64(17), object(4)\n",
      "memory usage: 31.0+ KB\n"
     ]
    },
    {
     "data": {
      "text/plain": [
       "None"
      ]
     },
     "metadata": {},
     "output_type": "display_data"
    },
    {
     "data": {
      "text/html": [
       "<div>\n",
       "<style scoped>\n",
       "    .dataframe tbody tr th:only-of-type {\n",
       "        vertical-align: middle;\n",
       "    }\n",
       "\n",
       "    .dataframe tbody tr th {\n",
       "        vertical-align: top;\n",
       "    }\n",
       "\n",
       "    .dataframe thead th {\n",
       "        text-align: right;\n",
       "    }\n",
       "</style>\n",
       "<table border=\"1\" class=\"dataframe\">\n",
       "  <thead>\n",
       "    <tr style=\"text-align: right;\">\n",
       "      <th></th>\n",
       "      <th>Population (millions)</th>\n",
       "      <th>HDI</th>\n",
       "      <th>Cropland Footprint</th>\n",
       "      <th>Grazing Footprint</th>\n",
       "      <th>Forest Footprint</th>\n",
       "      <th>Carbon Footprint</th>\n",
       "      <th>Fish Footprint</th>\n",
       "      <th>Total Ecological Footprint</th>\n",
       "      <th>Cropland</th>\n",
       "      <th>Grazing Land</th>\n",
       "      <th>Forest Land</th>\n",
       "      <th>Fishing Water</th>\n",
       "      <th>Urban Land</th>\n",
       "      <th>Total Biocapacity</th>\n",
       "      <th>Biocapacity Deficit or Reserve</th>\n",
       "      <th>Earths Required</th>\n",
       "      <th>Countries Required</th>\n",
       "    </tr>\n",
       "  </thead>\n",
       "  <tbody>\n",
       "    <tr>\n",
       "      <th>count</th>\n",
       "      <td>188.000000</td>\n",
       "      <td>172.00000</td>\n",
       "      <td>173.000000</td>\n",
       "      <td>173.000000</td>\n",
       "      <td>173.000000</td>\n",
       "      <td>173.000000</td>\n",
       "      <td>173.000000</td>\n",
       "      <td>188.000000</td>\n",
       "      <td>173.000000</td>\n",
       "      <td>173.000000</td>\n",
       "      <td>173.000000</td>\n",
       "      <td>173.000000</td>\n",
       "      <td>173.000000</td>\n",
       "      <td>188.000000</td>\n",
       "      <td>188.000000</td>\n",
       "      <td>188.000000</td>\n",
       "      <td>188.000000</td>\n",
       "    </tr>\n",
       "    <tr>\n",
       "      <th>mean</th>\n",
       "      <td>37.342372</td>\n",
       "      <td>0.68636</td>\n",
       "      <td>0.578208</td>\n",
       "      <td>0.263179</td>\n",
       "      <td>0.373815</td>\n",
       "      <td>1.804913</td>\n",
       "      <td>0.122486</td>\n",
       "      <td>3.317606</td>\n",
       "      <td>0.531850</td>\n",
       "      <td>0.456590</td>\n",
       "      <td>2.459191</td>\n",
       "      <td>0.595145</td>\n",
       "      <td>0.067110</td>\n",
       "      <td>4.019681</td>\n",
       "      <td>0.702074</td>\n",
       "      <td>1.915745</td>\n",
       "      <td>4.037397</td>\n",
       "    </tr>\n",
       "    <tr>\n",
       "      <th>std</th>\n",
       "      <td>140.756836</td>\n",
       "      <td>0.15604</td>\n",
       "      <td>0.355691</td>\n",
       "      <td>0.352067</td>\n",
       "      <td>0.359349</td>\n",
       "      <td>1.898283</td>\n",
       "      <td>0.158427</td>\n",
       "      <td>2.370931</td>\n",
       "      <td>0.672567</td>\n",
       "      <td>1.014738</td>\n",
       "      <td>10.593956</td>\n",
       "      <td>1.661872</td>\n",
       "      <td>0.054844</td>\n",
       "      <td>11.689075</td>\n",
       "      <td>11.771339</td>\n",
       "      <td>1.369624</td>\n",
       "      <td>12.444616</td>\n",
       "    </tr>\n",
       "    <tr>\n",
       "      <th>min</th>\n",
       "      <td>0.000000</td>\n",
       "      <td>0.34000</td>\n",
       "      <td>0.070000</td>\n",
       "      <td>0.000000</td>\n",
       "      <td>0.010000</td>\n",
       "      <td>0.000000</td>\n",
       "      <td>0.000000</td>\n",
       "      <td>0.420000</td>\n",
       "      <td>0.000000</td>\n",
       "      <td>0.000000</td>\n",
       "      <td>0.000000</td>\n",
       "      <td>0.000000</td>\n",
       "      <td>0.000000</td>\n",
       "      <td>0.050000</td>\n",
       "      <td>-14.140000</td>\n",
       "      <td>0.240000</td>\n",
       "      <td>0.020000</td>\n",
       "    </tr>\n",
       "    <tr>\n",
       "      <th>25%</th>\n",
       "      <td>2.037500</td>\n",
       "      <td>0.55750</td>\n",
       "      <td>0.350000</td>\n",
       "      <td>0.080000</td>\n",
       "      <td>0.170000</td>\n",
       "      <td>0.420000</td>\n",
       "      <td>0.020000</td>\n",
       "      <td>1.482500</td>\n",
       "      <td>0.180000</td>\n",
       "      <td>0.030000</td>\n",
       "      <td>0.060000</td>\n",
       "      <td>0.030000</td>\n",
       "      <td>0.030000</td>\n",
       "      <td>0.675000</td>\n",
       "      <td>-1.935000</td>\n",
       "      <td>0.855000</td>\n",
       "      <td>0.942500</td>\n",
       "    </tr>\n",
       "    <tr>\n",
       "      <th>50%</th>\n",
       "      <td>7.970000</td>\n",
       "      <td>0.72000</td>\n",
       "      <td>0.520000</td>\n",
       "      <td>0.180000</td>\n",
       "      <td>0.260000</td>\n",
       "      <td>1.140000</td>\n",
       "      <td>0.070000</td>\n",
       "      <td>2.740000</td>\n",
       "      <td>0.350000</td>\n",
       "      <td>0.120000</td>\n",
       "      <td>0.340000</td>\n",
       "      <td>0.110000</td>\n",
       "      <td>0.050000</td>\n",
       "      <td>1.310000</td>\n",
       "      <td>-0.730000</td>\n",
       "      <td>1.580000</td>\n",
       "      <td>1.705000</td>\n",
       "    </tr>\n",
       "    <tr>\n",
       "      <th>75%</th>\n",
       "      <td>24.870000</td>\n",
       "      <td>0.80250</td>\n",
       "      <td>0.700000</td>\n",
       "      <td>0.320000</td>\n",
       "      <td>0.460000</td>\n",
       "      <td>2.600000</td>\n",
       "      <td>0.150000</td>\n",
       "      <td>4.640000</td>\n",
       "      <td>0.590000</td>\n",
       "      <td>0.340000</td>\n",
       "      <td>1.170000</td>\n",
       "      <td>0.370000</td>\n",
       "      <td>0.090000</td>\n",
       "      <td>2.815000</td>\n",
       "      <td>0.212500</td>\n",
       "      <td>2.677500</td>\n",
       "      <td>2.847500</td>\n",
       "    </tr>\n",
       "    <tr>\n",
       "      <th>max</th>\n",
       "      <td>1408.040000</td>\n",
       "      <td>0.94000</td>\n",
       "      <td>2.680000</td>\n",
       "      <td>3.470000</td>\n",
       "      <td>3.030000</td>\n",
       "      <td>12.650000</td>\n",
       "      <td>0.820000</td>\n",
       "      <td>15.820000</td>\n",
       "      <td>5.420000</td>\n",
       "      <td>8.230000</td>\n",
       "      <td>95.160000</td>\n",
       "      <td>16.070000</td>\n",
       "      <td>0.270000</td>\n",
       "      <td>111.350000</td>\n",
       "      <td>109.010000</td>\n",
       "      <td>9.140000</td>\n",
       "      <td>159.470000</td>\n",
       "    </tr>\n",
       "  </tbody>\n",
       "</table>\n",
       "</div>"
      ],
      "text/plain": [
       "       Population (millions)        HDI  Cropland Footprint  \\\n",
       "count             188.000000  172.00000          173.000000   \n",
       "mean               37.342372    0.68636            0.578208   \n",
       "std               140.756836    0.15604            0.355691   \n",
       "min                 0.000000    0.34000            0.070000   \n",
       "25%                 2.037500    0.55750            0.350000   \n",
       "50%                 7.970000    0.72000            0.520000   \n",
       "75%                24.870000    0.80250            0.700000   \n",
       "max              1408.040000    0.94000            2.680000   \n",
       "\n",
       "       Grazing Footprint  Forest Footprint  Carbon Footprint  Fish Footprint  \\\n",
       "count         173.000000        173.000000        173.000000      173.000000   \n",
       "mean            0.263179          0.373815          1.804913        0.122486   \n",
       "std             0.352067          0.359349          1.898283        0.158427   \n",
       "min             0.000000          0.010000          0.000000        0.000000   \n",
       "25%             0.080000          0.170000          0.420000        0.020000   \n",
       "50%             0.180000          0.260000          1.140000        0.070000   \n",
       "75%             0.320000          0.460000          2.600000        0.150000   \n",
       "max             3.470000          3.030000         12.650000        0.820000   \n",
       "\n",
       "       Total Ecological Footprint    Cropland  Grazing Land  Forest Land  \\\n",
       "count                  188.000000  173.000000    173.000000   173.000000   \n",
       "mean                     3.317606    0.531850      0.456590     2.459191   \n",
       "std                      2.370931    0.672567      1.014738    10.593956   \n",
       "min                      0.420000    0.000000      0.000000     0.000000   \n",
       "25%                      1.482500    0.180000      0.030000     0.060000   \n",
       "50%                      2.740000    0.350000      0.120000     0.340000   \n",
       "75%                      4.640000    0.590000      0.340000     1.170000   \n",
       "max                     15.820000    5.420000      8.230000    95.160000   \n",
       "\n",
       "       Fishing Water  Urban Land  Total Biocapacity  \\\n",
       "count     173.000000  173.000000         188.000000   \n",
       "mean        0.595145    0.067110           4.019681   \n",
       "std         1.661872    0.054844          11.689075   \n",
       "min         0.000000    0.000000           0.050000   \n",
       "25%         0.030000    0.030000           0.675000   \n",
       "50%         0.110000    0.050000           1.310000   \n",
       "75%         0.370000    0.090000           2.815000   \n",
       "max        16.070000    0.270000         111.350000   \n",
       "\n",
       "       Biocapacity Deficit or Reserve  Earths Required  Countries Required  \n",
       "count                      188.000000       188.000000          188.000000  \n",
       "mean                         0.702074         1.915745            4.037397  \n",
       "std                         11.771339         1.369624           12.444616  \n",
       "min                        -14.140000         0.240000            0.020000  \n",
       "25%                         -1.935000         0.855000            0.942500  \n",
       "50%                         -0.730000         1.580000            1.705000  \n",
       "75%                          0.212500         2.677500            2.847500  \n",
       "max                        109.010000         9.140000          159.470000  "
      ]
     },
     "metadata": {},
     "output_type": "display_data"
    }
   ],
   "source": [
    "import pandas as pd\n",
    "url = \"https://raw.githubusercontent.com/magdagucman/programming-for-data/main/Data%20Sets/countries.csv\"\n",
    "footprint_df = pd.read_csv(url)\n",
    "\n",
    "# Show summary information\n",
    "display(footprint_df.info())\n",
    "\n",
    "# Describe the data set\n",
    "display(footprint_df.describe())"
   ]
  },
  {
   "cell_type": "code",
   "execution_count": 68,
   "id": "11313c69",
   "metadata": {},
   "outputs": [
    {
     "name": "stdout",
     "output_type": "stream",
     "text": [
      "Mean Total Ecological Footprint is:\n"
     ]
    },
    {
     "data": {
      "text/plain": [
       "3.317606382978723"
      ]
     },
     "metadata": {},
     "output_type": "display_data"
    },
    {
     "name": "stdout",
     "output_type": "stream",
     "text": [
      "Max Total Ecological Footprint is:\n"
     ]
    },
    {
     "data": {
      "text/plain": [
       "15.82"
      ]
     },
     "metadata": {},
     "output_type": "display_data"
    },
    {
     "name": "stdout",
     "output_type": "stream",
     "text": [
      "Min Total Ecological Footprint is:\n"
     ]
    },
    {
     "data": {
      "text/plain": [
       "0.42"
      ]
     },
     "metadata": {},
     "output_type": "display_data"
    }
   ],
   "source": [
    "print(\"Mean Total Ecological Footprint is:\")\n",
    "\n",
    "display(footprint_df[\"Total Ecological Footprint\"].mean())\n",
    "\n",
    "print(\"Max Total Ecological Footprint is:\")\n",
    "\n",
    "display(footprint_df[\"Total Ecological Footprint\"].max())\n",
    "\n",
    "print(\"Min Total Ecological Footprint is:\")\n",
    "\n",
    "display(footprint_df[\"Total Ecological Footprint\"].min())\n"
   ]
  },
  {
   "cell_type": "code",
   "execution_count": 20,
   "id": "ac14103b",
   "metadata": {},
   "outputs": [
    {
     "data": {
      "text/plain": [
       "Region\n",
       "Africa                      1.670962\n",
       "Asia-Pacific                2.970303\n",
       "European Union              5.475385\n",
       "Latin America               3.483846\n",
       "Middle East/Central Asia    4.054348\n",
       "North America               7.386667\n",
       "Northern/Eastern Europe     3.763333\n",
       "Name: Total Ecological Footprint, dtype: float64"
      ]
     },
     "metadata": {},
     "output_type": "display_data"
    }
   ],
   "source": [
    "# Display mean footprint for each geographic region\n",
    "display(footprint_df.groupby(\"Region\")[\"Total Ecological Footprint\"].mean())"
   ]
  },
  {
   "cell_type": "code",
   "execution_count": 67,
   "id": "f3568a9f",
   "metadata": {},
   "outputs": [
    {
     "data": {
      "text/plain": [
       "Total Ecological Footprint  Country                 \n",
       "0.42                        Eritrea                         $439.73\n",
       "0.48                        Timor-Leste                   $5,167.86\n",
       "0.61                        Haiti                           $749.13\n",
       "0.72                        Bangladesh                      $857.50\n",
       "0.79                        Afghanistan                     $614.66\n",
       "                                                           ...     \n",
       "8.22                        United States of America     $49,725.00\n",
       "9.31                        Australia                    $66,604.20\n",
       "10.80                       Qatar                        $99,431.50\n",
       "11.88                       Aruba                               NaN\n",
       "15.82                       Luxembourg                  $114,665.00\n",
       "Name: GDP per Capita, Length: 188, dtype: object"
      ]
     },
     "metadata": {},
     "output_type": "display_data"
    }
   ],
   "source": [
    "# Display footprint by country including GDP per Capita\n",
    "footprint_GDP = footprint_df.groupby([\"Total Ecological Footprint\", \"Country\"])[\"GDP per Capita\"].max()\n",
    "\n",
    "footprint_GDP.sort_values()\n",
    "\n",
    "display(footprint_GDP)"
   ]
  },
  {
   "cell_type": "code",
   "execution_count": 90,
   "id": "1985f184",
   "metadata": {},
   "outputs": [
    {
     "name": "stdout",
     "output_type": "stream",
     "text": [
      "Country\n",
      "Solomon Islands         0.000000\n",
      "Chad                    0.684932\n",
      "Burundi                 5.000000\n",
      "Somalia                 5.645161\n",
      "Sierra Leone            5.645161\n",
      "                         ...    \n",
      "Martinique             83.173077\n",
      "Kuwait                 84.747847\n",
      "Trinidad and Tobago    86.994949\n",
      "Qatar                  88.611111\n",
      "Réunion                89.589041\n",
      "Length: 173, dtype: float64\n"
     ]
    }
   ],
   "source": [
    "# Calculate percentage of Carbon Footprint by country in total footprint\n",
    "percentage_carbon = footprint_df.groupby(\"Country\")[\"Carbon Footprint\"].max()/footprint_df.groupby(\"Country\")[\"Total Ecological Footprint\"].max()*100\n",
    "\n",
    "# Drop rows with no available data\n",
    "percentage_carbon.dropna(how=\"any\", inplace=True)\n",
    "\n",
    "# Print\n",
    "print(percentage_carbon.sort_values())"
   ]
  }
 ],
 "metadata": {
  "kernelspec": {
   "display_name": "Python 3",
   "language": "python",
   "name": "python3"
  },
  "language_info": {
   "codemirror_mode": {
    "name": "ipython",
    "version": 3
   },
   "file_extension": ".py",
   "mimetype": "text/x-python",
   "name": "python",
   "nbconvert_exporter": "python",
   "pygments_lexer": "ipython3",
   "version": "3.8.8"
  }
 },
 "nbformat": 4,
 "nbformat_minor": 5
}
