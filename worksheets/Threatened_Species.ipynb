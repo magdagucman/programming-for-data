{
 "cells": [
  {
   "cell_type": "markdown",
   "id": "fd23c394",
   "metadata": {},
   "source": [
    "Threatened Species Dataset\n",
    "\n",
    "Questions about the dataset:\n",
    "1) Which countries had the most threatened species? How has this been changing over the years?\n",
    "2) Which 10 countries have the least thretened species? How has this been changing over the years?\n",
    "3) Which 10 contries noted the biggest increase in the number of threatened species between 2004 and 2020?\n",
    "4) Which countries noted the biggest decrease in the number of threatened species between 2004 and 2020?\n",
    "5) Can we observe a worldwide trend in the number of threatened species over the reported years or are no significant changes observed? If an increase/decrease trend exists, are there any countries noting the opposite trend (which ones)?\n",
    "\n",
    "\n",
    "Plan how to answer the above:\n",
    "0) Clean the data; create columns 'Threatened Total', 'Threatened Animals', 'Threatened Plants' and for each year (?)\n",
    "1) Display 10 countries with the highest total of threatened species by year\n",
    "2) Display 10 countries with the lowest total of threatened species by year\n",
    "3) Subtract the total values of threatened species in 2004 from the total values of threatened species in 2020 country by country; save into a new column, sort descending by value, head(10)\n",
    "4) Take above + tail(10)\n",
    "5) Trend analysis;\n",
    "\n",
    "Proposed visualisation:\n",
    "A set of Choropleth Maps or Proportional Symbols Maps (these could be pie charts showing the proportion of threatened animals vs plants) - 1 map per reported year, to visualise change over time"
   ]
  },
  {
   "cell_type": "code",
   "execution_count": 179,
   "id": "5458a631",
   "metadata": {},
   "outputs": [
    {
     "data": {
      "text/plain": [
       "(6918, 7)"
      ]
     },
     "metadata": {},
     "output_type": "display_data"
    },
    {
     "data": {
      "text/html": [
       "<div>\n",
       "<style scoped>\n",
       "    .dataframe tbody tr th:only-of-type {\n",
       "        vertical-align: middle;\n",
       "    }\n",
       "\n",
       "    .dataframe tbody tr th {\n",
       "        vertical-align: top;\n",
       "    }\n",
       "\n",
       "    .dataframe thead th {\n",
       "        text-align: right;\n",
       "    }\n",
       "</style>\n",
       "<table border=\"1\" class=\"dataframe\">\n",
       "  <thead>\n",
       "    <tr style=\"text-align: right;\">\n",
       "      <th></th>\n",
       "      <th>Region/Country/Area</th>\n",
       "      <th>Unnamed: 1</th>\n",
       "      <th>Year</th>\n",
       "      <th>Series</th>\n",
       "      <th>Value</th>\n",
       "      <th>Footnotes</th>\n",
       "      <th>Source</th>\n",
       "    </tr>\n",
       "  </thead>\n",
       "  <tbody>\n",
       "    <tr>\n",
       "      <th>0</th>\n",
       "      <td>4</td>\n",
       "      <td>Afghanistan</td>\n",
       "      <td>2004</td>\n",
       "      <td>Threatened Species: Vertebrates (number)</td>\n",
       "      <td>31</td>\n",
       "      <td>NaN</td>\n",
       "      <td>World Conservation Union (IUCN), Gland and Cam...</td>\n",
       "    </tr>\n",
       "    <tr>\n",
       "      <th>1</th>\n",
       "      <td>4</td>\n",
       "      <td>Afghanistan</td>\n",
       "      <td>2010</td>\n",
       "      <td>Threatened Species: Vertebrates (number)</td>\n",
       "      <td>31</td>\n",
       "      <td>NaN</td>\n",
       "      <td>World Conservation Union (IUCN), Gland and Cam...</td>\n",
       "    </tr>\n",
       "    <tr>\n",
       "      <th>2</th>\n",
       "      <td>4</td>\n",
       "      <td>Afghanistan</td>\n",
       "      <td>2016</td>\n",
       "      <td>Threatened Species: Vertebrates (number)</td>\n",
       "      <td>35</td>\n",
       "      <td>NaN</td>\n",
       "      <td>World Conservation Union (IUCN), Gland and Cam...</td>\n",
       "    </tr>\n",
       "    <tr>\n",
       "      <th>3</th>\n",
       "      <td>4</td>\n",
       "      <td>Afghanistan</td>\n",
       "      <td>2017</td>\n",
       "      <td>Threatened Species: Vertebrates (number)</td>\n",
       "      <td>35</td>\n",
       "      <td>NaN</td>\n",
       "      <td>World Conservation Union (IUCN), Gland and Cam...</td>\n",
       "    </tr>\n",
       "    <tr>\n",
       "      <th>4</th>\n",
       "      <td>4</td>\n",
       "      <td>Afghanistan</td>\n",
       "      <td>2018</td>\n",
       "      <td>Threatened Species: Vertebrates (number)</td>\n",
       "      <td>34</td>\n",
       "      <td>NaN</td>\n",
       "      <td>World Conservation Union (IUCN), Gland and Cam...</td>\n",
       "    </tr>\n",
       "    <tr>\n",
       "      <th>5</th>\n",
       "      <td>4</td>\n",
       "      <td>Afghanistan</td>\n",
       "      <td>2019</td>\n",
       "      <td>Threatened Species: Vertebrates (number)</td>\n",
       "      <td>33</td>\n",
       "      <td>NaN</td>\n",
       "      <td>World Conservation Union (IUCN), Gland and Cam...</td>\n",
       "    </tr>\n",
       "    <tr>\n",
       "      <th>6</th>\n",
       "      <td>4</td>\n",
       "      <td>Afghanistan</td>\n",
       "      <td>2020</td>\n",
       "      <td>Threatened Species: Vertebrates (number)</td>\n",
       "      <td>33</td>\n",
       "      <td>NaN</td>\n",
       "      <td>World Conservation Union (IUCN), Gland and Cam...</td>\n",
       "    </tr>\n",
       "    <tr>\n",
       "      <th>7</th>\n",
       "      <td>4</td>\n",
       "      <td>Afghanistan</td>\n",
       "      <td>2004</td>\n",
       "      <td>Threatened Species: Invertebrates (number)</td>\n",
       "      <td>1</td>\n",
       "      <td>NaN</td>\n",
       "      <td>World Conservation Union (IUCN), Gland and Cam...</td>\n",
       "    </tr>\n",
       "    <tr>\n",
       "      <th>8</th>\n",
       "      <td>4</td>\n",
       "      <td>Afghanistan</td>\n",
       "      <td>2010</td>\n",
       "      <td>Threatened Species: Invertebrates (number)</td>\n",
       "      <td>1</td>\n",
       "      <td>NaN</td>\n",
       "      <td>World Conservation Union (IUCN), Gland and Cam...</td>\n",
       "    </tr>\n",
       "    <tr>\n",
       "      <th>9</th>\n",
       "      <td>4</td>\n",
       "      <td>Afghanistan</td>\n",
       "      <td>2016</td>\n",
       "      <td>Threatened Species: Invertebrates (number)</td>\n",
       "      <td>2</td>\n",
       "      <td>NaN</td>\n",
       "      <td>World Conservation Union (IUCN), Gland and Cam...</td>\n",
       "    </tr>\n",
       "    <tr>\n",
       "      <th>10</th>\n",
       "      <td>4</td>\n",
       "      <td>Afghanistan</td>\n",
       "      <td>2017</td>\n",
       "      <td>Threatened Species: Invertebrates (number)</td>\n",
       "      <td>2</td>\n",
       "      <td>NaN</td>\n",
       "      <td>World Conservation Union (IUCN), Gland and Cam...</td>\n",
       "    </tr>\n",
       "    <tr>\n",
       "      <th>11</th>\n",
       "      <td>4</td>\n",
       "      <td>Afghanistan</td>\n",
       "      <td>2018</td>\n",
       "      <td>Threatened Species: Invertebrates (number)</td>\n",
       "      <td>2</td>\n",
       "      <td>NaN</td>\n",
       "      <td>World Conservation Union (IUCN), Gland and Cam...</td>\n",
       "    </tr>\n",
       "    <tr>\n",
       "      <th>12</th>\n",
       "      <td>4</td>\n",
       "      <td>Afghanistan</td>\n",
       "      <td>2019</td>\n",
       "      <td>Threatened Species: Invertebrates (number)</td>\n",
       "      <td>2</td>\n",
       "      <td>NaN</td>\n",
       "      <td>World Conservation Union (IUCN), Gland and Cam...</td>\n",
       "    </tr>\n",
       "    <tr>\n",
       "      <th>13</th>\n",
       "      <td>4</td>\n",
       "      <td>Afghanistan</td>\n",
       "      <td>2020</td>\n",
       "      <td>Threatened Species: Invertebrates (number)</td>\n",
       "      <td>2</td>\n",
       "      <td>NaN</td>\n",
       "      <td>World Conservation Union (IUCN), Gland and Cam...</td>\n",
       "    </tr>\n",
       "    <tr>\n",
       "      <th>14</th>\n",
       "      <td>4</td>\n",
       "      <td>Afghanistan</td>\n",
       "      <td>2004</td>\n",
       "      <td>Threatened Species: Plants (number)</td>\n",
       "      <td>1</td>\n",
       "      <td>NaN</td>\n",
       "      <td>World Conservation Union (IUCN), Gland and Cam...</td>\n",
       "    </tr>\n",
       "    <tr>\n",
       "      <th>15</th>\n",
       "      <td>4</td>\n",
       "      <td>Afghanistan</td>\n",
       "      <td>2010</td>\n",
       "      <td>Threatened Species: Plants (number)</td>\n",
       "      <td>2</td>\n",
       "      <td>NaN</td>\n",
       "      <td>World Conservation Union (IUCN), Gland and Cam...</td>\n",
       "    </tr>\n",
       "    <tr>\n",
       "      <th>16</th>\n",
       "      <td>4</td>\n",
       "      <td>Afghanistan</td>\n",
       "      <td>2016</td>\n",
       "      <td>Threatened Species: Plants (number)</td>\n",
       "      <td>5</td>\n",
       "      <td>NaN</td>\n",
       "      <td>World Conservation Union (IUCN), Gland and Cam...</td>\n",
       "    </tr>\n",
       "    <tr>\n",
       "      <th>17</th>\n",
       "      <td>4</td>\n",
       "      <td>Afghanistan</td>\n",
       "      <td>2017</td>\n",
       "      <td>Threatened Species: Plants (number)</td>\n",
       "      <td>5</td>\n",
       "      <td>NaN</td>\n",
       "      <td>World Conservation Union (IUCN), Gland and Cam...</td>\n",
       "    </tr>\n",
       "    <tr>\n",
       "      <th>18</th>\n",
       "      <td>4</td>\n",
       "      <td>Afghanistan</td>\n",
       "      <td>2018</td>\n",
       "      <td>Threatened Species: Plants (number)</td>\n",
       "      <td>5</td>\n",
       "      <td>NaN</td>\n",
       "      <td>World Conservation Union (IUCN), Gland and Cam...</td>\n",
       "    </tr>\n",
       "    <tr>\n",
       "      <th>19</th>\n",
       "      <td>4</td>\n",
       "      <td>Afghanistan</td>\n",
       "      <td>2019</td>\n",
       "      <td>Threatened Species: Plants (number)</td>\n",
       "      <td>5</td>\n",
       "      <td>NaN</td>\n",
       "      <td>World Conservation Union (IUCN), Gland and Cam...</td>\n",
       "    </tr>\n",
       "    <tr>\n",
       "      <th>20</th>\n",
       "      <td>4</td>\n",
       "      <td>Afghanistan</td>\n",
       "      <td>2020</td>\n",
       "      <td>Threatened Species: Plants (number)</td>\n",
       "      <td>5</td>\n",
       "      <td>NaN</td>\n",
       "      <td>World Conservation Union (IUCN), Gland and Cam...</td>\n",
       "    </tr>\n",
       "    <tr>\n",
       "      <th>21</th>\n",
       "      <td>4</td>\n",
       "      <td>Afghanistan</td>\n",
       "      <td>2004</td>\n",
       "      <td>Threatened Species: Total (number)</td>\n",
       "      <td>33</td>\n",
       "      <td>NaN</td>\n",
       "      <td>World Conservation Union (IUCN), Gland and Cam...</td>\n",
       "    </tr>\n",
       "    <tr>\n",
       "      <th>22</th>\n",
       "      <td>4</td>\n",
       "      <td>Afghanistan</td>\n",
       "      <td>2010</td>\n",
       "      <td>Threatened Species: Total (number)</td>\n",
       "      <td>34</td>\n",
       "      <td>NaN</td>\n",
       "      <td>World Conservation Union (IUCN), Gland and Cam...</td>\n",
       "    </tr>\n",
       "    <tr>\n",
       "      <th>23</th>\n",
       "      <td>4</td>\n",
       "      <td>Afghanistan</td>\n",
       "      <td>2016</td>\n",
       "      <td>Threatened Species: Total (number)</td>\n",
       "      <td>42</td>\n",
       "      <td>NaN</td>\n",
       "      <td>World Conservation Union (IUCN), Gland and Cam...</td>\n",
       "    </tr>\n",
       "    <tr>\n",
       "      <th>24</th>\n",
       "      <td>4</td>\n",
       "      <td>Afghanistan</td>\n",
       "      <td>2017</td>\n",
       "      <td>Threatened Species: Total (number)</td>\n",
       "      <td>42</td>\n",
       "      <td>NaN</td>\n",
       "      <td>World Conservation Union (IUCN), Gland and Cam...</td>\n",
       "    </tr>\n",
       "    <tr>\n",
       "      <th>25</th>\n",
       "      <td>4</td>\n",
       "      <td>Afghanistan</td>\n",
       "      <td>2018</td>\n",
       "      <td>Threatened Species: Total (number)</td>\n",
       "      <td>41</td>\n",
       "      <td>NaN</td>\n",
       "      <td>World Conservation Union (IUCN), Gland and Cam...</td>\n",
       "    </tr>\n",
       "    <tr>\n",
       "      <th>26</th>\n",
       "      <td>4</td>\n",
       "      <td>Afghanistan</td>\n",
       "      <td>2019</td>\n",
       "      <td>Threatened Species: Total (number)</td>\n",
       "      <td>40</td>\n",
       "      <td>NaN</td>\n",
       "      <td>World Conservation Union (IUCN), Gland and Cam...</td>\n",
       "    </tr>\n",
       "    <tr>\n",
       "      <th>27</th>\n",
       "      <td>4</td>\n",
       "      <td>Afghanistan</td>\n",
       "      <td>2020</td>\n",
       "      <td>Threatened Species: Total (number)</td>\n",
       "      <td>40</td>\n",
       "      <td>NaN</td>\n",
       "      <td>World Conservation Union (IUCN), Gland and Cam...</td>\n",
       "    </tr>\n",
       "    <tr>\n",
       "      <th>28</th>\n",
       "      <td>248</td>\n",
       "      <td>Åland Islands</td>\n",
       "      <td>2020</td>\n",
       "      <td>Threatened Species: Vertebrates (number)</td>\n",
       "      <td>0</td>\n",
       "      <td>NaN</td>\n",
       "      <td>World Conservation Union (IUCN), Gland and Cam...</td>\n",
       "    </tr>\n",
       "    <tr>\n",
       "      <th>29</th>\n",
       "      <td>248</td>\n",
       "      <td>Åland Islands</td>\n",
       "      <td>2020</td>\n",
       "      <td>Threatened Species: Invertebrates (number)</td>\n",
       "      <td>0</td>\n",
       "      <td>NaN</td>\n",
       "      <td>World Conservation Union (IUCN), Gland and Cam...</td>\n",
       "    </tr>\n",
       "  </tbody>\n",
       "</table>\n",
       "</div>"
      ],
      "text/plain": [
       "    Region/Country/Area     Unnamed: 1  Year  \\\n",
       "0                     4    Afghanistan  2004   \n",
       "1                     4    Afghanistan  2010   \n",
       "2                     4    Afghanistan  2016   \n",
       "3                     4    Afghanistan  2017   \n",
       "4                     4    Afghanistan  2018   \n",
       "5                     4    Afghanistan  2019   \n",
       "6                     4    Afghanistan  2020   \n",
       "7                     4    Afghanistan  2004   \n",
       "8                     4    Afghanistan  2010   \n",
       "9                     4    Afghanistan  2016   \n",
       "10                    4    Afghanistan  2017   \n",
       "11                    4    Afghanistan  2018   \n",
       "12                    4    Afghanistan  2019   \n",
       "13                    4    Afghanistan  2020   \n",
       "14                    4    Afghanistan  2004   \n",
       "15                    4    Afghanistan  2010   \n",
       "16                    4    Afghanistan  2016   \n",
       "17                    4    Afghanistan  2017   \n",
       "18                    4    Afghanistan  2018   \n",
       "19                    4    Afghanistan  2019   \n",
       "20                    4    Afghanistan  2020   \n",
       "21                    4    Afghanistan  2004   \n",
       "22                    4    Afghanistan  2010   \n",
       "23                    4    Afghanistan  2016   \n",
       "24                    4    Afghanistan  2017   \n",
       "25                    4    Afghanistan  2018   \n",
       "26                    4    Afghanistan  2019   \n",
       "27                    4    Afghanistan  2020   \n",
       "28                  248  Åland Islands  2020   \n",
       "29                  248  Åland Islands  2020   \n",
       "\n",
       "                                        Series  Value Footnotes  \\\n",
       "0     Threatened Species: Vertebrates (number)     31       NaN   \n",
       "1     Threatened Species: Vertebrates (number)     31       NaN   \n",
       "2     Threatened Species: Vertebrates (number)     35       NaN   \n",
       "3     Threatened Species: Vertebrates (number)     35       NaN   \n",
       "4     Threatened Species: Vertebrates (number)     34       NaN   \n",
       "5     Threatened Species: Vertebrates (number)     33       NaN   \n",
       "6     Threatened Species: Vertebrates (number)     33       NaN   \n",
       "7   Threatened Species: Invertebrates (number)      1       NaN   \n",
       "8   Threatened Species: Invertebrates (number)      1       NaN   \n",
       "9   Threatened Species: Invertebrates (number)      2       NaN   \n",
       "10  Threatened Species: Invertebrates (number)      2       NaN   \n",
       "11  Threatened Species: Invertebrates (number)      2       NaN   \n",
       "12  Threatened Species: Invertebrates (number)      2       NaN   \n",
       "13  Threatened Species: Invertebrates (number)      2       NaN   \n",
       "14         Threatened Species: Plants (number)      1       NaN   \n",
       "15         Threatened Species: Plants (number)      2       NaN   \n",
       "16         Threatened Species: Plants (number)      5       NaN   \n",
       "17         Threatened Species: Plants (number)      5       NaN   \n",
       "18         Threatened Species: Plants (number)      5       NaN   \n",
       "19         Threatened Species: Plants (number)      5       NaN   \n",
       "20         Threatened Species: Plants (number)      5       NaN   \n",
       "21          Threatened Species: Total (number)     33       NaN   \n",
       "22          Threatened Species: Total (number)     34       NaN   \n",
       "23          Threatened Species: Total (number)     42       NaN   \n",
       "24          Threatened Species: Total (number)     42       NaN   \n",
       "25          Threatened Species: Total (number)     41       NaN   \n",
       "26          Threatened Species: Total (number)     40       NaN   \n",
       "27          Threatened Species: Total (number)     40       NaN   \n",
       "28    Threatened Species: Vertebrates (number)      0       NaN   \n",
       "29  Threatened Species: Invertebrates (number)      0       NaN   \n",
       "\n",
       "                                               Source  \n",
       "0   World Conservation Union (IUCN), Gland and Cam...  \n",
       "1   World Conservation Union (IUCN), Gland and Cam...  \n",
       "2   World Conservation Union (IUCN), Gland and Cam...  \n",
       "3   World Conservation Union (IUCN), Gland and Cam...  \n",
       "4   World Conservation Union (IUCN), Gland and Cam...  \n",
       "5   World Conservation Union (IUCN), Gland and Cam...  \n",
       "6   World Conservation Union (IUCN), Gland and Cam...  \n",
       "7   World Conservation Union (IUCN), Gland and Cam...  \n",
       "8   World Conservation Union (IUCN), Gland and Cam...  \n",
       "9   World Conservation Union (IUCN), Gland and Cam...  \n",
       "10  World Conservation Union (IUCN), Gland and Cam...  \n",
       "11  World Conservation Union (IUCN), Gland and Cam...  \n",
       "12  World Conservation Union (IUCN), Gland and Cam...  \n",
       "13  World Conservation Union (IUCN), Gland and Cam...  \n",
       "14  World Conservation Union (IUCN), Gland and Cam...  \n",
       "15  World Conservation Union (IUCN), Gland and Cam...  \n",
       "16  World Conservation Union (IUCN), Gland and Cam...  \n",
       "17  World Conservation Union (IUCN), Gland and Cam...  \n",
       "18  World Conservation Union (IUCN), Gland and Cam...  \n",
       "19  World Conservation Union (IUCN), Gland and Cam...  \n",
       "20  World Conservation Union (IUCN), Gland and Cam...  \n",
       "21  World Conservation Union (IUCN), Gland and Cam...  \n",
       "22  World Conservation Union (IUCN), Gland and Cam...  \n",
       "23  World Conservation Union (IUCN), Gland and Cam...  \n",
       "24  World Conservation Union (IUCN), Gland and Cam...  \n",
       "25  World Conservation Union (IUCN), Gland and Cam...  \n",
       "26  World Conservation Union (IUCN), Gland and Cam...  \n",
       "27  World Conservation Union (IUCN), Gland and Cam...  \n",
       "28  World Conservation Union (IUCN), Gland and Cam...  \n",
       "29  World Conservation Union (IUCN), Gland and Cam...  "
      ]
     },
     "metadata": {},
     "output_type": "display_data"
    },
    {
     "data": {
      "text/plain": [
       "False"
      ]
     },
     "metadata": {},
     "output_type": "display_data"
    },
    {
     "name": "stdout",
     "output_type": "stream",
     "text": [
      "<class 'pandas.core.frame.DataFrame'>\n",
      "RangeIndex: 6918 entries, 0 to 6917\n",
      "Data columns (total 5 columns):\n",
      " #   Column               Non-Null Count  Dtype \n",
      "---  ------               --------------  ----- \n",
      " 0   Region/Country/Area  6918 non-null   int64 \n",
      " 1   Country              6918 non-null   object\n",
      " 2   Year                 6918 non-null   int64 \n",
      " 3   Series               6918 non-null   object\n",
      " 4   Value                6918 non-null   int64 \n",
      "dtypes: int64(3), object(2)\n",
      "memory usage: 270.4+ KB\n"
     ]
    },
    {
     "data": {
      "text/plain": [
       "None"
      ]
     },
     "metadata": {},
     "output_type": "display_data"
    }
   ],
   "source": [
    "import pandas as pd\n",
    "import numpy as np\n",
    "\n",
    "url = 'https://github.com/magdagucman/programming-for-data/blob/main/Data%20Sets/Threatened%20Species.xlsx?raw=true'\n",
    "\n",
    "threatened_species_df = pd.read_excel(url)\n",
    "\n",
    "display(threatened_species_df.shape)\n",
    "\n",
    "# Display first 30 rows to understand the dataframe's shape\n",
    "display(threatened_species_df.head(30))\n",
    "\n",
    "\n",
    "# Rename the Unnamed column to 'Country'\n",
    "threatened_species_df = threatened_species_df.rename(columns={\"Unnamed: 1\": \"Country\"})\n",
    "\n",
    "# Drop the Footnotes and Source columns - these won't be needed for any calculations\n",
    "threatened_species_df = threatened_species_df.drop(columns=['Footnotes', 'Source'])\n",
    "\n",
    "# Check for NA/NaN/missing values across the dataframe\n",
    "display(threatened_species_df.isnull().values.any())\n",
    "\n",
    "# Display information about the dataframe\n",
    "display(threatened_species_df.info())"
   ]
  },
  {
   "cell_type": "code",
   "execution_count": 180,
   "id": "f4be884f",
   "metadata": {},
   "outputs": [
    {
     "data": {
      "text/html": [
       "<div>\n",
       "<style scoped>\n",
       "    .dataframe tbody tr th:only-of-type {\n",
       "        vertical-align: middle;\n",
       "    }\n",
       "\n",
       "    .dataframe tbody tr th {\n",
       "        vertical-align: top;\n",
       "    }\n",
       "\n",
       "    .dataframe thead th {\n",
       "        text-align: right;\n",
       "    }\n",
       "</style>\n",
       "<table border=\"1\" class=\"dataframe\">\n",
       "  <thead>\n",
       "    <tr style=\"text-align: right;\">\n",
       "      <th></th>\n",
       "      <th></th>\n",
       "      <th>count</th>\n",
       "      <th>mean</th>\n",
       "      <th>std</th>\n",
       "      <th>min</th>\n",
       "      <th>25%</th>\n",
       "      <th>50%</th>\n",
       "      <th>75%</th>\n",
       "      <th>max</th>\n",
       "    </tr>\n",
       "    <tr>\n",
       "      <th>Series</th>\n",
       "      <th>Year</th>\n",
       "      <th></th>\n",
       "      <th></th>\n",
       "      <th></th>\n",
       "      <th></th>\n",
       "      <th></th>\n",
       "      <th></th>\n",
       "      <th></th>\n",
       "      <th></th>\n",
       "    </tr>\n",
       "  </thead>\n",
       "  <tbody>\n",
       "    <tr>\n",
       "      <th rowspan=\"7\" valign=\"top\">Threatened Species: Invertebrates (number)</th>\n",
       "      <th>2004</th>\n",
       "      <td>238.0</td>\n",
       "      <td>10.861345</td>\n",
       "      <td>42.592784</td>\n",
       "      <td>0.0</td>\n",
       "      <td>0.00</td>\n",
       "      <td>2.0</td>\n",
       "      <td>8.00</td>\n",
       "      <td>561.0</td>\n",
       "    </tr>\n",
       "    <tr>\n",
       "      <th>2010</th>\n",
       "      <td>246.0</td>\n",
       "      <td>32.646341</td>\n",
       "      <td>60.379285</td>\n",
       "      <td>0.0</td>\n",
       "      <td>2.00</td>\n",
       "      <td>11.0</td>\n",
       "      <td>44.75</td>\n",
       "      <td>531.0</td>\n",
       "    </tr>\n",
       "    <tr>\n",
       "      <th>2016</th>\n",
       "      <td>249.0</td>\n",
       "      <td>42.032129</td>\n",
       "      <td>70.892574</td>\n",
       "      <td>0.0</td>\n",
       "      <td>5.00</td>\n",
       "      <td>14.0</td>\n",
       "      <td>57.00</td>\n",
       "      <td>578.0</td>\n",
       "    </tr>\n",
       "    <tr>\n",
       "      <th>2017</th>\n",
       "      <td>249.0</td>\n",
       "      <td>43.204819</td>\n",
       "      <td>72.646974</td>\n",
       "      <td>0.0</td>\n",
       "      <td>5.00</td>\n",
       "      <td>14.0</td>\n",
       "      <td>57.00</td>\n",
       "      <td>580.0</td>\n",
       "    </tr>\n",
       "    <tr>\n",
       "      <th>2018</th>\n",
       "      <td>248.0</td>\n",
       "      <td>45.145161</td>\n",
       "      <td>75.597452</td>\n",
       "      <td>0.0</td>\n",
       "      <td>5.00</td>\n",
       "      <td>14.5</td>\n",
       "      <td>60.25</td>\n",
       "      <td>580.0</td>\n",
       "    </tr>\n",
       "    <tr>\n",
       "      <th>2019</th>\n",
       "      <td>250.0</td>\n",
       "      <td>46.016000</td>\n",
       "      <td>76.788865</td>\n",
       "      <td>0.0</td>\n",
       "      <td>5.25</td>\n",
       "      <td>14.5</td>\n",
       "      <td>61.00</td>\n",
       "      <td>581.0</td>\n",
       "    </tr>\n",
       "    <tr>\n",
       "      <th>2020</th>\n",
       "      <td>249.0</td>\n",
       "      <td>46.907631</td>\n",
       "      <td>79.187631</td>\n",
       "      <td>0.0</td>\n",
       "      <td>6.00</td>\n",
       "      <td>15.0</td>\n",
       "      <td>61.00</td>\n",
       "      <td>586.0</td>\n",
       "    </tr>\n",
       "    <tr>\n",
       "      <th rowspan=\"7\" valign=\"top\">Threatened Species: Plants (number)</th>\n",
       "      <th>2004</th>\n",
       "      <td>238.0</td>\n",
       "      <td>45.079832</td>\n",
       "      <td>143.410206</td>\n",
       "      <td>0.0</td>\n",
       "      <td>0.25</td>\n",
       "      <td>3.0</td>\n",
       "      <td>26.75</td>\n",
       "      <td>1815.0</td>\n",
       "    </tr>\n",
       "    <tr>\n",
       "      <th>2010</th>\n",
       "      <td>246.0</td>\n",
       "      <td>46.390244</td>\n",
       "      <td>143.943647</td>\n",
       "      <td>0.0</td>\n",
       "      <td>1.00</td>\n",
       "      <td>4.0</td>\n",
       "      <td>28.50</td>\n",
       "      <td>1837.0</td>\n",
       "    </tr>\n",
       "    <tr>\n",
       "      <th>2016</th>\n",
       "      <td>249.0</td>\n",
       "      <td>61.004016</td>\n",
       "      <td>161.083766</td>\n",
       "      <td>0.0</td>\n",
       "      <td>2.00</td>\n",
       "      <td>11.0</td>\n",
       "      <td>45.00</td>\n",
       "      <td>1866.0</td>\n",
       "    </tr>\n",
       "    <tr>\n",
       "      <th>2017</th>\n",
       "      <td>249.0</td>\n",
       "      <td>61.590361</td>\n",
       "      <td>161.348628</td>\n",
       "      <td>0.0</td>\n",
       "      <td>2.00</td>\n",
       "      <td>11.0</td>\n",
       "      <td>46.00</td>\n",
       "      <td>1862.0</td>\n",
       "    </tr>\n",
       "    <tr>\n",
       "      <th>2018</th>\n",
       "      <td>249.0</td>\n",
       "      <td>67.441767</td>\n",
       "      <td>168.141255</td>\n",
       "      <td>0.0</td>\n",
       "      <td>3.00</td>\n",
       "      <td>13.0</td>\n",
       "      <td>54.00</td>\n",
       "      <td>1864.0</td>\n",
       "    </tr>\n",
       "    <tr>\n",
       "      <th>2019</th>\n",
       "      <td>249.0</td>\n",
       "      <td>78.433735</td>\n",
       "      <td>193.839091</td>\n",
       "      <td>0.0</td>\n",
       "      <td>4.00</td>\n",
       "      <td>19.0</td>\n",
       "      <td>68.00</td>\n",
       "      <td>1882.0</td>\n",
       "    </tr>\n",
       "    <tr>\n",
       "      <th>2020</th>\n",
       "      <td>249.0</td>\n",
       "      <td>89.975904</td>\n",
       "      <td>226.984882</td>\n",
       "      <td>0.0</td>\n",
       "      <td>5.00</td>\n",
       "      <td>22.0</td>\n",
       "      <td>76.00</td>\n",
       "      <td>2159.0</td>\n",
       "    </tr>\n",
       "    <tr>\n",
       "      <th rowspan=\"7\" valign=\"top\">Threatened Species: Total (number)</th>\n",
       "      <th>2004</th>\n",
       "      <td>238.0</td>\n",
       "      <td>107.794118</td>\n",
       "      <td>210.365714</td>\n",
       "      <td>1.0</td>\n",
       "      <td>22.25</td>\n",
       "      <td>40.5</td>\n",
       "      <td>92.75</td>\n",
       "      <td>2151.0</td>\n",
       "    </tr>\n",
       "    <tr>\n",
       "      <th>2010</th>\n",
       "      <td>246.0</td>\n",
       "      <td>144.918699</td>\n",
       "      <td>240.850317</td>\n",
       "      <td>0.0</td>\n",
       "      <td>35.25</td>\n",
       "      <td>67.0</td>\n",
       "      <td>143.00</td>\n",
       "      <td>2255.0</td>\n",
       "    </tr>\n",
       "    <tr>\n",
       "      <th>2016</th>\n",
       "      <td>249.0</td>\n",
       "      <td>184.714859</td>\n",
       "      <td>283.758720</td>\n",
       "      <td>1.0</td>\n",
       "      <td>50.00</td>\n",
       "      <td>90.0</td>\n",
       "      <td>178.00</td>\n",
       "      <td>2353.0</td>\n",
       "    </tr>\n",
       "    <tr>\n",
       "      <th>2017</th>\n",
       "      <td>249.0</td>\n",
       "      <td>188.148594</td>\n",
       "      <td>287.329539</td>\n",
       "      <td>1.0</td>\n",
       "      <td>52.00</td>\n",
       "      <td>91.0</td>\n",
       "      <td>184.00</td>\n",
       "      <td>2358.0</td>\n",
       "    </tr>\n",
       "    <tr>\n",
       "      <th>2018</th>\n",
       "      <td>249.0</td>\n",
       "      <td>198.184739</td>\n",
       "      <td>297.716751</td>\n",
       "      <td>1.0</td>\n",
       "      <td>53.00</td>\n",
       "      <td>99.0</td>\n",
       "      <td>191.00</td>\n",
       "      <td>2368.0</td>\n",
       "    </tr>\n",
       "    <tr>\n",
       "      <th>2019</th>\n",
       "      <td>250.0</td>\n",
       "      <td>213.020000</td>\n",
       "      <td>327.815766</td>\n",
       "      <td>1.0</td>\n",
       "      <td>57.25</td>\n",
       "      <td>104.0</td>\n",
       "      <td>219.75</td>\n",
       "      <td>2393.0</td>\n",
       "    </tr>\n",
       "    <tr>\n",
       "      <th>2020</th>\n",
       "      <td>249.0</td>\n",
       "      <td>230.116466</td>\n",
       "      <td>366.665850</td>\n",
       "      <td>1.0</td>\n",
       "      <td>61.00</td>\n",
       "      <td>108.0</td>\n",
       "      <td>236.00</td>\n",
       "      <td>2910.0</td>\n",
       "    </tr>\n",
       "    <tr>\n",
       "      <th rowspan=\"7\" valign=\"top\">Threatened Species: Vertebrates (number)</th>\n",
       "      <th>2004</th>\n",
       "      <td>238.0</td>\n",
       "      <td>51.852941</td>\n",
       "      <td>70.093544</td>\n",
       "      <td>1.0</td>\n",
       "      <td>18.00</td>\n",
       "      <td>28.5</td>\n",
       "      <td>49.00</td>\n",
       "      <td>446.0</td>\n",
       "    </tr>\n",
       "    <tr>\n",
       "      <th>2010</th>\n",
       "      <td>246.0</td>\n",
       "      <td>65.882114</td>\n",
       "      <td>86.505293</td>\n",
       "      <td>0.0</td>\n",
       "      <td>20.00</td>\n",
       "      <td>37.0</td>\n",
       "      <td>76.00</td>\n",
       "      <td>609.0</td>\n",
       "    </tr>\n",
       "    <tr>\n",
       "      <th>2016</th>\n",
       "      <td>249.0</td>\n",
       "      <td>81.678715</td>\n",
       "      <td>101.883993</td>\n",
       "      <td>0.0</td>\n",
       "      <td>27.00</td>\n",
       "      <td>47.0</td>\n",
       "      <td>93.00</td>\n",
       "      <td>648.0</td>\n",
       "    </tr>\n",
       "    <tr>\n",
       "      <th>2017</th>\n",
       "      <td>249.0</td>\n",
       "      <td>83.353414</td>\n",
       "      <td>103.428932</td>\n",
       "      <td>0.0</td>\n",
       "      <td>27.00</td>\n",
       "      <td>47.0</td>\n",
       "      <td>94.00</td>\n",
       "      <td>655.0</td>\n",
       "    </tr>\n",
       "    <tr>\n",
       "      <th>2018</th>\n",
       "      <td>249.0</td>\n",
       "      <td>85.550201</td>\n",
       "      <td>105.442111</td>\n",
       "      <td>0.0</td>\n",
       "      <td>28.00</td>\n",
       "      <td>48.0</td>\n",
       "      <td>95.00</td>\n",
       "      <td>657.0</td>\n",
       "    </tr>\n",
       "    <tr>\n",
       "      <th>2019</th>\n",
       "      <td>250.0</td>\n",
       "      <td>88.884000</td>\n",
       "      <td>110.580281</td>\n",
       "      <td>0.0</td>\n",
       "      <td>30.00</td>\n",
       "      <td>50.0</td>\n",
       "      <td>97.50</td>\n",
       "      <td>736.0</td>\n",
       "    </tr>\n",
       "    <tr>\n",
       "      <th>2020</th>\n",
       "      <td>249.0</td>\n",
       "      <td>93.232932</td>\n",
       "      <td>114.690335</td>\n",
       "      <td>0.0</td>\n",
       "      <td>32.00</td>\n",
       "      <td>54.0</td>\n",
       "      <td>101.00</td>\n",
       "      <td>751.0</td>\n",
       "    </tr>\n",
       "  </tbody>\n",
       "</table>\n",
       "</div>"
      ],
      "text/plain": [
       "                                                 count        mean  \\\n",
       "Series                                     Year                      \n",
       "Threatened Species: Invertebrates (number) 2004  238.0   10.861345   \n",
       "                                           2010  246.0   32.646341   \n",
       "                                           2016  249.0   42.032129   \n",
       "                                           2017  249.0   43.204819   \n",
       "                                           2018  248.0   45.145161   \n",
       "                                           2019  250.0   46.016000   \n",
       "                                           2020  249.0   46.907631   \n",
       "Threatened Species: Plants (number)        2004  238.0   45.079832   \n",
       "                                           2010  246.0   46.390244   \n",
       "                                           2016  249.0   61.004016   \n",
       "                                           2017  249.0   61.590361   \n",
       "                                           2018  249.0   67.441767   \n",
       "                                           2019  249.0   78.433735   \n",
       "                                           2020  249.0   89.975904   \n",
       "Threatened Species: Total (number)         2004  238.0  107.794118   \n",
       "                                           2010  246.0  144.918699   \n",
       "                                           2016  249.0  184.714859   \n",
       "                                           2017  249.0  188.148594   \n",
       "                                           2018  249.0  198.184739   \n",
       "                                           2019  250.0  213.020000   \n",
       "                                           2020  249.0  230.116466   \n",
       "Threatened Species: Vertebrates (number)   2004  238.0   51.852941   \n",
       "                                           2010  246.0   65.882114   \n",
       "                                           2016  249.0   81.678715   \n",
       "                                           2017  249.0   83.353414   \n",
       "                                           2018  249.0   85.550201   \n",
       "                                           2019  250.0   88.884000   \n",
       "                                           2020  249.0   93.232932   \n",
       "\n",
       "                                                        std  min    25%  \\\n",
       "Series                                     Year                           \n",
       "Threatened Species: Invertebrates (number) 2004   42.592784  0.0   0.00   \n",
       "                                           2010   60.379285  0.0   2.00   \n",
       "                                           2016   70.892574  0.0   5.00   \n",
       "                                           2017   72.646974  0.0   5.00   \n",
       "                                           2018   75.597452  0.0   5.00   \n",
       "                                           2019   76.788865  0.0   5.25   \n",
       "                                           2020   79.187631  0.0   6.00   \n",
       "Threatened Species: Plants (number)        2004  143.410206  0.0   0.25   \n",
       "                                           2010  143.943647  0.0   1.00   \n",
       "                                           2016  161.083766  0.0   2.00   \n",
       "                                           2017  161.348628  0.0   2.00   \n",
       "                                           2018  168.141255  0.0   3.00   \n",
       "                                           2019  193.839091  0.0   4.00   \n",
       "                                           2020  226.984882  0.0   5.00   \n",
       "Threatened Species: Total (number)         2004  210.365714  1.0  22.25   \n",
       "                                           2010  240.850317  0.0  35.25   \n",
       "                                           2016  283.758720  1.0  50.00   \n",
       "                                           2017  287.329539  1.0  52.00   \n",
       "                                           2018  297.716751  1.0  53.00   \n",
       "                                           2019  327.815766  1.0  57.25   \n",
       "                                           2020  366.665850  1.0  61.00   \n",
       "Threatened Species: Vertebrates (number)   2004   70.093544  1.0  18.00   \n",
       "                                           2010   86.505293  0.0  20.00   \n",
       "                                           2016  101.883993  0.0  27.00   \n",
       "                                           2017  103.428932  0.0  27.00   \n",
       "                                           2018  105.442111  0.0  28.00   \n",
       "                                           2019  110.580281  0.0  30.00   \n",
       "                                           2020  114.690335  0.0  32.00   \n",
       "\n",
       "                                                   50%     75%     max  \n",
       "Series                                     Year                         \n",
       "Threatened Species: Invertebrates (number) 2004    2.0    8.00   561.0  \n",
       "                                           2010   11.0   44.75   531.0  \n",
       "                                           2016   14.0   57.00   578.0  \n",
       "                                           2017   14.0   57.00   580.0  \n",
       "                                           2018   14.5   60.25   580.0  \n",
       "                                           2019   14.5   61.00   581.0  \n",
       "                                           2020   15.0   61.00   586.0  \n",
       "Threatened Species: Plants (number)        2004    3.0   26.75  1815.0  \n",
       "                                           2010    4.0   28.50  1837.0  \n",
       "                                           2016   11.0   45.00  1866.0  \n",
       "                                           2017   11.0   46.00  1862.0  \n",
       "                                           2018   13.0   54.00  1864.0  \n",
       "                                           2019   19.0   68.00  1882.0  \n",
       "                                           2020   22.0   76.00  2159.0  \n",
       "Threatened Species: Total (number)         2004   40.5   92.75  2151.0  \n",
       "                                           2010   67.0  143.00  2255.0  \n",
       "                                           2016   90.0  178.00  2353.0  \n",
       "                                           2017   91.0  184.00  2358.0  \n",
       "                                           2018   99.0  191.00  2368.0  \n",
       "                                           2019  104.0  219.75  2393.0  \n",
       "                                           2020  108.0  236.00  2910.0  \n",
       "Threatened Species: Vertebrates (number)   2004   28.5   49.00   446.0  \n",
       "                                           2010   37.0   76.00   609.0  \n",
       "                                           2016   47.0   93.00   648.0  \n",
       "                                           2017   47.0   94.00   655.0  \n",
       "                                           2018   48.0   95.00   657.0  \n",
       "                                           2019   50.0   97.50   736.0  \n",
       "                                           2020   54.0  101.00   751.0  "
      ]
     },
     "metadata": {},
     "output_type": "display_data"
    }
   ],
   "source": [
    "# Display threatened species grouped by series (plants, invertebrates, vertebrates, total) and year, to compare the statistics\n",
    "# on threatened species between the years\n",
    "display(threatened_species_df.groupby([\"Series\", \"Year\"])['Value'].describe())"
   ]
  },
  {
   "cell_type": "code",
   "execution_count": 181,
   "id": "60a3b549",
   "metadata": {},
   "outputs": [
    {
     "data": {
      "text/plain": [
       "253"
      ]
     },
     "metadata": {},
     "output_type": "display_data"
    },
    {
     "data": {
      "text/plain": [
       "'Afghanistan'"
      ]
     },
     "metadata": {},
     "output_type": "display_data"
    },
    {
     "data": {
      "text/plain": [
       "'Åland Islands'"
      ]
     },
     "metadata": {},
     "output_type": "display_data"
    },
    {
     "data": {
      "text/plain": [
       "'Albania'"
      ]
     },
     "metadata": {},
     "output_type": "display_data"
    },
    {
     "data": {
      "text/plain": [
       "'Algeria'"
      ]
     },
     "metadata": {},
     "output_type": "display_data"
    },
    {
     "data": {
      "text/plain": [
       "'American Samoa'"
      ]
     },
     "metadata": {},
     "output_type": "display_data"
    },
    {
     "data": {
      "text/plain": [
       "'Andorra'"
      ]
     },
     "metadata": {},
     "output_type": "display_data"
    },
    {
     "data": {
      "text/plain": [
       "'Angola'"
      ]
     },
     "metadata": {},
     "output_type": "display_data"
    },
    {
     "data": {
      "text/plain": [
       "'Anguilla'"
      ]
     },
     "metadata": {},
     "output_type": "display_data"
    },
    {
     "data": {
      "text/plain": [
       "'Antarctica'"
      ]
     },
     "metadata": {},
     "output_type": "display_data"
    },
    {
     "data": {
      "text/plain": [
       "'Antigua and Barbuda'"
      ]
     },
     "metadata": {},
     "output_type": "display_data"
    },
    {
     "data": {
      "text/plain": [
       "'Areas n.e.s'"
      ]
     },
     "metadata": {},
     "output_type": "display_data"
    },
    {
     "data": {
      "text/plain": [
       "'Argentina'"
      ]
     },
     "metadata": {},
     "output_type": "display_data"
    },
    {
     "data": {
      "text/plain": [
       "'Armenia'"
      ]
     },
     "metadata": {},
     "output_type": "display_data"
    },
    {
     "data": {
      "text/plain": [
       "'Aruba'"
      ]
     },
     "metadata": {},
     "output_type": "display_data"
    },
    {
     "data": {
      "text/plain": [
       "'Australia'"
      ]
     },
     "metadata": {},
     "output_type": "display_data"
    },
    {
     "data": {
      "text/plain": [
       "'Austria'"
      ]
     },
     "metadata": {},
     "output_type": "display_data"
    },
    {
     "data": {
      "text/plain": [
       "'Azerbaijan'"
      ]
     },
     "metadata": {},
     "output_type": "display_data"
    },
    {
     "data": {
      "text/plain": [
       "'Bahamas'"
      ]
     },
     "metadata": {},
     "output_type": "display_data"
    },
    {
     "data": {
      "text/plain": [
       "'Bahrain'"
      ]
     },
     "metadata": {},
     "output_type": "display_data"
    },
    {
     "data": {
      "text/plain": [
       "'Bangladesh'"
      ]
     },
     "metadata": {},
     "output_type": "display_data"
    },
    {
     "data": {
      "text/plain": [
       "'Barbados'"
      ]
     },
     "metadata": {},
     "output_type": "display_data"
    },
    {
     "data": {
      "text/plain": [
       "'Belarus'"
      ]
     },
     "metadata": {},
     "output_type": "display_data"
    },
    {
     "data": {
      "text/plain": [
       "'Belgium'"
      ]
     },
     "metadata": {},
     "output_type": "display_data"
    },
    {
     "data": {
      "text/plain": [
       "'Belize'"
      ]
     },
     "metadata": {},
     "output_type": "display_data"
    },
    {
     "data": {
      "text/plain": [
       "'Benin'"
      ]
     },
     "metadata": {},
     "output_type": "display_data"
    },
    {
     "data": {
      "text/plain": [
       "'Bermuda'"
      ]
     },
     "metadata": {},
     "output_type": "display_data"
    },
    {
     "data": {
      "text/plain": [
       "'Bhutan'"
      ]
     },
     "metadata": {},
     "output_type": "display_data"
    },
    {
     "data": {
      "text/plain": [
       "'Bolivia (Plurin. State of)'"
      ]
     },
     "metadata": {},
     "output_type": "display_data"
    },
    {
     "data": {
      "text/plain": [
       "'Bonaire, St. Eustatius & Saba'"
      ]
     },
     "metadata": {},
     "output_type": "display_data"
    },
    {
     "data": {
      "text/plain": [
       "'Bosnia and Herzegovina'"
      ]
     },
     "metadata": {},
     "output_type": "display_data"
    },
    {
     "data": {
      "text/plain": [
       "'Botswana'"
      ]
     },
     "metadata": {},
     "output_type": "display_data"
    },
    {
     "data": {
      "text/plain": [
       "'Bouvet Island'"
      ]
     },
     "metadata": {},
     "output_type": "display_data"
    },
    {
     "data": {
      "text/plain": [
       "'Brazil'"
      ]
     },
     "metadata": {},
     "output_type": "display_data"
    },
    {
     "data": {
      "text/plain": [
       "'British Indian Ocean Terr.'"
      ]
     },
     "metadata": {},
     "output_type": "display_data"
    },
    {
     "data": {
      "text/plain": [
       "'British Virgin Islands'"
      ]
     },
     "metadata": {},
     "output_type": "display_data"
    },
    {
     "data": {
      "text/plain": [
       "'Brunei Darussalam'"
      ]
     },
     "metadata": {},
     "output_type": "display_data"
    },
    {
     "data": {
      "text/plain": [
       "'Bulgaria'"
      ]
     },
     "metadata": {},
     "output_type": "display_data"
    },
    {
     "data": {
      "text/plain": [
       "'Burkina Faso'"
      ]
     },
     "metadata": {},
     "output_type": "display_data"
    },
    {
     "data": {
      "text/plain": [
       "'Burundi'"
      ]
     },
     "metadata": {},
     "output_type": "display_data"
    },
    {
     "data": {
      "text/plain": [
       "'Cabo Verde'"
      ]
     },
     "metadata": {},
     "output_type": "display_data"
    },
    {
     "data": {
      "text/plain": [
       "'Cambodia'"
      ]
     },
     "metadata": {},
     "output_type": "display_data"
    },
    {
     "data": {
      "text/plain": [
       "'Cameroon'"
      ]
     },
     "metadata": {},
     "output_type": "display_data"
    },
    {
     "data": {
      "text/plain": [
       "'Canada'"
      ]
     },
     "metadata": {},
     "output_type": "display_data"
    },
    {
     "data": {
      "text/plain": [
       "'Cayman Islands'"
      ]
     },
     "metadata": {},
     "output_type": "display_data"
    },
    {
     "data": {
      "text/plain": [
       "'Central African Republic'"
      ]
     },
     "metadata": {},
     "output_type": "display_data"
    },
    {
     "data": {
      "text/plain": [
       "'Chad'"
      ]
     },
     "metadata": {},
     "output_type": "display_data"
    },
    {
     "data": {
      "text/plain": [
       "'Chile'"
      ]
     },
     "metadata": {},
     "output_type": "display_data"
    },
    {
     "data": {
      "text/plain": [
       "'China'"
      ]
     },
     "metadata": {},
     "output_type": "display_data"
    },
    {
     "data": {
      "text/plain": [
       "'China, Hong Kong SAR'"
      ]
     },
     "metadata": {},
     "output_type": "display_data"
    },
    {
     "data": {
      "text/plain": [
       "'China, Macao SAR'"
      ]
     },
     "metadata": {},
     "output_type": "display_data"
    },
    {
     "data": {
      "text/plain": [
       "'Christmas Island'"
      ]
     },
     "metadata": {},
     "output_type": "display_data"
    },
    {
     "data": {
      "text/plain": [
       "'Cocos (Keeling) Islands'"
      ]
     },
     "metadata": {},
     "output_type": "display_data"
    },
    {
     "data": {
      "text/plain": [
       "'Colombia'"
      ]
     },
     "metadata": {},
     "output_type": "display_data"
    },
    {
     "data": {
      "text/plain": [
       "'Comoros'"
      ]
     },
     "metadata": {},
     "output_type": "display_data"
    },
    {
     "data": {
      "text/plain": [
       "'Congo'"
      ]
     },
     "metadata": {},
     "output_type": "display_data"
    },
    {
     "data": {
      "text/plain": [
       "'Cook Islands'"
      ]
     },
     "metadata": {},
     "output_type": "display_data"
    },
    {
     "data": {
      "text/plain": [
       "'Costa Rica'"
      ]
     },
     "metadata": {},
     "output_type": "display_data"
    },
    {
     "data": {
      "text/plain": [
       "'Côte d’Ivoire'"
      ]
     },
     "metadata": {},
     "output_type": "display_data"
    },
    {
     "data": {
      "text/plain": [
       "'Croatia'"
      ]
     },
     "metadata": {},
     "output_type": "display_data"
    },
    {
     "data": {
      "text/plain": [
       "'Cuba'"
      ]
     },
     "metadata": {},
     "output_type": "display_data"
    },
    {
     "data": {
      "text/plain": [
       "'Curaçao'"
      ]
     },
     "metadata": {},
     "output_type": "display_data"
    },
    {
     "data": {
      "text/plain": [
       "'Cyprus'"
      ]
     },
     "metadata": {},
     "output_type": "display_data"
    },
    {
     "data": {
      "text/plain": [
       "'Czechia'"
      ]
     },
     "metadata": {},
     "output_type": "display_data"
    },
    {
     "data": {
      "text/plain": [
       "\"Dem. People's Rep. Korea\""
      ]
     },
     "metadata": {},
     "output_type": "display_data"
    },
    {
     "data": {
      "text/plain": [
       "'Dem. Rep. of the Congo'"
      ]
     },
     "metadata": {},
     "output_type": "display_data"
    },
    {
     "data": {
      "text/plain": [
       "'Denmark'"
      ]
     },
     "metadata": {},
     "output_type": "display_data"
    },
    {
     "data": {
      "text/plain": [
       "'Djibouti'"
      ]
     },
     "metadata": {},
     "output_type": "display_data"
    },
    {
     "data": {
      "text/plain": [
       "'Dominica'"
      ]
     },
     "metadata": {},
     "output_type": "display_data"
    },
    {
     "data": {
      "text/plain": [
       "'Dominican Republic'"
      ]
     },
     "metadata": {},
     "output_type": "display_data"
    },
    {
     "data": {
      "text/plain": [
       "'Ecuador'"
      ]
     },
     "metadata": {},
     "output_type": "display_data"
    },
    {
     "data": {
      "text/plain": [
       "'Egypt'"
      ]
     },
     "metadata": {},
     "output_type": "display_data"
    },
    {
     "data": {
      "text/plain": [
       "'El Salvador'"
      ]
     },
     "metadata": {},
     "output_type": "display_data"
    },
    {
     "data": {
      "text/plain": [
       "'Equatorial Guinea'"
      ]
     },
     "metadata": {},
     "output_type": "display_data"
    },
    {
     "data": {
      "text/plain": [
       "'Eritrea'"
      ]
     },
     "metadata": {},
     "output_type": "display_data"
    },
    {
     "data": {
      "text/plain": [
       "'Estonia'"
      ]
     },
     "metadata": {},
     "output_type": "display_data"
    },
    {
     "data": {
      "text/plain": [
       "'Eswatini'"
      ]
     },
     "metadata": {},
     "output_type": "display_data"
    },
    {
     "data": {
      "text/plain": [
       "'Ethiopia'"
      ]
     },
     "metadata": {},
     "output_type": "display_data"
    },
    {
     "data": {
      "text/plain": [
       "'Falkland Islands (Malvinas)'"
      ]
     },
     "metadata": {},
     "output_type": "display_data"
    },
    {
     "data": {
      "text/plain": [
       "'Faroe Islands'"
      ]
     },
     "metadata": {},
     "output_type": "display_data"
    },
    {
     "data": {
      "text/plain": [
       "'Fiji'"
      ]
     },
     "metadata": {},
     "output_type": "display_data"
    },
    {
     "data": {
      "text/plain": [
       "'Finland'"
      ]
     },
     "metadata": {},
     "output_type": "display_data"
    },
    {
     "data": {
      "text/plain": [
       "'France'"
      ]
     },
     "metadata": {},
     "output_type": "display_data"
    },
    {
     "data": {
      "text/plain": [
       "'French Guiana'"
      ]
     },
     "metadata": {},
     "output_type": "display_data"
    },
    {
     "data": {
      "text/plain": [
       "'French Polynesia'"
      ]
     },
     "metadata": {},
     "output_type": "display_data"
    },
    {
     "data": {
      "text/plain": [
       "'French Southern Territories'"
      ]
     },
     "metadata": {},
     "output_type": "display_data"
    },
    {
     "data": {
      "text/plain": [
       "'Gabon'"
      ]
     },
     "metadata": {},
     "output_type": "display_data"
    },
    {
     "data": {
      "text/plain": [
       "'Gambia'"
      ]
     },
     "metadata": {},
     "output_type": "display_data"
    },
    {
     "data": {
      "text/plain": [
       "'Georgia'"
      ]
     },
     "metadata": {},
     "output_type": "display_data"
    },
    {
     "data": {
      "text/plain": [
       "'Germany'"
      ]
     },
     "metadata": {},
     "output_type": "display_data"
    },
    {
     "data": {
      "text/plain": [
       "'Ghana'"
      ]
     },
     "metadata": {},
     "output_type": "display_data"
    },
    {
     "data": {
      "text/plain": [
       "'Gibraltar'"
      ]
     },
     "metadata": {},
     "output_type": "display_data"
    },
    {
     "data": {
      "text/plain": [
       "'Greece'"
      ]
     },
     "metadata": {},
     "output_type": "display_data"
    },
    {
     "data": {
      "text/plain": [
       "'Greenland'"
      ]
     },
     "metadata": {},
     "output_type": "display_data"
    },
    {
     "data": {
      "text/plain": [
       "'Grenada'"
      ]
     },
     "metadata": {},
     "output_type": "display_data"
    },
    {
     "data": {
      "text/plain": [
       "'Guadeloupe'"
      ]
     },
     "metadata": {},
     "output_type": "display_data"
    },
    {
     "data": {
      "text/plain": [
       "'Guam'"
      ]
     },
     "metadata": {},
     "output_type": "display_data"
    },
    {
     "data": {
      "text/plain": [
       "'Guatemala'"
      ]
     },
     "metadata": {},
     "output_type": "display_data"
    },
    {
     "data": {
      "text/plain": [
       "'Guernsey'"
      ]
     },
     "metadata": {},
     "output_type": "display_data"
    },
    {
     "data": {
      "text/plain": [
       "'Guinea'"
      ]
     },
     "metadata": {},
     "output_type": "display_data"
    },
    {
     "data": {
      "text/plain": [
       "'Guinea-Bissau'"
      ]
     },
     "metadata": {},
     "output_type": "display_data"
    },
    {
     "data": {
      "text/plain": [
       "'Guyana'"
      ]
     },
     "metadata": {},
     "output_type": "display_data"
    },
    {
     "data": {
      "text/plain": [
       "'Haiti'"
      ]
     },
     "metadata": {},
     "output_type": "display_data"
    },
    {
     "data": {
      "text/plain": [
       "'Heard Is. and McDonald Is.'"
      ]
     },
     "metadata": {},
     "output_type": "display_data"
    },
    {
     "data": {
      "text/plain": [
       "'Holy See'"
      ]
     },
     "metadata": {},
     "output_type": "display_data"
    },
    {
     "data": {
      "text/plain": [
       "'Honduras'"
      ]
     },
     "metadata": {},
     "output_type": "display_data"
    },
    {
     "data": {
      "text/plain": [
       "'Hungary'"
      ]
     },
     "metadata": {},
     "output_type": "display_data"
    },
    {
     "data": {
      "text/plain": [
       "'Iceland'"
      ]
     },
     "metadata": {},
     "output_type": "display_data"
    },
    {
     "data": {
      "text/plain": [
       "'India'"
      ]
     },
     "metadata": {},
     "output_type": "display_data"
    },
    {
     "data": {
      "text/plain": [
       "'Indonesia'"
      ]
     },
     "metadata": {},
     "output_type": "display_data"
    },
    {
     "data": {
      "text/plain": [
       "'Iran (Islamic Republic of)'"
      ]
     },
     "metadata": {},
     "output_type": "display_data"
    },
    {
     "data": {
      "text/plain": [
       "'Iraq'"
      ]
     },
     "metadata": {},
     "output_type": "display_data"
    },
    {
     "data": {
      "text/plain": [
       "'Ireland'"
      ]
     },
     "metadata": {},
     "output_type": "display_data"
    },
    {
     "data": {
      "text/plain": [
       "'Isle of Man'"
      ]
     },
     "metadata": {},
     "output_type": "display_data"
    },
    {
     "data": {
      "text/plain": [
       "'Israel'"
      ]
     },
     "metadata": {},
     "output_type": "display_data"
    },
    {
     "data": {
      "text/plain": [
       "'Italy'"
      ]
     },
     "metadata": {},
     "output_type": "display_data"
    },
    {
     "data": {
      "text/plain": [
       "'Jamaica'"
      ]
     },
     "metadata": {},
     "output_type": "display_data"
    },
    {
     "data": {
      "text/plain": [
       "'Japan'"
      ]
     },
     "metadata": {},
     "output_type": "display_data"
    },
    {
     "data": {
      "text/plain": [
       "'Jersey'"
      ]
     },
     "metadata": {},
     "output_type": "display_data"
    },
    {
     "data": {
      "text/plain": [
       "'Jordan'"
      ]
     },
     "metadata": {},
     "output_type": "display_data"
    },
    {
     "data": {
      "text/plain": [
       "'Kazakhstan'"
      ]
     },
     "metadata": {},
     "output_type": "display_data"
    },
    {
     "data": {
      "text/plain": [
       "'Kenya'"
      ]
     },
     "metadata": {},
     "output_type": "display_data"
    },
    {
     "data": {
      "text/plain": [
       "'Kiribati'"
      ]
     },
     "metadata": {},
     "output_type": "display_data"
    },
    {
     "data": {
      "text/plain": [
       "'Kuwait'"
      ]
     },
     "metadata": {},
     "output_type": "display_data"
    },
    {
     "data": {
      "text/plain": [
       "'Kyrgyzstan'"
      ]
     },
     "metadata": {},
     "output_type": "display_data"
    },
    {
     "data": {
      "text/plain": [
       "\"Lao People's Dem. Rep.\""
      ]
     },
     "metadata": {},
     "output_type": "display_data"
    },
    {
     "data": {
      "text/plain": [
       "'Latvia'"
      ]
     },
     "metadata": {},
     "output_type": "display_data"
    },
    {
     "data": {
      "text/plain": [
       "'Lebanon'"
      ]
     },
     "metadata": {},
     "output_type": "display_data"
    },
    {
     "data": {
      "text/plain": [
       "'Lesotho'"
      ]
     },
     "metadata": {},
     "output_type": "display_data"
    },
    {
     "data": {
      "text/plain": [
       "'Liberia'"
      ]
     },
     "metadata": {},
     "output_type": "display_data"
    },
    {
     "data": {
      "text/plain": [
       "'Libya'"
      ]
     },
     "metadata": {},
     "output_type": "display_data"
    },
    {
     "data": {
      "text/plain": [
       "'Liechtenstein'"
      ]
     },
     "metadata": {},
     "output_type": "display_data"
    },
    {
     "data": {
      "text/plain": [
       "'Lithuania'"
      ]
     },
     "metadata": {},
     "output_type": "display_data"
    },
    {
     "data": {
      "text/plain": [
       "'Luxembourg'"
      ]
     },
     "metadata": {},
     "output_type": "display_data"
    },
    {
     "data": {
      "text/plain": [
       "'Madagascar'"
      ]
     },
     "metadata": {},
     "output_type": "display_data"
    },
    {
     "data": {
      "text/plain": [
       "'Malawi'"
      ]
     },
     "metadata": {},
     "output_type": "display_data"
    },
    {
     "data": {
      "text/plain": [
       "'Malaysia'"
      ]
     },
     "metadata": {},
     "output_type": "display_data"
    },
    {
     "data": {
      "text/plain": [
       "'Maldives'"
      ]
     },
     "metadata": {},
     "output_type": "display_data"
    },
    {
     "data": {
      "text/plain": [
       "'Mali'"
      ]
     },
     "metadata": {},
     "output_type": "display_data"
    },
    {
     "data": {
      "text/plain": [
       "'Malta'"
      ]
     },
     "metadata": {},
     "output_type": "display_data"
    },
    {
     "data": {
      "text/plain": [
       "'Marshall Islands'"
      ]
     },
     "metadata": {},
     "output_type": "display_data"
    },
    {
     "data": {
      "text/plain": [
       "'Martinique'"
      ]
     },
     "metadata": {},
     "output_type": "display_data"
    },
    {
     "data": {
      "text/plain": [
       "'Mauritania'"
      ]
     },
     "metadata": {},
     "output_type": "display_data"
    },
    {
     "data": {
      "text/plain": [
       "'Mauritius'"
      ]
     },
     "metadata": {},
     "output_type": "display_data"
    },
    {
     "data": {
      "text/plain": [
       "'Mayotte'"
      ]
     },
     "metadata": {},
     "output_type": "display_data"
    },
    {
     "data": {
      "text/plain": [
       "'Mexico'"
      ]
     },
     "metadata": {},
     "output_type": "display_data"
    },
    {
     "data": {
      "text/plain": [
       "'Micronesia (Fed. States of)'"
      ]
     },
     "metadata": {},
     "output_type": "display_data"
    },
    {
     "data": {
      "text/plain": [
       "'Monaco'"
      ]
     },
     "metadata": {},
     "output_type": "display_data"
    },
    {
     "data": {
      "text/plain": [
       "'Mongolia'"
      ]
     },
     "metadata": {},
     "output_type": "display_data"
    },
    {
     "data": {
      "text/plain": [
       "'Montenegro'"
      ]
     },
     "metadata": {},
     "output_type": "display_data"
    },
    {
     "data": {
      "text/plain": [
       "'Montserrat'"
      ]
     },
     "metadata": {},
     "output_type": "display_data"
    },
    {
     "data": {
      "text/plain": [
       "'Morocco'"
      ]
     },
     "metadata": {},
     "output_type": "display_data"
    },
    {
     "data": {
      "text/plain": [
       "'Mozambique'"
      ]
     },
     "metadata": {},
     "output_type": "display_data"
    },
    {
     "data": {
      "text/plain": [
       "'Myanmar'"
      ]
     },
     "metadata": {},
     "output_type": "display_data"
    },
    {
     "data": {
      "text/plain": [
       "'Namibia'"
      ]
     },
     "metadata": {},
     "output_type": "display_data"
    },
    {
     "data": {
      "text/plain": [
       "'Nauru'"
      ]
     },
     "metadata": {},
     "output_type": "display_data"
    },
    {
     "data": {
      "text/plain": [
       "'Nepal'"
      ]
     },
     "metadata": {},
     "output_type": "display_data"
    },
    {
     "data": {
      "text/plain": [
       "'Netherlands'"
      ]
     },
     "metadata": {},
     "output_type": "display_data"
    },
    {
     "data": {
      "text/plain": [
       "'Netherlands Antilles [former]'"
      ]
     },
     "metadata": {},
     "output_type": "display_data"
    },
    {
     "data": {
      "text/plain": [
       "'New Caledonia'"
      ]
     },
     "metadata": {},
     "output_type": "display_data"
    },
    {
     "data": {
      "text/plain": [
       "'New Zealand'"
      ]
     },
     "metadata": {},
     "output_type": "display_data"
    },
    {
     "data": {
      "text/plain": [
       "'Nicaragua'"
      ]
     },
     "metadata": {},
     "output_type": "display_data"
    },
    {
     "data": {
      "text/plain": [
       "'Niger'"
      ]
     },
     "metadata": {},
     "output_type": "display_data"
    },
    {
     "data": {
      "text/plain": [
       "'Nigeria'"
      ]
     },
     "metadata": {},
     "output_type": "display_data"
    },
    {
     "data": {
      "text/plain": [
       "'Niue'"
      ]
     },
     "metadata": {},
     "output_type": "display_data"
    },
    {
     "data": {
      "text/plain": [
       "'Norfolk Island'"
      ]
     },
     "metadata": {},
     "output_type": "display_data"
    },
    {
     "data": {
      "text/plain": [
       "'North Macedonia'"
      ]
     },
     "metadata": {},
     "output_type": "display_data"
    },
    {
     "data": {
      "text/plain": [
       "'Northern Mariana Islands'"
      ]
     },
     "metadata": {},
     "output_type": "display_data"
    },
    {
     "data": {
      "text/plain": [
       "'Norway'"
      ]
     },
     "metadata": {},
     "output_type": "display_data"
    },
    {
     "data": {
      "text/plain": [
       "'Oman'"
      ]
     },
     "metadata": {},
     "output_type": "display_data"
    },
    {
     "data": {
      "text/plain": [
       "'Other non-specified areas'"
      ]
     },
     "metadata": {},
     "output_type": "display_data"
    },
    {
     "data": {
      "text/plain": [
       "'Pakistan'"
      ]
     },
     "metadata": {},
     "output_type": "display_data"
    },
    {
     "data": {
      "text/plain": [
       "'Palau'"
      ]
     },
     "metadata": {},
     "output_type": "display_data"
    },
    {
     "data": {
      "text/plain": [
       "'Panama'"
      ]
     },
     "metadata": {},
     "output_type": "display_data"
    },
    {
     "data": {
      "text/plain": [
       "'Papua New Guinea'"
      ]
     },
     "metadata": {},
     "output_type": "display_data"
    },
    {
     "data": {
      "text/plain": [
       "'Paraguay'"
      ]
     },
     "metadata": {},
     "output_type": "display_data"
    },
    {
     "data": {
      "text/plain": [
       "'Peru'"
      ]
     },
     "metadata": {},
     "output_type": "display_data"
    },
    {
     "data": {
      "text/plain": [
       "'Philippines'"
      ]
     },
     "metadata": {},
     "output_type": "display_data"
    },
    {
     "data": {
      "text/plain": [
       "'Pitcairn'"
      ]
     },
     "metadata": {},
     "output_type": "display_data"
    },
    {
     "data": {
      "text/plain": [
       "'Poland'"
      ]
     },
     "metadata": {},
     "output_type": "display_data"
    },
    {
     "data": {
      "text/plain": [
       "'Portugal'"
      ]
     },
     "metadata": {},
     "output_type": "display_data"
    },
    {
     "data": {
      "text/plain": [
       "'Puerto Rico'"
      ]
     },
     "metadata": {},
     "output_type": "display_data"
    },
    {
     "data": {
      "text/plain": [
       "'Qatar'"
      ]
     },
     "metadata": {},
     "output_type": "display_data"
    },
    {
     "data": {
      "text/plain": [
       "'Republic of Korea'"
      ]
     },
     "metadata": {},
     "output_type": "display_data"
    },
    {
     "data": {
      "text/plain": [
       "'Republic of Moldova'"
      ]
     },
     "metadata": {},
     "output_type": "display_data"
    },
    {
     "data": {
      "text/plain": [
       "'Réunion'"
      ]
     },
     "metadata": {},
     "output_type": "display_data"
    },
    {
     "data": {
      "text/plain": [
       "'Romania'"
      ]
     },
     "metadata": {},
     "output_type": "display_data"
    },
    {
     "data": {
      "text/plain": [
       "'Russian Federation'"
      ]
     },
     "metadata": {},
     "output_type": "display_data"
    },
    {
     "data": {
      "text/plain": [
       "'Rwanda'"
      ]
     },
     "metadata": {},
     "output_type": "display_data"
    },
    {
     "data": {
      "text/plain": [
       "'Saint Barthélemy'"
      ]
     },
     "metadata": {},
     "output_type": "display_data"
    },
    {
     "data": {
      "text/plain": [
       "'Saint Helena'"
      ]
     },
     "metadata": {},
     "output_type": "display_data"
    },
    {
     "data": {
      "text/plain": [
       "'Tristan da Cunha'"
      ]
     },
     "metadata": {},
     "output_type": "display_data"
    },
    {
     "data": {
      "text/plain": [
       "'Saint Kitts and Nevis'"
      ]
     },
     "metadata": {},
     "output_type": "display_data"
    },
    {
     "data": {
      "text/plain": [
       "'Saint Lucia'"
      ]
     },
     "metadata": {},
     "output_type": "display_data"
    },
    {
     "data": {
      "text/plain": [
       "'Saint Martin (French part)'"
      ]
     },
     "metadata": {},
     "output_type": "display_data"
    },
    {
     "data": {
      "text/plain": [
       "'Saint Pierre and Miquelon'"
      ]
     },
     "metadata": {},
     "output_type": "display_data"
    },
    {
     "data": {
      "text/plain": [
       "'Saint Vincent & Grenadines'"
      ]
     },
     "metadata": {},
     "output_type": "display_data"
    },
    {
     "data": {
      "text/plain": [
       "'Samoa'"
      ]
     },
     "metadata": {},
     "output_type": "display_data"
    },
    {
     "data": {
      "text/plain": [
       "'San Marino'"
      ]
     },
     "metadata": {},
     "output_type": "display_data"
    },
    {
     "data": {
      "text/plain": [
       "'Sao Tome and Principe'"
      ]
     },
     "metadata": {},
     "output_type": "display_data"
    },
    {
     "data": {
      "text/plain": [
       "'Saudi Arabia'"
      ]
     },
     "metadata": {},
     "output_type": "display_data"
    },
    {
     "data": {
      "text/plain": [
       "'Senegal'"
      ]
     },
     "metadata": {},
     "output_type": "display_data"
    },
    {
     "data": {
      "text/plain": [
       "'Serbia'"
      ]
     },
     "metadata": {},
     "output_type": "display_data"
    },
    {
     "data": {
      "text/plain": [
       "'Serbia and Monten. [former]'"
      ]
     },
     "metadata": {},
     "output_type": "display_data"
    },
    {
     "data": {
      "text/plain": [
       "'Seychelles'"
      ]
     },
     "metadata": {},
     "output_type": "display_data"
    },
    {
     "data": {
      "text/plain": [
       "'Sierra Leone'"
      ]
     },
     "metadata": {},
     "output_type": "display_data"
    },
    {
     "data": {
      "text/plain": [
       "'Singapore'"
      ]
     },
     "metadata": {},
     "output_type": "display_data"
    },
    {
     "data": {
      "text/plain": [
       "'Sint Maarten (Dutch part)'"
      ]
     },
     "metadata": {},
     "output_type": "display_data"
    },
    {
     "data": {
      "text/plain": [
       "'Slovakia'"
      ]
     },
     "metadata": {},
     "output_type": "display_data"
    },
    {
     "data": {
      "text/plain": [
       "'Slovenia'"
      ]
     },
     "metadata": {},
     "output_type": "display_data"
    },
    {
     "data": {
      "text/plain": [
       "'Solomon Islands'"
      ]
     },
     "metadata": {},
     "output_type": "display_data"
    },
    {
     "data": {
      "text/plain": [
       "'Somalia'"
      ]
     },
     "metadata": {},
     "output_type": "display_data"
    },
    {
     "data": {
      "text/plain": [
       "'South Africa'"
      ]
     },
     "metadata": {},
     "output_type": "display_data"
    },
    {
     "data": {
      "text/plain": [
       "'South Georgia & Sandwich Is.'"
      ]
     },
     "metadata": {},
     "output_type": "display_data"
    },
    {
     "data": {
      "text/plain": [
       "'South Sudan'"
      ]
     },
     "metadata": {},
     "output_type": "display_data"
    },
    {
     "data": {
      "text/plain": [
       "'Spain'"
      ]
     },
     "metadata": {},
     "output_type": "display_data"
    },
    {
     "data": {
      "text/plain": [
       "'Sri Lanka'"
      ]
     },
     "metadata": {},
     "output_type": "display_data"
    },
    {
     "data": {
      "text/plain": [
       "'State of Palestine'"
      ]
     },
     "metadata": {},
     "output_type": "display_data"
    },
    {
     "data": {
      "text/plain": [
       "'Sudan'"
      ]
     },
     "metadata": {},
     "output_type": "display_data"
    },
    {
     "data": {
      "text/plain": [
       "'Suriname'"
      ]
     },
     "metadata": {},
     "output_type": "display_data"
    },
    {
     "data": {
      "text/plain": [
       "'Svalbard and Jan Mayen Is.'"
      ]
     },
     "metadata": {},
     "output_type": "display_data"
    },
    {
     "data": {
      "text/plain": [
       "'Sweden'"
      ]
     },
     "metadata": {},
     "output_type": "display_data"
    },
    {
     "data": {
      "text/plain": [
       "'Switzerland'"
      ]
     },
     "metadata": {},
     "output_type": "display_data"
    },
    {
     "data": {
      "text/plain": [
       "'Syrian Arab Republic'"
      ]
     },
     "metadata": {},
     "output_type": "display_data"
    },
    {
     "data": {
      "text/plain": [
       "'Tajikistan'"
      ]
     },
     "metadata": {},
     "output_type": "display_data"
    },
    {
     "data": {
      "text/plain": [
       "'Thailand'"
      ]
     },
     "metadata": {},
     "output_type": "display_data"
    },
    {
     "data": {
      "text/plain": [
       "'Timor-Leste'"
      ]
     },
     "metadata": {},
     "output_type": "display_data"
    },
    {
     "data": {
      "text/plain": [
       "'Togo'"
      ]
     },
     "metadata": {},
     "output_type": "display_data"
    },
    {
     "data": {
      "text/plain": [
       "'Tokelau'"
      ]
     },
     "metadata": {},
     "output_type": "display_data"
    },
    {
     "data": {
      "text/plain": [
       "'Tonga'"
      ]
     },
     "metadata": {},
     "output_type": "display_data"
    },
    {
     "data": {
      "text/plain": [
       "'Trinidad and Tobago'"
      ]
     },
     "metadata": {},
     "output_type": "display_data"
    },
    {
     "data": {
      "text/plain": [
       "'Tunisia'"
      ]
     },
     "metadata": {},
     "output_type": "display_data"
    },
    {
     "data": {
      "text/plain": [
       "'Turkey'"
      ]
     },
     "metadata": {},
     "output_type": "display_data"
    },
    {
     "data": {
      "text/plain": [
       "'Turkmenistan'"
      ]
     },
     "metadata": {},
     "output_type": "display_data"
    },
    {
     "data": {
      "text/plain": [
       "'Turks and Caicos Islands'"
      ]
     },
     "metadata": {},
     "output_type": "display_data"
    },
    {
     "data": {
      "text/plain": [
       "'Tuvalu'"
      ]
     },
     "metadata": {},
     "output_type": "display_data"
    },
    {
     "data": {
      "text/plain": [
       "'Uganda'"
      ]
     },
     "metadata": {},
     "output_type": "display_data"
    },
    {
     "data": {
      "text/plain": [
       "'Ukraine'"
      ]
     },
     "metadata": {},
     "output_type": "display_data"
    },
    {
     "data": {
      "text/plain": [
       "'United Arab Emirates'"
      ]
     },
     "metadata": {},
     "output_type": "display_data"
    },
    {
     "data": {
      "text/plain": [
       "'United Kingdom'"
      ]
     },
     "metadata": {},
     "output_type": "display_data"
    },
    {
     "data": {
      "text/plain": [
       "'United Rep. of Tanzania'"
      ]
     },
     "metadata": {},
     "output_type": "display_data"
    },
    {
     "data": {
      "text/plain": [
       "'U.S. Minor Outlying islands'"
      ]
     },
     "metadata": {},
     "output_type": "display_data"
    },
    {
     "data": {
      "text/plain": [
       "'United States of America'"
      ]
     },
     "metadata": {},
     "output_type": "display_data"
    },
    {
     "data": {
      "text/plain": [
       "'United States Virgin Islands'"
      ]
     },
     "metadata": {},
     "output_type": "display_data"
    },
    {
     "data": {
      "text/plain": [
       "'Uruguay'"
      ]
     },
     "metadata": {},
     "output_type": "display_data"
    },
    {
     "data": {
      "text/plain": [
       "'Uzbekistan'"
      ]
     },
     "metadata": {},
     "output_type": "display_data"
    },
    {
     "data": {
      "text/plain": [
       "'Vanuatu'"
      ]
     },
     "metadata": {},
     "output_type": "display_data"
    },
    {
     "data": {
      "text/plain": [
       "'Venezuela (Boliv. Rep. of)'"
      ]
     },
     "metadata": {},
     "output_type": "display_data"
    },
    {
     "data": {
      "text/plain": [
       "'Viet Nam'"
      ]
     },
     "metadata": {},
     "output_type": "display_data"
    },
    {
     "data": {
      "text/plain": [
       "'Wallis and Futuna Islands'"
      ]
     },
     "metadata": {},
     "output_type": "display_data"
    },
    {
     "data": {
      "text/plain": [
       "'Western Sahara'"
      ]
     },
     "metadata": {},
     "output_type": "display_data"
    },
    {
     "data": {
      "text/plain": [
       "'Yemen'"
      ]
     },
     "metadata": {},
     "output_type": "display_data"
    },
    {
     "data": {
      "text/plain": [
       "'Zambia'"
      ]
     },
     "metadata": {},
     "output_type": "display_data"
    },
    {
     "data": {
      "text/plain": [
       "'Zimbabwe'"
      ]
     },
     "metadata": {},
     "output_type": "display_data"
    }
   ],
   "source": [
    "# Display how many unique countries are on the list\n",
    "display(len(threatened_species_df['Country'].unique()))\n",
    "\n",
    "# Display these countries\n",
    "for country in threatened_species_df['Country'].unique():\n",
    "    display(country)\n"
   ]
  },
  {
   "cell_type": "code",
   "execution_count": 182,
   "id": "5be38e60",
   "metadata": {},
   "outputs": [
    {
     "name": "stderr",
     "output_type": "stream",
     "text": [
      "<ipython-input-182-d99746673ec6>:5: UserWarning: Boolean Series key will be reindexed to match DataFrame index.\n",
      "  species_2020 = threatened_species_df[threatened_species_df[\"Year\"] == 2020][threatened_species_df[\"Series\"] == \"Threatened Species: Total (number)\"]\n"
     ]
    },
    {
     "data": {
      "text/html": [
       "<div>\n",
       "<style scoped>\n",
       "    .dataframe tbody tr th:only-of-type {\n",
       "        vertical-align: middle;\n",
       "    }\n",
       "\n",
       "    .dataframe tbody tr th {\n",
       "        vertical-align: top;\n",
       "    }\n",
       "\n",
       "    .dataframe thead th {\n",
       "        text-align: right;\n",
       "    }\n",
       "</style>\n",
       "<table border=\"1\" class=\"dataframe\">\n",
       "  <thead>\n",
       "    <tr style=\"text-align: right;\">\n",
       "      <th></th>\n",
       "      <th>Region/Country/Area</th>\n",
       "      <th>Country</th>\n",
       "      <th>Year</th>\n",
       "      <th>Series</th>\n",
       "      <th>Value</th>\n",
       "    </tr>\n",
       "  </thead>\n",
       "  <tbody>\n",
       "    <tr>\n",
       "      <th>3690</th>\n",
       "      <td>450</td>\n",
       "      <td>Madagascar</td>\n",
       "      <td>2020</td>\n",
       "      <td>Threatened Species: Total (number)</td>\n",
       "      <td>2910</td>\n",
       "    </tr>\n",
       "    <tr>\n",
       "      <th>1914</th>\n",
       "      <td>218</td>\n",
       "      <td>Ecuador</td>\n",
       "      <td>2020</td>\n",
       "      <td>Threatened Species: Total (number)</td>\n",
       "      <td>2501</td>\n",
       "    </tr>\n",
       "    <tr>\n",
       "      <th>3746</th>\n",
       "      <td>458</td>\n",
       "      <td>Malaysia</td>\n",
       "      <td>2020</td>\n",
       "      <td>Threatened Species: Total (number)</td>\n",
       "      <td>1662</td>\n",
       "    </tr>\n",
       "    <tr>\n",
       "      <th>3998</th>\n",
       "      <td>484</td>\n",
       "      <td>Mexico</td>\n",
       "      <td>2020</td>\n",
       "      <td>Threatened Species: Total (number)</td>\n",
       "      <td>1656</td>\n",
       "    </tr>\n",
       "    <tr>\n",
       "      <th>6609</th>\n",
       "      <td>840</td>\n",
       "      <td>United States of America</td>\n",
       "      <td>2020</td>\n",
       "      <td>Threatened Species: Total (number)</td>\n",
       "      <td>1655</td>\n",
       "    </tr>\n",
       "    <tr>\n",
       "      <th>2998</th>\n",
       "      <td>360</td>\n",
       "      <td>Indonesia</td>\n",
       "      <td>2020</td>\n",
       "      <td>Threatened Species: Total (number)</td>\n",
       "      <td>1654</td>\n",
       "    </tr>\n",
       "    <tr>\n",
       "      <th>390</th>\n",
       "      <td>36</td>\n",
       "      <td>Australia</td>\n",
       "      <td>2020</td>\n",
       "      <td>Threatened Species: Total (number)</td>\n",
       "      <td>1308</td>\n",
       "    </tr>\n",
       "    <tr>\n",
       "      <th>6553</th>\n",
       "      <td>834</td>\n",
       "      <td>United Rep. of Tanzania</td>\n",
       "      <td>2020</td>\n",
       "      <td>Threatened Species: Total (number)</td>\n",
       "      <td>1259</td>\n",
       "    </tr>\n",
       "    <tr>\n",
       "      <th>1306</th>\n",
       "      <td>156</td>\n",
       "      <td>China</td>\n",
       "      <td>2020</td>\n",
       "      <td>Threatened Species: Total (number)</td>\n",
       "      <td>1172</td>\n",
       "    </tr>\n",
       "    <tr>\n",
       "      <th>2970</th>\n",
       "      <td>356</td>\n",
       "      <td>India</td>\n",
       "      <td>2020</td>\n",
       "      <td>Threatened Species: Total (number)</td>\n",
       "      <td>1118</td>\n",
       "    </tr>\n",
       "  </tbody>\n",
       "</table>\n",
       "</div>"
      ],
      "text/plain": [
       "      Region/Country/Area                   Country  Year  \\\n",
       "3690                  450                Madagascar  2020   \n",
       "1914                  218                   Ecuador  2020   \n",
       "3746                  458                  Malaysia  2020   \n",
       "3998                  484                    Mexico  2020   \n",
       "6609                  840  United States of America  2020   \n",
       "2998                  360                 Indonesia  2020   \n",
       "390                    36                 Australia  2020   \n",
       "6553                  834   United Rep. of Tanzania  2020   \n",
       "1306                  156                     China  2020   \n",
       "2970                  356                     India  2020   \n",
       "\n",
       "                                  Series  Value  \n",
       "3690  Threatened Species: Total (number)   2910  \n",
       "1914  Threatened Species: Total (number)   2501  \n",
       "3746  Threatened Species: Total (number)   1662  \n",
       "3998  Threatened Species: Total (number)   1656  \n",
       "6609  Threatened Species: Total (number)   1655  \n",
       "2998  Threatened Species: Total (number)   1654  \n",
       "390   Threatened Species: Total (number)   1308  \n",
       "6553  Threatened Species: Total (number)   1259  \n",
       "1306  Threatened Species: Total (number)   1172  \n",
       "2970  Threatened Species: Total (number)   1118  "
      ]
     },
     "metadata": {},
     "output_type": "display_data"
    },
    {
     "data": {
      "text/html": [
       "<div>\n",
       "<style scoped>\n",
       "    .dataframe tbody tr th:only-of-type {\n",
       "        vertical-align: middle;\n",
       "    }\n",
       "\n",
       "    .dataframe tbody tr th {\n",
       "        vertical-align: top;\n",
       "    }\n",
       "\n",
       "    .dataframe thead th {\n",
       "        text-align: right;\n",
       "    }\n",
       "</style>\n",
       "<table border=\"1\" class=\"dataframe\">\n",
       "  <thead>\n",
       "    <tr style=\"text-align: right;\">\n",
       "      <th></th>\n",
       "      <th>Region/Country/Area</th>\n",
       "      <th>Country</th>\n",
       "      <th>Year</th>\n",
       "      <th>Series</th>\n",
       "      <th>Value</th>\n",
       "    </tr>\n",
       "  </thead>\n",
       "  <tbody>\n",
       "    <tr>\n",
       "      <th>2694</th>\n",
       "      <td>831</td>\n",
       "      <td>Guernsey</td>\n",
       "      <td>2020</td>\n",
       "      <td>Threatened Species: Total (number)</td>\n",
       "      <td>12</td>\n",
       "    </tr>\n",
       "    <tr>\n",
       "      <th>2834</th>\n",
       "      <td>334</td>\n",
       "      <td>Heard Is. and McDonald Is.</td>\n",
       "      <td>2020</td>\n",
       "      <td>Threatened Species: Total (number)</td>\n",
       "      <td>12</td>\n",
       "    </tr>\n",
       "    <tr>\n",
       "      <th>5993</th>\n",
       "      <td>744</td>\n",
       "      <td>Svalbard and Jan Mayen Is.</td>\n",
       "      <td>2020</td>\n",
       "      <td>Threatened Species: Total (number)</td>\n",
       "      <td>11</td>\n",
       "    </tr>\n",
       "    <tr>\n",
       "      <th>5805</th>\n",
       "      <td>239</td>\n",
       "      <td>South Georgia &amp; Sandwich Is.</td>\n",
       "      <td>2020</td>\n",
       "      <td>Threatened Species: Total (number)</td>\n",
       "      <td>9</td>\n",
       "    </tr>\n",
       "    <tr>\n",
       "      <th>227</th>\n",
       "      <td>10</td>\n",
       "      <td>Antarctica</td>\n",
       "      <td>2020</td>\n",
       "      <td>Threatened Species: Total (number)</td>\n",
       "      <td>6</td>\n",
       "    </tr>\n",
       "    <tr>\n",
       "      <th>3106</th>\n",
       "      <td>833</td>\n",
       "      <td>Isle of Man</td>\n",
       "      <td>2020</td>\n",
       "      <td>Threatened Species: Total (number)</td>\n",
       "      <td>6</td>\n",
       "    </tr>\n",
       "    <tr>\n",
       "      <th>5421</th>\n",
       "      <td>674</td>\n",
       "      <td>San Marino</td>\n",
       "      <td>2020</td>\n",
       "      <td>Threatened Species: Total (number)</td>\n",
       "      <td>2</td>\n",
       "    </tr>\n",
       "    <tr>\n",
       "      <th>858</th>\n",
       "      <td>74</td>\n",
       "      <td>Bouvet Island</td>\n",
       "      <td>2020</td>\n",
       "      <td>Threatened Species: Total (number)</td>\n",
       "      <td>2</td>\n",
       "    </tr>\n",
       "    <tr>\n",
       "      <th>31</th>\n",
       "      <td>248</td>\n",
       "      <td>Åland Islands</td>\n",
       "      <td>2020</td>\n",
       "      <td>Threatened Species: Total (number)</td>\n",
       "      <td>1</td>\n",
       "    </tr>\n",
       "    <tr>\n",
       "      <th>2858</th>\n",
       "      <td>336</td>\n",
       "      <td>Holy See</td>\n",
       "      <td>2020</td>\n",
       "      <td>Threatened Species: Total (number)</td>\n",
       "      <td>1</td>\n",
       "    </tr>\n",
       "  </tbody>\n",
       "</table>\n",
       "</div>"
      ],
      "text/plain": [
       "      Region/Country/Area                       Country  Year  \\\n",
       "2694                  831                      Guernsey  2020   \n",
       "2834                  334    Heard Is. and McDonald Is.  2020   \n",
       "5993                  744    Svalbard and Jan Mayen Is.  2020   \n",
       "5805                  239  South Georgia & Sandwich Is.  2020   \n",
       "227                    10                    Antarctica  2020   \n",
       "3106                  833                   Isle of Man  2020   \n",
       "5421                  674                    San Marino  2020   \n",
       "858                    74                 Bouvet Island  2020   \n",
       "31                    248                 Åland Islands  2020   \n",
       "2858                  336                      Holy See  2020   \n",
       "\n",
       "                                  Series  Value  \n",
       "2694  Threatened Species: Total (number)     12  \n",
       "2834  Threatened Species: Total (number)     12  \n",
       "5993  Threatened Species: Total (number)     11  \n",
       "5805  Threatened Species: Total (number)      9  \n",
       "227   Threatened Species: Total (number)      6  \n",
       "3106  Threatened Species: Total (number)      6  \n",
       "5421  Threatened Species: Total (number)      2  \n",
       "858   Threatened Species: Total (number)      2  \n",
       "31    Threatened Species: Total (number)      1  \n",
       "2858  Threatened Species: Total (number)      1  "
      ]
     },
     "metadata": {},
     "output_type": "display_data"
    },
    {
     "name": "stderr",
     "output_type": "stream",
     "text": [
      "<ipython-input-182-d99746673ec6>:10: UserWarning: Boolean Series key will be reindexed to match DataFrame index.\n",
      "  species_2004 = threatened_species_df[threatened_species_df[\"Year\"] == 2004][threatened_species_df[\"Series\"] == \"Threatened Species: Total (number)\"]\n"
     ]
    },
    {
     "data": {
      "text/html": [
       "<div>\n",
       "<style scoped>\n",
       "    .dataframe tbody tr th:only-of-type {\n",
       "        vertical-align: middle;\n",
       "    }\n",
       "\n",
       "    .dataframe tbody tr th {\n",
       "        vertical-align: top;\n",
       "    }\n",
       "\n",
       "    .dataframe thead th {\n",
       "        text-align: right;\n",
       "    }\n",
       "</style>\n",
       "<table border=\"1\" class=\"dataframe\">\n",
       "  <thead>\n",
       "    <tr style=\"text-align: right;\">\n",
       "      <th></th>\n",
       "      <th>Region/Country/Area</th>\n",
       "      <th>Country</th>\n",
       "      <th>Year</th>\n",
       "      <th>Series</th>\n",
       "      <th>Value</th>\n",
       "    </tr>\n",
       "  </thead>\n",
       "  <tbody>\n",
       "    <tr>\n",
       "      <th>1908</th>\n",
       "      <td>218</td>\n",
       "      <td>Ecuador</td>\n",
       "      <td>2004</td>\n",
       "      <td>Threatened Species: Total (number)</td>\n",
       "      <td>2151</td>\n",
       "    </tr>\n",
       "    <tr>\n",
       "      <th>6603</th>\n",
       "      <td>840</td>\n",
       "      <td>United States of America</td>\n",
       "      <td>2004</td>\n",
       "      <td>Threatened Species: Total (number)</td>\n",
       "      <td>1143</td>\n",
       "    </tr>\n",
       "    <tr>\n",
       "      <th>3740</th>\n",
       "      <td>458</td>\n",
       "      <td>Malaysia</td>\n",
       "      <td>2004</td>\n",
       "      <td>Threatened Species: Total (number)</td>\n",
       "      <td>892</td>\n",
       "    </tr>\n",
       "    <tr>\n",
       "      <th>2992</th>\n",
       "      <td>360</td>\n",
       "      <td>Indonesia</td>\n",
       "      <td>2004</td>\n",
       "      <td>Threatened Species: Total (number)</td>\n",
       "      <td>833</td>\n",
       "    </tr>\n",
       "    <tr>\n",
       "      <th>1300</th>\n",
       "      <td>156</td>\n",
       "      <td>China</td>\n",
       "      <td>2004</td>\n",
       "      <td>Threatened Species: Total (number)</td>\n",
       "      <td>773</td>\n",
       "    </tr>\n",
       "    <tr>\n",
       "      <th>3992</th>\n",
       "      <td>484</td>\n",
       "      <td>Mexico</td>\n",
       "      <td>2004</td>\n",
       "      <td>Threatened Species: Total (number)</td>\n",
       "      <td>748</td>\n",
       "    </tr>\n",
       "    <tr>\n",
       "      <th>880</th>\n",
       "      <td>76</td>\n",
       "      <td>Brazil</td>\n",
       "      <td>2004</td>\n",
       "      <td>Threatened Species: Total (number)</td>\n",
       "      <td>697</td>\n",
       "    </tr>\n",
       "    <tr>\n",
       "      <th>384</th>\n",
       "      <td>36</td>\n",
       "      <td>Australia</td>\n",
       "      <td>2004</td>\n",
       "      <td>Threatened Species: Total (number)</td>\n",
       "      <td>621</td>\n",
       "    </tr>\n",
       "    <tr>\n",
       "      <th>1440</th>\n",
       "      <td>170</td>\n",
       "      <td>Colombia</td>\n",
       "      <td>2004</td>\n",
       "      <td>Threatened Species: Total (number)</td>\n",
       "      <td>593</td>\n",
       "    </tr>\n",
       "    <tr>\n",
       "      <th>2964</th>\n",
       "      <td>356</td>\n",
       "      <td>India</td>\n",
       "      <td>2004</td>\n",
       "      <td>Threatened Species: Total (number)</td>\n",
       "      <td>552</td>\n",
       "    </tr>\n",
       "  </tbody>\n",
       "</table>\n",
       "</div>"
      ],
      "text/plain": [
       "      Region/Country/Area                   Country  Year  \\\n",
       "1908                  218                   Ecuador  2004   \n",
       "6603                  840  United States of America  2004   \n",
       "3740                  458                  Malaysia  2004   \n",
       "2992                  360                 Indonesia  2004   \n",
       "1300                  156                     China  2004   \n",
       "3992                  484                    Mexico  2004   \n",
       "880                    76                    Brazil  2004   \n",
       "384                    36                 Australia  2004   \n",
       "1440                  170                  Colombia  2004   \n",
       "2964                  356                     India  2004   \n",
       "\n",
       "                                  Series  Value  \n",
       "1908  Threatened Species: Total (number)   2151  \n",
       "6603  Threatened Species: Total (number)   1143  \n",
       "3740  Threatened Species: Total (number)    892  \n",
       "2992  Threatened Species: Total (number)    833  \n",
       "1300  Threatened Species: Total (number)    773  \n",
       "3992  Threatened Species: Total (number)    748  \n",
       "880   Threatened Species: Total (number)    697  \n",
       "384   Threatened Species: Total (number)    621  \n",
       "1440  Threatened Species: Total (number)    593  \n",
       "2964  Threatened Species: Total (number)    552  "
      ]
     },
     "metadata": {},
     "output_type": "display_data"
    },
    {
     "data": {
      "text/html": [
       "<div>\n",
       "<style scoped>\n",
       "    .dataframe tbody tr th:only-of-type {\n",
       "        vertical-align: middle;\n",
       "    }\n",
       "\n",
       "    .dataframe tbody tr th {\n",
       "        vertical-align: top;\n",
       "    }\n",
       "\n",
       "    .dataframe thead th {\n",
       "        text-align: right;\n",
       "    }\n",
       "</style>\n",
       "<table border=\"1\" class=\"dataframe\">\n",
       "  <thead>\n",
       "    <tr style=\"text-align: right;\">\n",
       "      <th></th>\n",
       "      <th>Region/Country/Area</th>\n",
       "      <th>Country</th>\n",
       "      <th>Year</th>\n",
       "      <th>Series</th>\n",
       "      <th>Value</th>\n",
       "    </tr>\n",
       "  </thead>\n",
       "  <tbody>\n",
       "    <tr>\n",
       "      <th>908</th>\n",
       "      <td>86</td>\n",
       "      <td>British Indian Ocean Terr.</td>\n",
       "      <td>2004</td>\n",
       "      <td>Threatened Species: Total (number)</td>\n",
       "      <td>7</td>\n",
       "    </tr>\n",
       "    <tr>\n",
       "      <th>6211</th>\n",
       "      <td>772</td>\n",
       "      <td>Tokelau</td>\n",
       "      <td>2004</td>\n",
       "      <td>Threatened Species: Total (number)</td>\n",
       "      <td>6</td>\n",
       "    </tr>\n",
       "    <tr>\n",
       "      <th>1412</th>\n",
       "      <td>166</td>\n",
       "      <td>Cocos (Keeling) Islands</td>\n",
       "      <td>2004</td>\n",
       "      <td>Threatened Species: Total (number)</td>\n",
       "      <td>5</td>\n",
       "    </tr>\n",
       "    <tr>\n",
       "      <th>137</th>\n",
       "      <td>20</td>\n",
       "      <td>Andorra</td>\n",
       "      <td>2004</td>\n",
       "      <td>Threatened Species: Total (number)</td>\n",
       "      <td>5</td>\n",
       "    </tr>\n",
       "    <tr>\n",
       "      <th>1356</th>\n",
       "      <td>446</td>\n",
       "      <td>China, Macao SAR</td>\n",
       "      <td>2004</td>\n",
       "      <td>Threatened Species: Total (number)</td>\n",
       "      <td>5</td>\n",
       "    </tr>\n",
       "    <tr>\n",
       "      <th>4268</th>\n",
       "      <td>520</td>\n",
       "      <td>Nauru</td>\n",
       "      <td>2004</td>\n",
       "      <td>Threatened Species: Total (number)</td>\n",
       "      <td>5</td>\n",
       "    </tr>\n",
       "    <tr>\n",
       "      <th>5903</th>\n",
       "      <td>275</td>\n",
       "      <td>State of Palestine</td>\n",
       "      <td>2004</td>\n",
       "      <td>Threatened Species: Total (number)</td>\n",
       "      <td>4</td>\n",
       "    </tr>\n",
       "    <tr>\n",
       "      <th>5335</th>\n",
       "      <td>666</td>\n",
       "      <td>Saint Pierre and Miquelon</td>\n",
       "      <td>2004</td>\n",
       "      <td>Threatened Species: Total (number)</td>\n",
       "      <td>2</td>\n",
       "    </tr>\n",
       "    <tr>\n",
       "      <th>273</th>\n",
       "      <td>896</td>\n",
       "      <td>Areas n.e.s</td>\n",
       "      <td>2004</td>\n",
       "      <td>Threatened Species: Total (number)</td>\n",
       "      <td>1</td>\n",
       "    </tr>\n",
       "    <tr>\n",
       "      <th>852</th>\n",
       "      <td>74</td>\n",
       "      <td>Bouvet Island</td>\n",
       "      <td>2004</td>\n",
       "      <td>Threatened Species: Total (number)</td>\n",
       "      <td>1</td>\n",
       "    </tr>\n",
       "  </tbody>\n",
       "</table>\n",
       "</div>"
      ],
      "text/plain": [
       "      Region/Country/Area                     Country  Year  \\\n",
       "908                    86  British Indian Ocean Terr.  2004   \n",
       "6211                  772                     Tokelau  2004   \n",
       "1412                  166     Cocos (Keeling) Islands  2004   \n",
       "137                    20                     Andorra  2004   \n",
       "1356                  446            China, Macao SAR  2004   \n",
       "4268                  520                       Nauru  2004   \n",
       "5903                  275          State of Palestine  2004   \n",
       "5335                  666   Saint Pierre and Miquelon  2004   \n",
       "273                   896                 Areas n.e.s  2004   \n",
       "852                    74               Bouvet Island  2004   \n",
       "\n",
       "                                  Series  Value  \n",
       "908   Threatened Species: Total (number)      7  \n",
       "6211  Threatened Species: Total (number)      6  \n",
       "1412  Threatened Species: Total (number)      5  \n",
       "137   Threatened Species: Total (number)      5  \n",
       "1356  Threatened Species: Total (number)      5  \n",
       "4268  Threatened Species: Total (number)      5  \n",
       "5903  Threatened Species: Total (number)      4  \n",
       "5335  Threatened Species: Total (number)      2  \n",
       "273   Threatened Species: Total (number)      1  \n",
       "852   Threatened Species: Total (number)      1  "
      ]
     },
     "metadata": {},
     "output_type": "display_data"
    },
    {
     "data": {
      "text/html": [
       "<div>\n",
       "<style scoped>\n",
       "    .dataframe tbody tr th:only-of-type {\n",
       "        vertical-align: middle;\n",
       "    }\n",
       "\n",
       "    .dataframe tbody tr th {\n",
       "        vertical-align: top;\n",
       "    }\n",
       "\n",
       "    .dataframe thead th {\n",
       "        text-align: right;\n",
       "    }\n",
       "</style>\n",
       "<table border=\"1\" class=\"dataframe\">\n",
       "  <thead>\n",
       "    <tr style=\"text-align: right;\">\n",
       "      <th></th>\n",
       "      <th>Country</th>\n",
       "      <th>Afghanistan</th>\n",
       "      <th>Albania</th>\n",
       "      <th>Algeria</th>\n",
       "      <th>American Samoa</th>\n",
       "      <th>Andorra</th>\n",
       "      <th>Angola</th>\n",
       "      <th>Anguilla</th>\n",
       "      <th>Antarctica</th>\n",
       "      <th>Antigua and Barbuda</th>\n",
       "      <th>Areas n.e.s</th>\n",
       "      <th>...</th>\n",
       "      <th>Uzbekistan</th>\n",
       "      <th>Vanuatu</th>\n",
       "      <th>Venezuela (Boliv. Rep. of)</th>\n",
       "      <th>Viet Nam</th>\n",
       "      <th>Wallis and Futuna Islands</th>\n",
       "      <th>Western Sahara</th>\n",
       "      <th>Yemen</th>\n",
       "      <th>Zambia</th>\n",
       "      <th>Zimbabwe</th>\n",
       "      <th>Åland Islands</th>\n",
       "    </tr>\n",
       "    <tr>\n",
       "      <th>Series</th>\n",
       "      <th>Year</th>\n",
       "      <th></th>\n",
       "      <th></th>\n",
       "      <th></th>\n",
       "      <th></th>\n",
       "      <th></th>\n",
       "      <th></th>\n",
       "      <th></th>\n",
       "      <th></th>\n",
       "      <th></th>\n",
       "      <th></th>\n",
       "      <th></th>\n",
       "      <th></th>\n",
       "      <th></th>\n",
       "      <th></th>\n",
       "      <th></th>\n",
       "      <th></th>\n",
       "      <th></th>\n",
       "      <th></th>\n",
       "      <th></th>\n",
       "      <th></th>\n",
       "      <th></th>\n",
       "    </tr>\n",
       "  </thead>\n",
       "  <tbody>\n",
       "    <tr>\n",
       "      <th rowspan=\"7\" valign=\"top\">Threatened Species: Invertebrates (number)</th>\n",
       "      <th>2004</th>\n",
       "      <td>1.0</td>\n",
       "      <td>4.0</td>\n",
       "      <td>12.0</td>\n",
       "      <td>5.0</td>\n",
       "      <td>4.0</td>\n",
       "      <td>6.0</td>\n",
       "      <td>0.0</td>\n",
       "      <td>0.0</td>\n",
       "      <td>0.0</td>\n",
       "      <td>0.0</td>\n",
       "      <td>...</td>\n",
       "      <td>1.0</td>\n",
       "      <td>0.0</td>\n",
       "      <td>1.0</td>\n",
       "      <td>0.0</td>\n",
       "      <td>0.0</td>\n",
       "      <td>1.0</td>\n",
       "      <td>2.0</td>\n",
       "      <td>7.0</td>\n",
       "      <td>2.0</td>\n",
       "      <td>NaN</td>\n",
       "    </tr>\n",
       "    <tr>\n",
       "      <th>2010</th>\n",
       "      <td>1.0</td>\n",
       "      <td>47.0</td>\n",
       "      <td>21.0</td>\n",
       "      <td>57.0</td>\n",
       "      <td>4.0</td>\n",
       "      <td>7.0</td>\n",
       "      <td>10.0</td>\n",
       "      <td>0.0</td>\n",
       "      <td>11.0</td>\n",
       "      <td>0.0</td>\n",
       "      <td>...</td>\n",
       "      <td>1.0</td>\n",
       "      <td>79.0</td>\n",
       "      <td>21.0</td>\n",
       "      <td>92.0</td>\n",
       "      <td>57.0</td>\n",
       "      <td>1.0</td>\n",
       "      <td>62.0</td>\n",
       "      <td>14.0</td>\n",
       "      <td>5.0</td>\n",
       "      <td>NaN</td>\n",
       "    </tr>\n",
       "    <tr>\n",
       "      <th>2016</th>\n",
       "      <td>2.0</td>\n",
       "      <td>62.0</td>\n",
       "      <td>29.0</td>\n",
       "      <td>64.0</td>\n",
       "      <td>7.0</td>\n",
       "      <td>9.0</td>\n",
       "      <td>10.0</td>\n",
       "      <td>0.0</td>\n",
       "      <td>11.0</td>\n",
       "      <td>1.0</td>\n",
       "      <td>...</td>\n",
       "      <td>3.0</td>\n",
       "      <td>92.0</td>\n",
       "      <td>26.0</td>\n",
       "      <td>152.0</td>\n",
       "      <td>65.0</td>\n",
       "      <td>3.0</td>\n",
       "      <td>68.0</td>\n",
       "      <td>14.0</td>\n",
       "      <td>5.0</td>\n",
       "      <td>NaN</td>\n",
       "    </tr>\n",
       "    <tr>\n",
       "      <th>2017</th>\n",
       "      <td>2.0</td>\n",
       "      <td>68.0</td>\n",
       "      <td>38.0</td>\n",
       "      <td>64.0</td>\n",
       "      <td>8.0</td>\n",
       "      <td>9.0</td>\n",
       "      <td>10.0</td>\n",
       "      <td>0.0</td>\n",
       "      <td>11.0</td>\n",
       "      <td>1.0</td>\n",
       "      <td>...</td>\n",
       "      <td>3.0</td>\n",
       "      <td>91.0</td>\n",
       "      <td>26.0</td>\n",
       "      <td>152.0</td>\n",
       "      <td>64.0</td>\n",
       "      <td>3.0</td>\n",
       "      <td>68.0</td>\n",
       "      <td>14.0</td>\n",
       "      <td>5.0</td>\n",
       "      <td>NaN</td>\n",
       "    </tr>\n",
       "    <tr>\n",
       "      <th>2018</th>\n",
       "      <td>2.0</td>\n",
       "      <td>71.0</td>\n",
       "      <td>40.0</td>\n",
       "      <td>64.0</td>\n",
       "      <td>8.0</td>\n",
       "      <td>11.0</td>\n",
       "      <td>10.0</td>\n",
       "      <td>0.0</td>\n",
       "      <td>11.0</td>\n",
       "      <td>1.0</td>\n",
       "      <td>...</td>\n",
       "      <td>3.0</td>\n",
       "      <td>91.0</td>\n",
       "      <td>26.0</td>\n",
       "      <td>152.0</td>\n",
       "      <td>64.0</td>\n",
       "      <td>3.0</td>\n",
       "      <td>68.0</td>\n",
       "      <td>15.0</td>\n",
       "      <td>7.0</td>\n",
       "      <td>NaN</td>\n",
       "    </tr>\n",
       "    <tr>\n",
       "      <th>2019</th>\n",
       "      <td>2.0</td>\n",
       "      <td>71.0</td>\n",
       "      <td>40.0</td>\n",
       "      <td>65.0</td>\n",
       "      <td>8.0</td>\n",
       "      <td>11.0</td>\n",
       "      <td>10.0</td>\n",
       "      <td>0.0</td>\n",
       "      <td>11.0</td>\n",
       "      <td>1.0</td>\n",
       "      <td>...</td>\n",
       "      <td>3.0</td>\n",
       "      <td>91.0</td>\n",
       "      <td>26.0</td>\n",
       "      <td>154.0</td>\n",
       "      <td>64.0</td>\n",
       "      <td>3.0</td>\n",
       "      <td>68.0</td>\n",
       "      <td>14.0</td>\n",
       "      <td>8.0</td>\n",
       "      <td>NaN</td>\n",
       "    </tr>\n",
       "    <tr>\n",
       "      <th>2020</th>\n",
       "      <td>2.0</td>\n",
       "      <td>73.0</td>\n",
       "      <td>42.0</td>\n",
       "      <td>65.0</td>\n",
       "      <td>8.0</td>\n",
       "      <td>11.0</td>\n",
       "      <td>10.0</td>\n",
       "      <td>0.0</td>\n",
       "      <td>11.0</td>\n",
       "      <td>NaN</td>\n",
       "      <td>...</td>\n",
       "      <td>3.0</td>\n",
       "      <td>91.0</td>\n",
       "      <td>26.0</td>\n",
       "      <td>156.0</td>\n",
       "      <td>64.0</td>\n",
       "      <td>3.0</td>\n",
       "      <td>68.0</td>\n",
       "      <td>14.0</td>\n",
       "      <td>8.0</td>\n",
       "      <td>0.0</td>\n",
       "    </tr>\n",
       "    <tr>\n",
       "      <th rowspan=\"7\" valign=\"top\">Threatened Species: Plants (number)</th>\n",
       "      <th>2004</th>\n",
       "      <td>1.0</td>\n",
       "      <td>0.0</td>\n",
       "      <td>2.0</td>\n",
       "      <td>1.0</td>\n",
       "      <td>0.0</td>\n",
       "      <td>26.0</td>\n",
       "      <td>3.0</td>\n",
       "      <td>0.0</td>\n",
       "      <td>4.0</td>\n",
       "      <td>0.0</td>\n",
       "      <td>...</td>\n",
       "      <td>1.0</td>\n",
       "      <td>10.0</td>\n",
       "      <td>67.0</td>\n",
       "      <td>145.0</td>\n",
       "      <td>1.0</td>\n",
       "      <td>0.0</td>\n",
       "      <td>159.0</td>\n",
       "      <td>8.0</td>\n",
       "      <td>17.0</td>\n",
       "      <td>NaN</td>\n",
       "    </tr>\n",
       "    <tr>\n",
       "      <th>2010</th>\n",
       "      <td>2.0</td>\n",
       "      <td>0.0</td>\n",
       "      <td>15.0</td>\n",
       "      <td>1.0</td>\n",
       "      <td>0.0</td>\n",
       "      <td>33.0</td>\n",
       "      <td>3.0</td>\n",
       "      <td>0.0</td>\n",
       "      <td>4.0</td>\n",
       "      <td>0.0</td>\n",
       "      <td>...</td>\n",
       "      <td>15.0</td>\n",
       "      <td>10.0</td>\n",
       "      <td>70.0</td>\n",
       "      <td>146.0</td>\n",
       "      <td>1.0</td>\n",
       "      <td>0.0</td>\n",
       "      <td>159.0</td>\n",
       "      <td>9.0</td>\n",
       "      <td>16.0</td>\n",
       "      <td>NaN</td>\n",
       "    </tr>\n",
       "    <tr>\n",
       "      <th>2016</th>\n",
       "      <td>5.0</td>\n",
       "      <td>0.0</td>\n",
       "      <td>18.0</td>\n",
       "      <td>1.0</td>\n",
       "      <td>0.0</td>\n",
       "      <td>34.0</td>\n",
       "      <td>4.0</td>\n",
       "      <td>0.0</td>\n",
       "      <td>4.0</td>\n",
       "      <td>0.0</td>\n",
       "      <td>...</td>\n",
       "      <td>17.0</td>\n",
       "      <td>10.0</td>\n",
       "      <td>82.0</td>\n",
       "      <td>204.0</td>\n",
       "      <td>1.0</td>\n",
       "      <td>0.0</td>\n",
       "      <td>162.0</td>\n",
       "      <td>20.0</td>\n",
       "      <td>17.0</td>\n",
       "      <td>NaN</td>\n",
       "    </tr>\n",
       "    <tr>\n",
       "      <th>2017</th>\n",
       "      <td>5.0</td>\n",
       "      <td>0.0</td>\n",
       "      <td>18.0</td>\n",
       "      <td>1.0</td>\n",
       "      <td>0.0</td>\n",
       "      <td>34.0</td>\n",
       "      <td>4.0</td>\n",
       "      <td>0.0</td>\n",
       "      <td>4.0</td>\n",
       "      <td>0.0</td>\n",
       "      <td>...</td>\n",
       "      <td>17.0</td>\n",
       "      <td>10.0</td>\n",
       "      <td>82.0</td>\n",
       "      <td>204.0</td>\n",
       "      <td>1.0</td>\n",
       "      <td>0.0</td>\n",
       "      <td>162.0</td>\n",
       "      <td>21.0</td>\n",
       "      <td>43.0</td>\n",
       "      <td>NaN</td>\n",
       "    </tr>\n",
       "    <tr>\n",
       "      <th>2018</th>\n",
       "      <td>5.0</td>\n",
       "      <td>4.0</td>\n",
       "      <td>23.0</td>\n",
       "      <td>1.0</td>\n",
       "      <td>0.0</td>\n",
       "      <td>35.0</td>\n",
       "      <td>4.0</td>\n",
       "      <td>0.0</td>\n",
       "      <td>4.0</td>\n",
       "      <td>0.0</td>\n",
       "      <td>...</td>\n",
       "      <td>16.0</td>\n",
       "      <td>10.0</td>\n",
       "      <td>81.0</td>\n",
       "      <td>231.0</td>\n",
       "      <td>1.0</td>\n",
       "      <td>0.0</td>\n",
       "      <td>163.0</td>\n",
       "      <td>22.0</td>\n",
       "      <td>46.0</td>\n",
       "      <td>NaN</td>\n",
       "    </tr>\n",
       "    <tr>\n",
       "      <th>2019</th>\n",
       "      <td>5.0</td>\n",
       "      <td>5.0</td>\n",
       "      <td>24.0</td>\n",
       "      <td>1.0</td>\n",
       "      <td>1.0</td>\n",
       "      <td>36.0</td>\n",
       "      <td>4.0</td>\n",
       "      <td>0.0</td>\n",
       "      <td>4.0</td>\n",
       "      <td>NaN</td>\n",
       "      <td>...</td>\n",
       "      <td>16.0</td>\n",
       "      <td>10.0</td>\n",
       "      <td>90.0</td>\n",
       "      <td>236.0</td>\n",
       "      <td>1.0</td>\n",
       "      <td>0.0</td>\n",
       "      <td>163.0</td>\n",
       "      <td>28.0</td>\n",
       "      <td>52.0</td>\n",
       "      <td>NaN</td>\n",
       "    </tr>\n",
       "    <tr>\n",
       "      <th>2020</th>\n",
       "      <td>5.0</td>\n",
       "      <td>5.0</td>\n",
       "      <td>28.0</td>\n",
       "      <td>2.0</td>\n",
       "      <td>1.0</td>\n",
       "      <td>43.0</td>\n",
       "      <td>3.0</td>\n",
       "      <td>0.0</td>\n",
       "      <td>3.0</td>\n",
       "      <td>NaN</td>\n",
       "      <td>...</td>\n",
       "      <td>16.0</td>\n",
       "      <td>11.0</td>\n",
       "      <td>102.0</td>\n",
       "      <td>260.0</td>\n",
       "      <td>1.0</td>\n",
       "      <td>0.0</td>\n",
       "      <td>163.0</td>\n",
       "      <td>32.0</td>\n",
       "      <td>71.0</td>\n",
       "      <td>1.0</td>\n",
       "    </tr>\n",
       "    <tr>\n",
       "      <th rowspan=\"7\" valign=\"top\">Threatened Species: Total (number)</th>\n",
       "      <th>2004</th>\n",
       "      <td>33.0</td>\n",
       "      <td>37.0</td>\n",
       "      <td>50.0</td>\n",
       "      <td>24.0</td>\n",
       "      <td>5.0</td>\n",
       "      <td>76.0</td>\n",
       "      <td>18.0</td>\n",
       "      <td>8.0</td>\n",
       "      <td>22.0</td>\n",
       "      <td>1.0</td>\n",
       "      <td>...</td>\n",
       "      <td>31.0</td>\n",
       "      <td>29.0</td>\n",
       "      <td>219.0</td>\n",
       "      <td>289.0</td>\n",
       "      <td>13.0</td>\n",
       "      <td>19.0</td>\n",
       "      <td>195.0</td>\n",
       "      <td>39.0</td>\n",
       "      <td>43.0</td>\n",
       "      <td>NaN</td>\n",
       "    </tr>\n",
       "    <tr>\n",
       "      <th>2010</th>\n",
       "      <td>34.0</td>\n",
       "      <td>100.0</td>\n",
       "      <td>105.0</td>\n",
       "      <td>79.0</td>\n",
       "      <td>8.0</td>\n",
       "      <td>117.0</td>\n",
       "      <td>33.0</td>\n",
       "      <td>6.0</td>\n",
       "      <td>38.0</td>\n",
       "      <td>1.0</td>\n",
       "      <td>...</td>\n",
       "      <td>50.0</td>\n",
       "      <td>121.0</td>\n",
       "      <td>270.0</td>\n",
       "      <td>424.0</td>\n",
       "      <td>74.0</td>\n",
       "      <td>39.0</td>\n",
       "      <td>269.0</td>\n",
       "      <td>67.0</td>\n",
       "      <td>55.0</td>\n",
       "      <td>NaN</td>\n",
       "    </tr>\n",
       "    <tr>\n",
       "      <th>2016</th>\n",
       "      <td>42.0</td>\n",
       "      <td>125.0</td>\n",
       "      <td>125.0</td>\n",
       "      <td>92.0</td>\n",
       "      <td>12.0</td>\n",
       "      <td>142.0</td>\n",
       "      <td>52.0</td>\n",
       "      <td>6.0</td>\n",
       "      <td>53.0</td>\n",
       "      <td>4.0</td>\n",
       "      <td>...</td>\n",
       "      <td>59.0</td>\n",
       "      <td>139.0</td>\n",
       "      <td>320.0</td>\n",
       "      <td>616.0</td>\n",
       "      <td>90.0</td>\n",
       "      <td>47.0</td>\n",
       "      <td>297.0</td>\n",
       "      <td>85.0</td>\n",
       "      <td>61.0</td>\n",
       "      <td>NaN</td>\n",
       "    </tr>\n",
       "    <tr>\n",
       "      <th>2017</th>\n",
       "      <td>42.0</td>\n",
       "      <td>130.0</td>\n",
       "      <td>135.0</td>\n",
       "      <td>92.0</td>\n",
       "      <td>13.0</td>\n",
       "      <td>146.0</td>\n",
       "      <td>52.0</td>\n",
       "      <td>6.0</td>\n",
       "      <td>55.0</td>\n",
       "      <td>4.0</td>\n",
       "      <td>...</td>\n",
       "      <td>59.0</td>\n",
       "      <td>137.0</td>\n",
       "      <td>328.0</td>\n",
       "      <td>616.0</td>\n",
       "      <td>89.0</td>\n",
       "      <td>49.0</td>\n",
       "      <td>298.0</td>\n",
       "      <td>88.0</td>\n",
       "      <td>89.0</td>\n",
       "      <td>NaN</td>\n",
       "    </tr>\n",
       "    <tr>\n",
       "      <th>2018</th>\n",
       "      <td>41.0</td>\n",
       "      <td>137.0</td>\n",
       "      <td>143.0</td>\n",
       "      <td>92.0</td>\n",
       "      <td>14.0</td>\n",
       "      <td>154.0</td>\n",
       "      <td>54.0</td>\n",
       "      <td>6.0</td>\n",
       "      <td>56.0</td>\n",
       "      <td>6.0</td>\n",
       "      <td>...</td>\n",
       "      <td>62.0</td>\n",
       "      <td>139.0</td>\n",
       "      <td>335.0</td>\n",
       "      <td>661.0</td>\n",
       "      <td>89.0</td>\n",
       "      <td>51.0</td>\n",
       "      <td>303.0</td>\n",
       "      <td>91.0</td>\n",
       "      <td>95.0</td>\n",
       "      <td>NaN</td>\n",
       "    </tr>\n",
       "    <tr>\n",
       "      <th>2019</th>\n",
       "      <td>40.0</td>\n",
       "      <td>137.0</td>\n",
       "      <td>145.0</td>\n",
       "      <td>95.0</td>\n",
       "      <td>15.0</td>\n",
       "      <td>158.0</td>\n",
       "      <td>57.0</td>\n",
       "      <td>6.0</td>\n",
       "      <td>59.0</td>\n",
       "      <td>8.0</td>\n",
       "      <td>...</td>\n",
       "      <td>62.0</td>\n",
       "      <td>140.0</td>\n",
       "      <td>347.0</td>\n",
       "      <td>700.0</td>\n",
       "      <td>89.0</td>\n",
       "      <td>50.0</td>\n",
       "      <td>309.0</td>\n",
       "      <td>98.0</td>\n",
       "      <td>103.0</td>\n",
       "      <td>NaN</td>\n",
       "    </tr>\n",
       "    <tr>\n",
       "      <th>2020</th>\n",
       "      <td>40.0</td>\n",
       "      <td>142.0</td>\n",
       "      <td>155.0</td>\n",
       "      <td>99.0</td>\n",
       "      <td>15.0</td>\n",
       "      <td>171.0</td>\n",
       "      <td>60.0</td>\n",
       "      <td>6.0</td>\n",
       "      <td>61.0</td>\n",
       "      <td>NaN</td>\n",
       "      <td>...</td>\n",
       "      <td>62.0</td>\n",
       "      <td>144.0</td>\n",
       "      <td>379.0</td>\n",
       "      <td>738.0</td>\n",
       "      <td>92.0</td>\n",
       "      <td>58.0</td>\n",
       "      <td>313.0</td>\n",
       "      <td>107.0</td>\n",
       "      <td>122.0</td>\n",
       "      <td>1.0</td>\n",
       "    </tr>\n",
       "    <tr>\n",
       "      <th rowspan=\"7\" valign=\"top\">Threatened Species: Vertebrates (number)</th>\n",
       "      <th>2004</th>\n",
       "      <td>31.0</td>\n",
       "      <td>33.0</td>\n",
       "      <td>36.0</td>\n",
       "      <td>18.0</td>\n",
       "      <td>1.0</td>\n",
       "      <td>44.0</td>\n",
       "      <td>15.0</td>\n",
       "      <td>8.0</td>\n",
       "      <td>18.0</td>\n",
       "      <td>1.0</td>\n",
       "      <td>...</td>\n",
       "      <td>29.0</td>\n",
       "      <td>19.0</td>\n",
       "      <td>151.0</td>\n",
       "      <td>144.0</td>\n",
       "      <td>12.0</td>\n",
       "      <td>18.0</td>\n",
       "      <td>34.0</td>\n",
       "      <td>24.0</td>\n",
       "      <td>24.0</td>\n",
       "      <td>NaN</td>\n",
       "    </tr>\n",
       "    <tr>\n",
       "      <th>2010</th>\n",
       "      <td>31.0</td>\n",
       "      <td>53.0</td>\n",
       "      <td>69.0</td>\n",
       "      <td>21.0</td>\n",
       "      <td>4.0</td>\n",
       "      <td>77.0</td>\n",
       "      <td>20.0</td>\n",
       "      <td>6.0</td>\n",
       "      <td>23.0</td>\n",
       "      <td>1.0</td>\n",
       "      <td>...</td>\n",
       "      <td>34.0</td>\n",
       "      <td>32.0</td>\n",
       "      <td>179.0</td>\n",
       "      <td>186.0</td>\n",
       "      <td>16.0</td>\n",
       "      <td>38.0</td>\n",
       "      <td>48.0</td>\n",
       "      <td>44.0</td>\n",
       "      <td>34.0</td>\n",
       "      <td>NaN</td>\n",
       "    </tr>\n",
       "    <tr>\n",
       "      <th>2016</th>\n",
       "      <td>35.0</td>\n",
       "      <td>63.0</td>\n",
       "      <td>78.0</td>\n",
       "      <td>27.0</td>\n",
       "      <td>5.0</td>\n",
       "      <td>99.0</td>\n",
       "      <td>38.0</td>\n",
       "      <td>6.0</td>\n",
       "      <td>38.0</td>\n",
       "      <td>3.0</td>\n",
       "      <td>...</td>\n",
       "      <td>39.0</td>\n",
       "      <td>37.0</td>\n",
       "      <td>212.0</td>\n",
       "      <td>260.0</td>\n",
       "      <td>24.0</td>\n",
       "      <td>44.0</td>\n",
       "      <td>67.0</td>\n",
       "      <td>51.0</td>\n",
       "      <td>39.0</td>\n",
       "      <td>NaN</td>\n",
       "    </tr>\n",
       "    <tr>\n",
       "      <th>2017</th>\n",
       "      <td>35.0</td>\n",
       "      <td>62.0</td>\n",
       "      <td>79.0</td>\n",
       "      <td>27.0</td>\n",
       "      <td>5.0</td>\n",
       "      <td>103.0</td>\n",
       "      <td>38.0</td>\n",
       "      <td>6.0</td>\n",
       "      <td>40.0</td>\n",
       "      <td>3.0</td>\n",
       "      <td>...</td>\n",
       "      <td>39.0</td>\n",
       "      <td>36.0</td>\n",
       "      <td>220.0</td>\n",
       "      <td>260.0</td>\n",
       "      <td>24.0</td>\n",
       "      <td>46.0</td>\n",
       "      <td>68.0</td>\n",
       "      <td>53.0</td>\n",
       "      <td>41.0</td>\n",
       "      <td>NaN</td>\n",
       "    </tr>\n",
       "    <tr>\n",
       "      <th>2018</th>\n",
       "      <td>34.0</td>\n",
       "      <td>62.0</td>\n",
       "      <td>80.0</td>\n",
       "      <td>27.0</td>\n",
       "      <td>6.0</td>\n",
       "      <td>108.0</td>\n",
       "      <td>40.0</td>\n",
       "      <td>6.0</td>\n",
       "      <td>41.0</td>\n",
       "      <td>5.0</td>\n",
       "      <td>...</td>\n",
       "      <td>43.0</td>\n",
       "      <td>38.0</td>\n",
       "      <td>228.0</td>\n",
       "      <td>278.0</td>\n",
       "      <td>24.0</td>\n",
       "      <td>48.0</td>\n",
       "      <td>72.0</td>\n",
       "      <td>54.0</td>\n",
       "      <td>42.0</td>\n",
       "      <td>NaN</td>\n",
       "    </tr>\n",
       "    <tr>\n",
       "      <th>2019</th>\n",
       "      <td>33.0</td>\n",
       "      <td>61.0</td>\n",
       "      <td>81.0</td>\n",
       "      <td>29.0</td>\n",
       "      <td>6.0</td>\n",
       "      <td>111.0</td>\n",
       "      <td>43.0</td>\n",
       "      <td>6.0</td>\n",
       "      <td>44.0</td>\n",
       "      <td>7.0</td>\n",
       "      <td>...</td>\n",
       "      <td>43.0</td>\n",
       "      <td>39.0</td>\n",
       "      <td>231.0</td>\n",
       "      <td>310.0</td>\n",
       "      <td>24.0</td>\n",
       "      <td>47.0</td>\n",
       "      <td>78.0</td>\n",
       "      <td>56.0</td>\n",
       "      <td>43.0</td>\n",
       "      <td>NaN</td>\n",
       "    </tr>\n",
       "    <tr>\n",
       "      <th>2020</th>\n",
       "      <td>33.0</td>\n",
       "      <td>64.0</td>\n",
       "      <td>85.0</td>\n",
       "      <td>32.0</td>\n",
       "      <td>6.0</td>\n",
       "      <td>117.0</td>\n",
       "      <td>47.0</td>\n",
       "      <td>6.0</td>\n",
       "      <td>47.0</td>\n",
       "      <td>NaN</td>\n",
       "      <td>...</td>\n",
       "      <td>43.0</td>\n",
       "      <td>42.0</td>\n",
       "      <td>251.0</td>\n",
       "      <td>322.0</td>\n",
       "      <td>27.0</td>\n",
       "      <td>55.0</td>\n",
       "      <td>82.0</td>\n",
       "      <td>61.0</td>\n",
       "      <td>43.0</td>\n",
       "      <td>0.0</td>\n",
       "    </tr>\n",
       "  </tbody>\n",
       "</table>\n",
       "<p>28 rows × 253 columns</p>\n",
       "</div>"
      ],
      "text/plain": [
       "Country                                          Afghanistan  Albania  \\\n",
       "Series                                     Year                         \n",
       "Threatened Species: Invertebrates (number) 2004          1.0      4.0   \n",
       "                                           2010          1.0     47.0   \n",
       "                                           2016          2.0     62.0   \n",
       "                                           2017          2.0     68.0   \n",
       "                                           2018          2.0     71.0   \n",
       "                                           2019          2.0     71.0   \n",
       "                                           2020          2.0     73.0   \n",
       "Threatened Species: Plants (number)        2004          1.0      0.0   \n",
       "                                           2010          2.0      0.0   \n",
       "                                           2016          5.0      0.0   \n",
       "                                           2017          5.0      0.0   \n",
       "                                           2018          5.0      4.0   \n",
       "                                           2019          5.0      5.0   \n",
       "                                           2020          5.0      5.0   \n",
       "Threatened Species: Total (number)         2004         33.0     37.0   \n",
       "                                           2010         34.0    100.0   \n",
       "                                           2016         42.0    125.0   \n",
       "                                           2017         42.0    130.0   \n",
       "                                           2018         41.0    137.0   \n",
       "                                           2019         40.0    137.0   \n",
       "                                           2020         40.0    142.0   \n",
       "Threatened Species: Vertebrates (number)   2004         31.0     33.0   \n",
       "                                           2010         31.0     53.0   \n",
       "                                           2016         35.0     63.0   \n",
       "                                           2017         35.0     62.0   \n",
       "                                           2018         34.0     62.0   \n",
       "                                           2019         33.0     61.0   \n",
       "                                           2020         33.0     64.0   \n",
       "\n",
       "Country                                          Algeria  American Samoa  \\\n",
       "Series                                     Year                            \n",
       "Threatened Species: Invertebrates (number) 2004     12.0             5.0   \n",
       "                                           2010     21.0            57.0   \n",
       "                                           2016     29.0            64.0   \n",
       "                                           2017     38.0            64.0   \n",
       "                                           2018     40.0            64.0   \n",
       "                                           2019     40.0            65.0   \n",
       "                                           2020     42.0            65.0   \n",
       "Threatened Species: Plants (number)        2004      2.0             1.0   \n",
       "                                           2010     15.0             1.0   \n",
       "                                           2016     18.0             1.0   \n",
       "                                           2017     18.0             1.0   \n",
       "                                           2018     23.0             1.0   \n",
       "                                           2019     24.0             1.0   \n",
       "                                           2020     28.0             2.0   \n",
       "Threatened Species: Total (number)         2004     50.0            24.0   \n",
       "                                           2010    105.0            79.0   \n",
       "                                           2016    125.0            92.0   \n",
       "                                           2017    135.0            92.0   \n",
       "                                           2018    143.0            92.0   \n",
       "                                           2019    145.0            95.0   \n",
       "                                           2020    155.0            99.0   \n",
       "Threatened Species: Vertebrates (number)   2004     36.0            18.0   \n",
       "                                           2010     69.0            21.0   \n",
       "                                           2016     78.0            27.0   \n",
       "                                           2017     79.0            27.0   \n",
       "                                           2018     80.0            27.0   \n",
       "                                           2019     81.0            29.0   \n",
       "                                           2020     85.0            32.0   \n",
       "\n",
       "Country                                          Andorra  Angola  Anguilla  \\\n",
       "Series                                     Year                              \n",
       "Threatened Species: Invertebrates (number) 2004      4.0     6.0       0.0   \n",
       "                                           2010      4.0     7.0      10.0   \n",
       "                                           2016      7.0     9.0      10.0   \n",
       "                                           2017      8.0     9.0      10.0   \n",
       "                                           2018      8.0    11.0      10.0   \n",
       "                                           2019      8.0    11.0      10.0   \n",
       "                                           2020      8.0    11.0      10.0   \n",
       "Threatened Species: Plants (number)        2004      0.0    26.0       3.0   \n",
       "                                           2010      0.0    33.0       3.0   \n",
       "                                           2016      0.0    34.0       4.0   \n",
       "                                           2017      0.0    34.0       4.0   \n",
       "                                           2018      0.0    35.0       4.0   \n",
       "                                           2019      1.0    36.0       4.0   \n",
       "                                           2020      1.0    43.0       3.0   \n",
       "Threatened Species: Total (number)         2004      5.0    76.0      18.0   \n",
       "                                           2010      8.0   117.0      33.0   \n",
       "                                           2016     12.0   142.0      52.0   \n",
       "                                           2017     13.0   146.0      52.0   \n",
       "                                           2018     14.0   154.0      54.0   \n",
       "                                           2019     15.0   158.0      57.0   \n",
       "                                           2020     15.0   171.0      60.0   \n",
       "Threatened Species: Vertebrates (number)   2004      1.0    44.0      15.0   \n",
       "                                           2010      4.0    77.0      20.0   \n",
       "                                           2016      5.0    99.0      38.0   \n",
       "                                           2017      5.0   103.0      38.0   \n",
       "                                           2018      6.0   108.0      40.0   \n",
       "                                           2019      6.0   111.0      43.0   \n",
       "                                           2020      6.0   117.0      47.0   \n",
       "\n",
       "Country                                          Antarctica  \\\n",
       "Series                                     Year               \n",
       "Threatened Species: Invertebrates (number) 2004         0.0   \n",
       "                                           2010         0.0   \n",
       "                                           2016         0.0   \n",
       "                                           2017         0.0   \n",
       "                                           2018         0.0   \n",
       "                                           2019         0.0   \n",
       "                                           2020         0.0   \n",
       "Threatened Species: Plants (number)        2004         0.0   \n",
       "                                           2010         0.0   \n",
       "                                           2016         0.0   \n",
       "                                           2017         0.0   \n",
       "                                           2018         0.0   \n",
       "                                           2019         0.0   \n",
       "                                           2020         0.0   \n",
       "Threatened Species: Total (number)         2004         8.0   \n",
       "                                           2010         6.0   \n",
       "                                           2016         6.0   \n",
       "                                           2017         6.0   \n",
       "                                           2018         6.0   \n",
       "                                           2019         6.0   \n",
       "                                           2020         6.0   \n",
       "Threatened Species: Vertebrates (number)   2004         8.0   \n",
       "                                           2010         6.0   \n",
       "                                           2016         6.0   \n",
       "                                           2017         6.0   \n",
       "                                           2018         6.0   \n",
       "                                           2019         6.0   \n",
       "                                           2020         6.0   \n",
       "\n",
       "Country                                          Antigua and Barbuda  \\\n",
       "Series                                     Year                        \n",
       "Threatened Species: Invertebrates (number) 2004                  0.0   \n",
       "                                           2010                 11.0   \n",
       "                                           2016                 11.0   \n",
       "                                           2017                 11.0   \n",
       "                                           2018                 11.0   \n",
       "                                           2019                 11.0   \n",
       "                                           2020                 11.0   \n",
       "Threatened Species: Plants (number)        2004                  4.0   \n",
       "                                           2010                  4.0   \n",
       "                                           2016                  4.0   \n",
       "                                           2017                  4.0   \n",
       "                                           2018                  4.0   \n",
       "                                           2019                  4.0   \n",
       "                                           2020                  3.0   \n",
       "Threatened Species: Total (number)         2004                 22.0   \n",
       "                                           2010                 38.0   \n",
       "                                           2016                 53.0   \n",
       "                                           2017                 55.0   \n",
       "                                           2018                 56.0   \n",
       "                                           2019                 59.0   \n",
       "                                           2020                 61.0   \n",
       "Threatened Species: Vertebrates (number)   2004                 18.0   \n",
       "                                           2010                 23.0   \n",
       "                                           2016                 38.0   \n",
       "                                           2017                 40.0   \n",
       "                                           2018                 41.0   \n",
       "                                           2019                 44.0   \n",
       "                                           2020                 47.0   \n",
       "\n",
       "Country                                          Areas n.e.s  ...  Uzbekistan  \\\n",
       "Series                                     Year               ...               \n",
       "Threatened Species: Invertebrates (number) 2004          0.0  ...         1.0   \n",
       "                                           2010          0.0  ...         1.0   \n",
       "                                           2016          1.0  ...         3.0   \n",
       "                                           2017          1.0  ...         3.0   \n",
       "                                           2018          1.0  ...         3.0   \n",
       "                                           2019          1.0  ...         3.0   \n",
       "                                           2020          NaN  ...         3.0   \n",
       "Threatened Species: Plants (number)        2004          0.0  ...         1.0   \n",
       "                                           2010          0.0  ...        15.0   \n",
       "                                           2016          0.0  ...        17.0   \n",
       "                                           2017          0.0  ...        17.0   \n",
       "                                           2018          0.0  ...        16.0   \n",
       "                                           2019          NaN  ...        16.0   \n",
       "                                           2020          NaN  ...        16.0   \n",
       "Threatened Species: Total (number)         2004          1.0  ...        31.0   \n",
       "                                           2010          1.0  ...        50.0   \n",
       "                                           2016          4.0  ...        59.0   \n",
       "                                           2017          4.0  ...        59.0   \n",
       "                                           2018          6.0  ...        62.0   \n",
       "                                           2019          8.0  ...        62.0   \n",
       "                                           2020          NaN  ...        62.0   \n",
       "Threatened Species: Vertebrates (number)   2004          1.0  ...        29.0   \n",
       "                                           2010          1.0  ...        34.0   \n",
       "                                           2016          3.0  ...        39.0   \n",
       "                                           2017          3.0  ...        39.0   \n",
       "                                           2018          5.0  ...        43.0   \n",
       "                                           2019          7.0  ...        43.0   \n",
       "                                           2020          NaN  ...        43.0   \n",
       "\n",
       "Country                                          Vanuatu  \\\n",
       "Series                                     Year            \n",
       "Threatened Species: Invertebrates (number) 2004      0.0   \n",
       "                                           2010     79.0   \n",
       "                                           2016     92.0   \n",
       "                                           2017     91.0   \n",
       "                                           2018     91.0   \n",
       "                                           2019     91.0   \n",
       "                                           2020     91.0   \n",
       "Threatened Species: Plants (number)        2004     10.0   \n",
       "                                           2010     10.0   \n",
       "                                           2016     10.0   \n",
       "                                           2017     10.0   \n",
       "                                           2018     10.0   \n",
       "                                           2019     10.0   \n",
       "                                           2020     11.0   \n",
       "Threatened Species: Total (number)         2004     29.0   \n",
       "                                           2010    121.0   \n",
       "                                           2016    139.0   \n",
       "                                           2017    137.0   \n",
       "                                           2018    139.0   \n",
       "                                           2019    140.0   \n",
       "                                           2020    144.0   \n",
       "Threatened Species: Vertebrates (number)   2004     19.0   \n",
       "                                           2010     32.0   \n",
       "                                           2016     37.0   \n",
       "                                           2017     36.0   \n",
       "                                           2018     38.0   \n",
       "                                           2019     39.0   \n",
       "                                           2020     42.0   \n",
       "\n",
       "Country                                          Venezuela (Boliv. Rep. of)  \\\n",
       "Series                                     Year                               \n",
       "Threatened Species: Invertebrates (number) 2004                         1.0   \n",
       "                                           2010                        21.0   \n",
       "                                           2016                        26.0   \n",
       "                                           2017                        26.0   \n",
       "                                           2018                        26.0   \n",
       "                                           2019                        26.0   \n",
       "                                           2020                        26.0   \n",
       "Threatened Species: Plants (number)        2004                        67.0   \n",
       "                                           2010                        70.0   \n",
       "                                           2016                        82.0   \n",
       "                                           2017                        82.0   \n",
       "                                           2018                        81.0   \n",
       "                                           2019                        90.0   \n",
       "                                           2020                       102.0   \n",
       "Threatened Species: Total (number)         2004                       219.0   \n",
       "                                           2010                       270.0   \n",
       "                                           2016                       320.0   \n",
       "                                           2017                       328.0   \n",
       "                                           2018                       335.0   \n",
       "                                           2019                       347.0   \n",
       "                                           2020                       379.0   \n",
       "Threatened Species: Vertebrates (number)   2004                       151.0   \n",
       "                                           2010                       179.0   \n",
       "                                           2016                       212.0   \n",
       "                                           2017                       220.0   \n",
       "                                           2018                       228.0   \n",
       "                                           2019                       231.0   \n",
       "                                           2020                       251.0   \n",
       "\n",
       "Country                                          Viet Nam  \\\n",
       "Series                                     Year             \n",
       "Threatened Species: Invertebrates (number) 2004       0.0   \n",
       "                                           2010      92.0   \n",
       "                                           2016     152.0   \n",
       "                                           2017     152.0   \n",
       "                                           2018     152.0   \n",
       "                                           2019     154.0   \n",
       "                                           2020     156.0   \n",
       "Threatened Species: Plants (number)        2004     145.0   \n",
       "                                           2010     146.0   \n",
       "                                           2016     204.0   \n",
       "                                           2017     204.0   \n",
       "                                           2018     231.0   \n",
       "                                           2019     236.0   \n",
       "                                           2020     260.0   \n",
       "Threatened Species: Total (number)         2004     289.0   \n",
       "                                           2010     424.0   \n",
       "                                           2016     616.0   \n",
       "                                           2017     616.0   \n",
       "                                           2018     661.0   \n",
       "                                           2019     700.0   \n",
       "                                           2020     738.0   \n",
       "Threatened Species: Vertebrates (number)   2004     144.0   \n",
       "                                           2010     186.0   \n",
       "                                           2016     260.0   \n",
       "                                           2017     260.0   \n",
       "                                           2018     278.0   \n",
       "                                           2019     310.0   \n",
       "                                           2020     322.0   \n",
       "\n",
       "Country                                          Wallis and Futuna Islands  \\\n",
       "Series                                     Year                              \n",
       "Threatened Species: Invertebrates (number) 2004                        0.0   \n",
       "                                           2010                       57.0   \n",
       "                                           2016                       65.0   \n",
       "                                           2017                       64.0   \n",
       "                                           2018                       64.0   \n",
       "                                           2019                       64.0   \n",
       "                                           2020                       64.0   \n",
       "Threatened Species: Plants (number)        2004                        1.0   \n",
       "                                           2010                        1.0   \n",
       "                                           2016                        1.0   \n",
       "                                           2017                        1.0   \n",
       "                                           2018                        1.0   \n",
       "                                           2019                        1.0   \n",
       "                                           2020                        1.0   \n",
       "Threatened Species: Total (number)         2004                       13.0   \n",
       "                                           2010                       74.0   \n",
       "                                           2016                       90.0   \n",
       "                                           2017                       89.0   \n",
       "                                           2018                       89.0   \n",
       "                                           2019                       89.0   \n",
       "                                           2020                       92.0   \n",
       "Threatened Species: Vertebrates (number)   2004                       12.0   \n",
       "                                           2010                       16.0   \n",
       "                                           2016                       24.0   \n",
       "                                           2017                       24.0   \n",
       "                                           2018                       24.0   \n",
       "                                           2019                       24.0   \n",
       "                                           2020                       27.0   \n",
       "\n",
       "Country                                          Western Sahara  Yemen  \\\n",
       "Series                                     Year                          \n",
       "Threatened Species: Invertebrates (number) 2004             1.0    2.0   \n",
       "                                           2010             1.0   62.0   \n",
       "                                           2016             3.0   68.0   \n",
       "                                           2017             3.0   68.0   \n",
       "                                           2018             3.0   68.0   \n",
       "                                           2019             3.0   68.0   \n",
       "                                           2020             3.0   68.0   \n",
       "Threatened Species: Plants (number)        2004             0.0  159.0   \n",
       "                                           2010             0.0  159.0   \n",
       "                                           2016             0.0  162.0   \n",
       "                                           2017             0.0  162.0   \n",
       "                                           2018             0.0  163.0   \n",
       "                                           2019             0.0  163.0   \n",
       "                                           2020             0.0  163.0   \n",
       "Threatened Species: Total (number)         2004            19.0  195.0   \n",
       "                                           2010            39.0  269.0   \n",
       "                                           2016            47.0  297.0   \n",
       "                                           2017            49.0  298.0   \n",
       "                                           2018            51.0  303.0   \n",
       "                                           2019            50.0  309.0   \n",
       "                                           2020            58.0  313.0   \n",
       "Threatened Species: Vertebrates (number)   2004            18.0   34.0   \n",
       "                                           2010            38.0   48.0   \n",
       "                                           2016            44.0   67.0   \n",
       "                                           2017            46.0   68.0   \n",
       "                                           2018            48.0   72.0   \n",
       "                                           2019            47.0   78.0   \n",
       "                                           2020            55.0   82.0   \n",
       "\n",
       "Country                                          Zambia  Zimbabwe  \\\n",
       "Series                                     Year                     \n",
       "Threatened Species: Invertebrates (number) 2004     7.0       2.0   \n",
       "                                           2010    14.0       5.0   \n",
       "                                           2016    14.0       5.0   \n",
       "                                           2017    14.0       5.0   \n",
       "                                           2018    15.0       7.0   \n",
       "                                           2019    14.0       8.0   \n",
       "                                           2020    14.0       8.0   \n",
       "Threatened Species: Plants (number)        2004     8.0      17.0   \n",
       "                                           2010     9.0      16.0   \n",
       "                                           2016    20.0      17.0   \n",
       "                                           2017    21.0      43.0   \n",
       "                                           2018    22.0      46.0   \n",
       "                                           2019    28.0      52.0   \n",
       "                                           2020    32.0      71.0   \n",
       "Threatened Species: Total (number)         2004    39.0      43.0   \n",
       "                                           2010    67.0      55.0   \n",
       "                                           2016    85.0      61.0   \n",
       "                                           2017    88.0      89.0   \n",
       "                                           2018    91.0      95.0   \n",
       "                                           2019    98.0     103.0   \n",
       "                                           2020   107.0     122.0   \n",
       "Threatened Species: Vertebrates (number)   2004    24.0      24.0   \n",
       "                                           2010    44.0      34.0   \n",
       "                                           2016    51.0      39.0   \n",
       "                                           2017    53.0      41.0   \n",
       "                                           2018    54.0      42.0   \n",
       "                                           2019    56.0      43.0   \n",
       "                                           2020    61.0      43.0   \n",
       "\n",
       "Country                                          Åland Islands  \n",
       "Series                                     Year                 \n",
       "Threatened Species: Invertebrates (number) 2004            NaN  \n",
       "                                           2010            NaN  \n",
       "                                           2016            NaN  \n",
       "                                           2017            NaN  \n",
       "                                           2018            NaN  \n",
       "                                           2019            NaN  \n",
       "                                           2020            0.0  \n",
       "Threatened Species: Plants (number)        2004            NaN  \n",
       "                                           2010            NaN  \n",
       "                                           2016            NaN  \n",
       "                                           2017            NaN  \n",
       "                                           2018            NaN  \n",
       "                                           2019            NaN  \n",
       "                                           2020            1.0  \n",
       "Threatened Species: Total (number)         2004            NaN  \n",
       "                                           2010            NaN  \n",
       "                                           2016            NaN  \n",
       "                                           2017            NaN  \n",
       "                                           2018            NaN  \n",
       "                                           2019            NaN  \n",
       "                                           2020            1.0  \n",
       "Threatened Species: Vertebrates (number)   2004            NaN  \n",
       "                                           2010            NaN  \n",
       "                                           2016            NaN  \n",
       "                                           2017            NaN  \n",
       "                                           2018            NaN  \n",
       "                                           2019            NaN  \n",
       "                                           2020            0.0  \n",
       "\n",
       "[28 rows x 253 columns]"
      ]
     },
     "metadata": {},
     "output_type": "display_data"
    }
   ],
   "source": [
    "# Sort table by number of threatened species\n",
    "threatened_species_df = threatened_species_df.sort_values(by = ['Value'], ascending = False)\n",
    "\n",
    "# Choose only the rows showing 2020 and total threatened species, then display head and tail\n",
    "species_2020 = threatened_species_df[threatened_species_df[\"Year\"] == 2020][threatened_species_df[\"Series\"] == \"Threatened Species: Total (number)\"]\n",
    "display(species_2020.head(10))\n",
    "display(species_2020.tail(10))\n",
    "\n",
    "# Choose only the rows showing 2004 and total threatened species, then display head and tail\n",
    "species_2004 = threatened_species_df[threatened_species_df[\"Year\"] == 2004][threatened_species_df[\"Series\"] == \"Threatened Species: Total (number)\"]\n",
    "display(species_2004.head(10))\n",
    "display(species_2004.tail(10))\n",
    "\n",
    "# Create a pivot table to display the available data in a readable way\n",
    "threatened_species_table = pd.pivot_table(threatened_species_df, values='Value', index=['Series', 'Year'],\n",
    "                    columns=['Country'], aggfunc=max)\n",
    "\n",
    "display(threatened_species_table)\n",
    "\n"
   ]
  }
 ],
 "metadata": {
  "kernelspec": {
   "display_name": "Python 3",
   "language": "python",
   "name": "python3"
  },
  "language_info": {
   "codemirror_mode": {
    "name": "ipython",
    "version": 3
   },
   "file_extension": ".py",
   "mimetype": "text/x-python",
   "name": "python",
   "nbconvert_exporter": "python",
   "pygments_lexer": "ipython3",
   "version": "3.8.8"
  }
 },
 "nbformat": 4,
 "nbformat_minor": 5
}
