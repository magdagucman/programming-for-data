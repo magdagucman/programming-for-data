{
 "cells": [
  {
   "cell_type": "markdown",
   "metadata": {
    "id": "9HLbtdkaCYT8"
   },
   "source": [
    "# Visualising the data\n",
    "---\n",
    "\n",
    "There are a good number of libraries available containing functions for visualising data with bar charts, pie charts, line plots, box plots, scatter plots and, in some libraries, with more image based visualisations.\n",
    "\n",
    "To keep it relatively simple, we will start with matplotlib, a widely used library with a wide range of visualisation functions (pyplot functions) for data sets and mathematical equations.  It has the main functions we will use in this course:\n",
    "*  bar charts\n",
    "*  pie charts\n",
    "*  line plots\n",
    "*  box plots\n",
    "*  scatter plots\n",
    "*  histogram\n",
    "\n",
    "Each requires these things:  \n",
    "1. Select the data columns to be plotted \n",
    "2. Prepare the data (remove null values, clean formats, etc)  \n",
    "3. Run the function for the required plot\n",
    "\n",
    "Once you have the hang of these, you can start to look at labelling, colouring, etc.\n",
    "\n",
    "In order to begin creating visualisations, you need to:  \n",
    "* import **matplotlib.pyplot** as **plt**\n",
    "\n",
    "Test output for all Exercises is [here](https://docs.google.com/presentation/d/e/2PACX-1vSqdTg47YlYie7ld1QHapcbUMYiYdlIg04gN4P0OsnCWH02oRlrmsgMVXAobtgD8IiM_0tr35IsEZxl/pub?start=false&loop=false&delayms=3000)"
   ]
  },
  {
   "cell_type": "markdown",
   "metadata": {
    "id": "QLAkYsH8CYUA"
   },
   "source": [
    "#  Bar charts and Line Plots\n",
    "---\n",
    "\n",
    "For these exercises, use the Excel data file:\n",
    "\n",
    "'public-use-talent-migration' looking at sheet_name 'Country Migration'  \n",
    "https://github.com/futureCodersSE/working-with-data/blob/main/Data%20sets/public_use-talent-migration.xlsx?raw=true \n",
    "\n",
    "**Example**:  \n",
    "\n",
    "Watch the video [here](https://drive.google.com/file/d/1eNOy7fhkB2CSfVdb66kqB66qXfoPfOpd/view?usp=sharing) - demonstration of creating a bar chart using the `matplotlib` library `pyplot`.  Then have a go at creating it yourself.\n",
    "\n"
   ]
  },
  {
   "cell_type": "markdown",
   "metadata": {
    "id": "3uJhU8yaCYUB"
   },
   "source": [
    "### Exercise 1 - Creating a Bar chart for yearly migration\n",
    "---\n",
    "Create a bar chart which shows the total net migration for the years 2015-2019  \n",
    " \n",
    "* split the net migration columns into a new dataframe\n",
    "* create a series from the max() values of the five columns\n",
    "* create a labels variable, this time just create a list of the 5 years ['2015','2016','2017','2018','2019']\n",
    "* plot the bar chart\n",
    "\n",
    "***Presentation tips***:\n",
    "* use plt.xlabel('Year') and plt.ylabel('Total net migration') to name your axis \n",
    "* display your bar graph with plt.show "
   ]
  },
  {
   "cell_type": "code",
   "execution_count": 269,
   "metadata": {
    "id": "GSxnxPruCYUB",
    "scrolled": true
   },
   "outputs": [
    {
     "data": {
      "text/html": [
       "<div>\n",
       "<style scoped>\n",
       "    .dataframe tbody tr th:only-of-type {\n",
       "        vertical-align: middle;\n",
       "    }\n",
       "\n",
       "    .dataframe tbody tr th {\n",
       "        vertical-align: top;\n",
       "    }\n",
       "\n",
       "    .dataframe thead th {\n",
       "        text-align: right;\n",
       "    }\n",
       "</style>\n",
       "<table border=\"1\" class=\"dataframe\">\n",
       "  <thead>\n",
       "    <tr style=\"text-align: right;\">\n",
       "      <th></th>\n",
       "      <th>base_country_code</th>\n",
       "      <th>base_country_name</th>\n",
       "      <th>base_lat</th>\n",
       "      <th>base_long</th>\n",
       "      <th>base_country_wb_income</th>\n",
       "      <th>base_country_wb_region</th>\n",
       "      <th>target_country_code</th>\n",
       "      <th>target_country_name</th>\n",
       "      <th>target_lat</th>\n",
       "      <th>target_long</th>\n",
       "      <th>...</th>\n",
       "      <th>net_per_10K_2019</th>\n",
       "      <th>Unnamed: 17</th>\n",
       "      <th>Unnamed: 18</th>\n",
       "      <th>Unnamed: 19</th>\n",
       "      <th>Unnamed: 20</th>\n",
       "      <th>Unnamed: 21</th>\n",
       "      <th>Unnamed: 22</th>\n",
       "      <th>Unnamed: 23</th>\n",
       "      <th>Unnamed: 24</th>\n",
       "      <th>Unnamed: 25</th>\n",
       "    </tr>\n",
       "  </thead>\n",
       "  <tbody>\n",
       "    <tr>\n",
       "      <th>0</th>\n",
       "      <td>ae</td>\n",
       "      <td>United Arab Emirates</td>\n",
       "      <td>23.424076</td>\n",
       "      <td>53.847818</td>\n",
       "      <td>High Income</td>\n",
       "      <td>Middle East &amp; North Africa</td>\n",
       "      <td>af</td>\n",
       "      <td>Afghanistan</td>\n",
       "      <td>33.939110</td>\n",
       "      <td>67.709953</td>\n",
       "      <td>...</td>\n",
       "      <td>-0.02</td>\n",
       "      <td>NaN</td>\n",
       "      <td>NaN</td>\n",
       "      <td>NaN</td>\n",
       "      <td>NaN</td>\n",
       "      <td>NaN</td>\n",
       "      <td>NaN</td>\n",
       "      <td>NaN</td>\n",
       "      <td>NaN</td>\n",
       "      <td>NaN</td>\n",
       "    </tr>\n",
       "    <tr>\n",
       "      <th>1</th>\n",
       "      <td>ae</td>\n",
       "      <td>United Arab Emirates</td>\n",
       "      <td>23.424076</td>\n",
       "      <td>53.847818</td>\n",
       "      <td>High Income</td>\n",
       "      <td>Middle East &amp; North Africa</td>\n",
       "      <td>dz</td>\n",
       "      <td>Algeria</td>\n",
       "      <td>28.033886</td>\n",
       "      <td>1.659626</td>\n",
       "      <td>...</td>\n",
       "      <td>0.78</td>\n",
       "      <td>NaN</td>\n",
       "      <td>NaN</td>\n",
       "      <td>NaN</td>\n",
       "      <td>NaN</td>\n",
       "      <td>NaN</td>\n",
       "      <td>NaN</td>\n",
       "      <td>NaN</td>\n",
       "      <td>NaN</td>\n",
       "      <td>NaN</td>\n",
       "    </tr>\n",
       "    <tr>\n",
       "      <th>2</th>\n",
       "      <td>ae</td>\n",
       "      <td>United Arab Emirates</td>\n",
       "      <td>23.424076</td>\n",
       "      <td>53.847818</td>\n",
       "      <td>High Income</td>\n",
       "      <td>Middle East &amp; North Africa</td>\n",
       "      <td>ao</td>\n",
       "      <td>Angola</td>\n",
       "      <td>-11.202692</td>\n",
       "      <td>17.873887</td>\n",
       "      <td>...</td>\n",
       "      <td>-0.06</td>\n",
       "      <td>NaN</td>\n",
       "      <td>NaN</td>\n",
       "      <td>NaN</td>\n",
       "      <td>NaN</td>\n",
       "      <td>NaN</td>\n",
       "      <td>NaN</td>\n",
       "      <td>NaN</td>\n",
       "      <td>NaN</td>\n",
       "      <td>NaN</td>\n",
       "    </tr>\n",
       "    <tr>\n",
       "      <th>3</th>\n",
       "      <td>ae</td>\n",
       "      <td>United Arab Emirates</td>\n",
       "      <td>23.424076</td>\n",
       "      <td>53.847818</td>\n",
       "      <td>High Income</td>\n",
       "      <td>Middle East &amp; North Africa</td>\n",
       "      <td>ar</td>\n",
       "      <td>Argentina</td>\n",
       "      <td>-38.416097</td>\n",
       "      <td>-63.616672</td>\n",
       "      <td>...</td>\n",
       "      <td>0.23</td>\n",
       "      <td>NaN</td>\n",
       "      <td>NaN</td>\n",
       "      <td>NaN</td>\n",
       "      <td>NaN</td>\n",
       "      <td>NaN</td>\n",
       "      <td>NaN</td>\n",
       "      <td>NaN</td>\n",
       "      <td>NaN</td>\n",
       "      <td>NaN</td>\n",
       "    </tr>\n",
       "    <tr>\n",
       "      <th>4</th>\n",
       "      <td>ae</td>\n",
       "      <td>United Arab Emirates</td>\n",
       "      <td>23.424076</td>\n",
       "      <td>53.847818</td>\n",
       "      <td>High Income</td>\n",
       "      <td>Middle East &amp; North Africa</td>\n",
       "      <td>am</td>\n",
       "      <td>Armenia</td>\n",
       "      <td>40.069099</td>\n",
       "      <td>45.038189</td>\n",
       "      <td>...</td>\n",
       "      <td>0.02</td>\n",
       "      <td>NaN</td>\n",
       "      <td>NaN</td>\n",
       "      <td>NaN</td>\n",
       "      <td>NaN</td>\n",
       "      <td>NaN</td>\n",
       "      <td>NaN</td>\n",
       "      <td>NaN</td>\n",
       "      <td>NaN</td>\n",
       "      <td>NaN</td>\n",
       "    </tr>\n",
       "    <tr>\n",
       "      <th>...</th>\n",
       "      <td>...</td>\n",
       "      <td>...</td>\n",
       "      <td>...</td>\n",
       "      <td>...</td>\n",
       "      <td>...</td>\n",
       "      <td>...</td>\n",
       "      <td>...</td>\n",
       "      <td>...</td>\n",
       "      <td>...</td>\n",
       "      <td>...</td>\n",
       "      <td>...</td>\n",
       "      <td>...</td>\n",
       "      <td>...</td>\n",
       "      <td>...</td>\n",
       "      <td>...</td>\n",
       "      <td>...</td>\n",
       "      <td>...</td>\n",
       "      <td>...</td>\n",
       "      <td>...</td>\n",
       "      <td>...</td>\n",
       "      <td>...</td>\n",
       "    </tr>\n",
       "    <tr>\n",
       "      <th>4143</th>\n",
       "      <td>zw</td>\n",
       "      <td>Zimbabwe</td>\n",
       "      <td>-19.015438</td>\n",
       "      <td>29.154857</td>\n",
       "      <td>Low Income</td>\n",
       "      <td>Sub-Saharan Africa</td>\n",
       "      <td>za</td>\n",
       "      <td>South Africa</td>\n",
       "      <td>-30.559482</td>\n",
       "      <td>22.937506</td>\n",
       "      <td>...</td>\n",
       "      <td>-20.76</td>\n",
       "      <td>NaN</td>\n",
       "      <td>NaN</td>\n",
       "      <td>NaN</td>\n",
       "      <td>NaN</td>\n",
       "      <td>NaN</td>\n",
       "      <td>NaN</td>\n",
       "      <td>NaN</td>\n",
       "      <td>NaN</td>\n",
       "      <td>NaN</td>\n",
       "    </tr>\n",
       "    <tr>\n",
       "      <th>4144</th>\n",
       "      <td>zw</td>\n",
       "      <td>Zimbabwe</td>\n",
       "      <td>-19.015438</td>\n",
       "      <td>29.154857</td>\n",
       "      <td>Low Income</td>\n",
       "      <td>Sub-Saharan Africa</td>\n",
       "      <td>ae</td>\n",
       "      <td>United Arab Emirates</td>\n",
       "      <td>23.424076</td>\n",
       "      <td>53.847818</td>\n",
       "      <td>...</td>\n",
       "      <td>-3.19</td>\n",
       "      <td>NaN</td>\n",
       "      <td>NaN</td>\n",
       "      <td>NaN</td>\n",
       "      <td>NaN</td>\n",
       "      <td>NaN</td>\n",
       "      <td>NaN</td>\n",
       "      <td>NaN</td>\n",
       "      <td>NaN</td>\n",
       "      <td>NaN</td>\n",
       "    </tr>\n",
       "    <tr>\n",
       "      <th>4145</th>\n",
       "      <td>zw</td>\n",
       "      <td>Zimbabwe</td>\n",
       "      <td>-19.015438</td>\n",
       "      <td>29.154857</td>\n",
       "      <td>Low Income</td>\n",
       "      <td>Sub-Saharan Africa</td>\n",
       "      <td>gb</td>\n",
       "      <td>United Kingdom</td>\n",
       "      <td>55.378051</td>\n",
       "      <td>-3.435973</td>\n",
       "      <td>...</td>\n",
       "      <td>-1.97</td>\n",
       "      <td>NaN</td>\n",
       "      <td>NaN</td>\n",
       "      <td>NaN</td>\n",
       "      <td>NaN</td>\n",
       "      <td>NaN</td>\n",
       "      <td>NaN</td>\n",
       "      <td>NaN</td>\n",
       "      <td>NaN</td>\n",
       "      <td>NaN</td>\n",
       "    </tr>\n",
       "    <tr>\n",
       "      <th>4146</th>\n",
       "      <td>zw</td>\n",
       "      <td>Zimbabwe</td>\n",
       "      <td>-19.015438</td>\n",
       "      <td>29.154857</td>\n",
       "      <td>Low Income</td>\n",
       "      <td>Sub-Saharan Africa</td>\n",
       "      <td>us</td>\n",
       "      <td>United States</td>\n",
       "      <td>37.090240</td>\n",
       "      <td>-95.712891</td>\n",
       "      <td>...</td>\n",
       "      <td>5.25</td>\n",
       "      <td>NaN</td>\n",
       "      <td>NaN</td>\n",
       "      <td>NaN</td>\n",
       "      <td>NaN</td>\n",
       "      <td>NaN</td>\n",
       "      <td>NaN</td>\n",
       "      <td>NaN</td>\n",
       "      <td>NaN</td>\n",
       "      <td>NaN</td>\n",
       "    </tr>\n",
       "    <tr>\n",
       "      <th>4147</th>\n",
       "      <td>zw</td>\n",
       "      <td>Zimbabwe</td>\n",
       "      <td>-19.015438</td>\n",
       "      <td>29.154857</td>\n",
       "      <td>Low Income</td>\n",
       "      <td>Sub-Saharan Africa</td>\n",
       "      <td>zm</td>\n",
       "      <td>Zambia</td>\n",
       "      <td>-13.133897</td>\n",
       "      <td>27.849332</td>\n",
       "      <td>...</td>\n",
       "      <td>0.33</td>\n",
       "      <td>NaN</td>\n",
       "      <td>NaN</td>\n",
       "      <td>NaN</td>\n",
       "      <td>NaN</td>\n",
       "      <td>NaN</td>\n",
       "      <td>NaN</td>\n",
       "      <td>NaN</td>\n",
       "      <td>NaN</td>\n",
       "      <td>NaN</td>\n",
       "    </tr>\n",
       "  </tbody>\n",
       "</table>\n",
       "<p>4148 rows × 26 columns</p>\n",
       "</div>"
      ],
      "text/plain": [
       "     base_country_code     base_country_name   base_lat  base_long  \\\n",
       "0                   ae  United Arab Emirates  23.424076  53.847818   \n",
       "1                   ae  United Arab Emirates  23.424076  53.847818   \n",
       "2                   ae  United Arab Emirates  23.424076  53.847818   \n",
       "3                   ae  United Arab Emirates  23.424076  53.847818   \n",
       "4                   ae  United Arab Emirates  23.424076  53.847818   \n",
       "...                ...                   ...        ...        ...   \n",
       "4143                zw              Zimbabwe -19.015438  29.154857   \n",
       "4144                zw              Zimbabwe -19.015438  29.154857   \n",
       "4145                zw              Zimbabwe -19.015438  29.154857   \n",
       "4146                zw              Zimbabwe -19.015438  29.154857   \n",
       "4147                zw              Zimbabwe -19.015438  29.154857   \n",
       "\n",
       "     base_country_wb_income      base_country_wb_region target_country_code  \\\n",
       "0               High Income  Middle East & North Africa                  af   \n",
       "1               High Income  Middle East & North Africa                  dz   \n",
       "2               High Income  Middle East & North Africa                  ao   \n",
       "3               High Income  Middle East & North Africa                  ar   \n",
       "4               High Income  Middle East & North Africa                  am   \n",
       "...                     ...                         ...                 ...   \n",
       "4143             Low Income          Sub-Saharan Africa                  za   \n",
       "4144             Low Income          Sub-Saharan Africa                  ae   \n",
       "4145             Low Income          Sub-Saharan Africa                  gb   \n",
       "4146             Low Income          Sub-Saharan Africa                  us   \n",
       "4147             Low Income          Sub-Saharan Africa                  zm   \n",
       "\n",
       "       target_country_name  target_lat  target_long  ... net_per_10K_2019  \\\n",
       "0              Afghanistan   33.939110    67.709953  ...            -0.02   \n",
       "1                  Algeria   28.033886     1.659626  ...             0.78   \n",
       "2                   Angola  -11.202692    17.873887  ...            -0.06   \n",
       "3                Argentina  -38.416097   -63.616672  ...             0.23   \n",
       "4                  Armenia   40.069099    45.038189  ...             0.02   \n",
       "...                    ...         ...          ...  ...              ...   \n",
       "4143          South Africa  -30.559482    22.937506  ...           -20.76   \n",
       "4144  United Arab Emirates   23.424076    53.847818  ...            -3.19   \n",
       "4145        United Kingdom   55.378051    -3.435973  ...            -1.97   \n",
       "4146         United States   37.090240   -95.712891  ...             5.25   \n",
       "4147                Zambia  -13.133897    27.849332  ...             0.33   \n",
       "\n",
       "     Unnamed: 17  Unnamed: 18  Unnamed: 19  Unnamed: 20  Unnamed: 21  \\\n",
       "0            NaN          NaN          NaN          NaN          NaN   \n",
       "1            NaN          NaN          NaN          NaN          NaN   \n",
       "2            NaN          NaN          NaN          NaN          NaN   \n",
       "3            NaN          NaN          NaN          NaN          NaN   \n",
       "4            NaN          NaN          NaN          NaN          NaN   \n",
       "...          ...          ...          ...          ...          ...   \n",
       "4143         NaN          NaN          NaN          NaN          NaN   \n",
       "4144         NaN          NaN          NaN          NaN          NaN   \n",
       "4145         NaN          NaN          NaN          NaN          NaN   \n",
       "4146         NaN          NaN          NaN          NaN          NaN   \n",
       "4147         NaN          NaN          NaN          NaN          NaN   \n",
       "\n",
       "      Unnamed: 22  Unnamed: 23  Unnamed: 24  Unnamed: 25  \n",
       "0             NaN          NaN          NaN          NaN  \n",
       "1             NaN          NaN          NaN          NaN  \n",
       "2             NaN          NaN          NaN          NaN  \n",
       "3             NaN          NaN          NaN          NaN  \n",
       "4             NaN          NaN          NaN          NaN  \n",
       "...           ...          ...          ...          ...  \n",
       "4143          NaN          NaN          NaN          NaN  \n",
       "4144          NaN          NaN          NaN          NaN  \n",
       "4145          NaN          NaN          NaN          NaN  \n",
       "4146          NaN          NaN          NaN          NaN  \n",
       "4147          NaN          NaN          NaN          NaN  \n",
       "\n",
       "[4148 rows x 26 columns]"
      ]
     },
     "metadata": {},
     "output_type": "display_data"
    },
    {
     "data": {
      "text/html": [
       "<div>\n",
       "<style scoped>\n",
       "    .dataframe tbody tr th:only-of-type {\n",
       "        vertical-align: middle;\n",
       "    }\n",
       "\n",
       "    .dataframe tbody tr th {\n",
       "        vertical-align: top;\n",
       "    }\n",
       "\n",
       "    .dataframe thead th {\n",
       "        text-align: right;\n",
       "    }\n",
       "</style>\n",
       "<table border=\"1\" class=\"dataframe\">\n",
       "  <thead>\n",
       "    <tr style=\"text-align: right;\">\n",
       "      <th></th>\n",
       "      <th>net_per_10K_2015</th>\n",
       "      <th>net_per_10K_2016</th>\n",
       "      <th>net_per_10K_2017</th>\n",
       "      <th>net_per_10K_2018</th>\n",
       "      <th>net_per_10K_2019</th>\n",
       "    </tr>\n",
       "  </thead>\n",
       "  <tbody>\n",
       "    <tr>\n",
       "      <th>0</th>\n",
       "      <td>0.19</td>\n",
       "      <td>0.16</td>\n",
       "      <td>0.11</td>\n",
       "      <td>-0.05</td>\n",
       "      <td>-0.02</td>\n",
       "    </tr>\n",
       "    <tr>\n",
       "      <th>1</th>\n",
       "      <td>0.19</td>\n",
       "      <td>0.25</td>\n",
       "      <td>0.57</td>\n",
       "      <td>0.55</td>\n",
       "      <td>0.78</td>\n",
       "    </tr>\n",
       "    <tr>\n",
       "      <th>2</th>\n",
       "      <td>-0.01</td>\n",
       "      <td>0.04</td>\n",
       "      <td>0.11</td>\n",
       "      <td>-0.02</td>\n",
       "      <td>-0.06</td>\n",
       "    </tr>\n",
       "    <tr>\n",
       "      <th>3</th>\n",
       "      <td>0.16</td>\n",
       "      <td>0.18</td>\n",
       "      <td>0.04</td>\n",
       "      <td>0.01</td>\n",
       "      <td>0.23</td>\n",
       "    </tr>\n",
       "    <tr>\n",
       "      <th>4</th>\n",
       "      <td>0.10</td>\n",
       "      <td>0.05</td>\n",
       "      <td>0.03</td>\n",
       "      <td>-0.01</td>\n",
       "      <td>0.02</td>\n",
       "    </tr>\n",
       "    <tr>\n",
       "      <th>...</th>\n",
       "      <td>...</td>\n",
       "      <td>...</td>\n",
       "      <td>...</td>\n",
       "      <td>...</td>\n",
       "      <td>...</td>\n",
       "    </tr>\n",
       "    <tr>\n",
       "      <th>4143</th>\n",
       "      <td>-2.98</td>\n",
       "      <td>-11.79</td>\n",
       "      <td>-9.10</td>\n",
       "      <td>-12.08</td>\n",
       "      <td>-20.76</td>\n",
       "    </tr>\n",
       "    <tr>\n",
       "      <th>4144</th>\n",
       "      <td>-2.50</td>\n",
       "      <td>-2.49</td>\n",
       "      <td>-2.21</td>\n",
       "      <td>-1.68</td>\n",
       "      <td>-3.19</td>\n",
       "    </tr>\n",
       "    <tr>\n",
       "      <th>4145</th>\n",
       "      <td>3.91</td>\n",
       "      <td>4.66</td>\n",
       "      <td>0.74</td>\n",
       "      <td>-0.66</td>\n",
       "      <td>-1.97</td>\n",
       "    </tr>\n",
       "    <tr>\n",
       "      <th>4146</th>\n",
       "      <td>38.60</td>\n",
       "      <td>37.76</td>\n",
       "      <td>10.09</td>\n",
       "      <td>6.06</td>\n",
       "      <td>5.25</td>\n",
       "    </tr>\n",
       "    <tr>\n",
       "      <th>4147</th>\n",
       "      <td>0.70</td>\n",
       "      <td>2.47</td>\n",
       "      <td>0.83</td>\n",
       "      <td>1.21</td>\n",
       "      <td>0.33</td>\n",
       "    </tr>\n",
       "  </tbody>\n",
       "</table>\n",
       "<p>4148 rows × 5 columns</p>\n",
       "</div>"
      ],
      "text/plain": [
       "      net_per_10K_2015  net_per_10K_2016  net_per_10K_2017  net_per_10K_2018  \\\n",
       "0                 0.19              0.16              0.11             -0.05   \n",
       "1                 0.19              0.25              0.57              0.55   \n",
       "2                -0.01              0.04              0.11             -0.02   \n",
       "3                 0.16              0.18              0.04              0.01   \n",
       "4                 0.10              0.05              0.03             -0.01   \n",
       "...                ...               ...               ...               ...   \n",
       "4143             -2.98            -11.79             -9.10            -12.08   \n",
       "4144             -2.50             -2.49             -2.21             -1.68   \n",
       "4145              3.91              4.66              0.74             -0.66   \n",
       "4146             38.60             37.76             10.09              6.06   \n",
       "4147              0.70              2.47              0.83              1.21   \n",
       "\n",
       "      net_per_10K_2019  \n",
       "0                -0.02  \n",
       "1                 0.78  \n",
       "2                -0.06  \n",
       "3                 0.23  \n",
       "4                 0.02  \n",
       "...                ...  \n",
       "4143            -20.76  \n",
       "4144             -3.19  \n",
       "4145             -1.97  \n",
       "4146              5.25  \n",
       "4147              0.33  \n",
       "\n",
       "[4148 rows x 5 columns]"
      ]
     },
     "metadata": {},
     "output_type": "display_data"
    }
   ],
   "source": [
    "import matplotlib.pyplot as plt\n",
    "import pandas as pd\n",
    "\n",
    "url = \"https://github.com/futureCodersSE/working-with-data/blob/main/Data%20sets/public_use-talent-migration.xlsx?raw=true\"\n",
    "\n",
    "migration_df = pd.read_excel(url, sheet_name='Country Migration')\n",
    "\n",
    "display(migration_df)\n",
    "\n",
    "split_migration_cols = migration_df[[\"net_per_10K_2015\", \"net_per_10K_2016\", \"net_per_10K_2017\", \"net_per_10K_2018\", \"net_per_10K_2019\"]]\n",
    "\n",
    "display(split_migration_cols)"
   ]
  },
  {
   "cell_type": "code",
   "execution_count": 270,
   "metadata": {},
   "outputs": [
    {
     "data": {
      "text/plain": [
       "[150.68, 124.48, 87.0, 91.41, 87.71]"
      ]
     },
     "metadata": {},
     "output_type": "display_data"
    },
    {
     "data": {
      "text/plain": [
       "['2015', '2016', '2017', '2018', '2019']"
      ]
     },
     "metadata": {},
     "output_type": "display_data"
    }
   ],
   "source": [
    "maximum = []\n",
    "for column in split_migration_cols:\n",
    "    maximum.append(split_migration_cols[column].max())\n",
    "display(maximum)\n",
    "\n",
    "years =  ['2015','2016','2017','2018','2019']\n",
    "display(years)"
   ]
  },
  {
   "cell_type": "code",
   "execution_count": 271,
   "metadata": {},
   "outputs": [
    {
     "data": {
      "image/png": "[encoded data removed]",
      "text/plain": [
       "<Figure size 432x288 with 1 Axes>"
      ]
     },
     "metadata": {
      "needs_background": "light"
     },
     "output_type": "display_data"
    }
   ],
   "source": [
    "plt.bar(years, maximum, data=split_migration_cols)\n",
    "\n",
    "plt.xlabel('Year') \n",
    "plt.ylabel('Total net migration')\n",
    "\n",
    "plt.show()"
   ]
  },
  {
   "cell_type": "markdown",
   "metadata": {
    "id": "I2aZcp1BCYUC"
   },
   "source": [
    "### Exercise 2 - creating a bar graph using grouped data \n",
    "---\n",
    "\n",
    "Create a horizontal bar chart of 2019 mean immigration for each income level ('`target_country_wb_income`')\n",
    "\n",
    "* create a data variable which contains the means, grouped by '`target_country_wb_income`' \n",
    "* extract your labels (x) using the .keys() function \n",
    "* use the plt.barh(x, y) to create a horizontal bar graph \n",
    "* add labels to the axes ('Year', 'Net Migration')  \n",
    "* show the plot  \n",
    "\n",
    "Try using plt.bar(x,y) - can you see why horizontally is more appropriate?"
   ]
  },
  {
   "cell_type": "code",
   "execution_count": 272,
   "metadata": {
    "id": "dwA00WfRCYUC"
   },
   "outputs": [
    {
     "data": {
      "image/png": "[encoded data removed]",
      "text/plain": [
       "<Figure size 432x288 with 1 Axes>"
      ]
     },
     "metadata": {
      "needs_background": "light"
     },
     "output_type": "display_data"
    }
   ],
   "source": [
    "data = migration_df.groupby('target_country_wb_income').mean()\n",
    "\n",
    "data = data[\"net_per_10K_2019\"]\n",
    "\n",
    "labels = data.keys()\n",
    "\n",
    "plt.barh(labels, data)\n",
    "\n",
    "plt.xlabel('Year') \n",
    "plt.ylabel('Net Migration')\n",
    "\n",
    "plt.show()\n"
   ]
  },
  {
   "cell_type": "markdown",
   "metadata": {
    "id": "jR-B9Tr2CYUA"
   },
   "source": [
    "### Exercise 3 - Line plot of net migration \n",
    "--- \n",
    "\n",
    "Creating a line plot of mean net migration over the years 2015 to 2019\n",
    "\n",
    "* create a new dataframe containing only the five columns holding net migration\n",
    "* create a new data variable to hold the means of the five columns\n",
    "* create a labels variable to hold the keys (column headings) \n",
    "* use plt.plot(x, y) to plot your line chart\n",
    "\n",
    "***Presentation tips:***   \n",
    "Plot the chart, then add formatting, then show the plot   \n",
    "\n",
    "Rotate the x-axis labels in the plot:  \n",
    "`plt.xticks(rotation=45)`  \n",
    "\n",
    "Show the grid:  \n",
    "`plt.grid()`  \n",
    "\n",
    "When all formatting has been done, show the plot:   \n",
    "`plt.show()`"
   ]
  },
  {
   "cell_type": "code",
   "execution_count": 273,
   "metadata": {
    "id": "laCX5LlMCYUD"
   },
   "outputs": [
    {
     "data": {
      "image/png": "[encoded data removed]",
      "text/plain": [
       "<Figure size 432x288 with 1 Axes>"
      ]
     },
     "metadata": {
      "needs_background": "light"
     },
     "output_type": "display_data"
    }
   ],
   "source": [
    "data = split_migration_cols.mean()\n",
    "\n",
    "labels = data.keys()\n",
    "\n",
    "plt.plot(labels, data)\n",
    "plt.xticks(rotation=45)\n",
    "plt.grid()\n",
    "plt.show()"
   ]
  },
  {
   "cell_type": "markdown",
   "metadata": {
    "id": "HDt8ROZqCYUD"
   },
   "source": [
    "# Pie Charts, Box Plots, Scatter Plots and Histograms\n",
    "---\n",
    "\n",
    "For the remaining exercises you will use the Psychology dataset: \"https://github.com/lilaceri/Working-with-data-/blob/b157a2feceb7709cf82426932385706d65446270/Data%20Sets%20for%20code%20divisio/Positive_Psychology_2017.csv?raw=true\"\n",
    "\n",
    "To get the data ready:\n",
    "\n",
    "* read csv file above and save into a new variable called `psych_data`"
   ]
  },
  {
   "cell_type": "code",
   "execution_count": 274,
   "metadata": {
    "id": "8xrF0C0nMZgY"
   },
   "outputs": [],
   "source": [
    "url2 = \"https://github.com/lilaceri/Working-with-data-/blob/b157a2feceb7709cf82426932385706d65446270/Data%20Sets%20for%20code%20divisio/Positive_Psychology_2017.csv?raw=true\"\n",
    "\n",
    "psych_data = pd.read_csv(url2)"
   ]
  },
  {
   "cell_type": "markdown",
   "metadata": {
    "id": "bp04N0L5CYUE"
   },
   "source": [
    "### Exercise 4 - Creating a pie chart showing distribution of first languages\n",
    "---\n",
    "Create a pie chart which shows the distribution of students who speak different languages are.   \n",
    "\n",
    "To do this:\n",
    "\n",
    "* similar to Exercise 2 - create a new dataframe which groups the data by firstlanguage and contains just the 'firstlanguage' column  \n",
    "* store the counts for 'firstlanguage' in a variable called language_count\n",
    "* extract your labels using the keys() function\n",
    "* plot your pie chart using plt.pie(data, labels = labels)\n",
    "* write a comment noting anything interesting about the visualisation\n",
    "\n"
   ]
  },
  {
   "cell_type": "code",
   "execution_count": 275,
   "metadata": {
    "id": "U4O3bCW4CYUE",
    "scrolled": true
   },
   "outputs": [
    {
     "data": {
      "image/png": "[encoded data removed]",
      "text/plain": [
       "<Figure size 432x288 with 1 Axes>"
      ]
     },
     "metadata": {},
     "output_type": "display_data"
    }
   ],
   "source": [
    "data = psych_data.groupby(\"firstlanguage\")['firstlanguage']\n",
    "\n",
    "language_count = data.value_counts()\n",
    "\n",
    "make_dataframe = psych_data.groupby(\"firstlanguage\")['firstlanguage'].apply(pd.DataFrame)\n",
    "\n",
    "labels = make_dataframe.keys()\n",
    "\n",
    "\n",
    "plt.pie(language_count, labels = labels)\n",
    "\n",
    "plt.show()"
   ]
  },
  {
   "cell_type": "markdown",
   "metadata": {
    "id": "vcBOivbcYCHx"
   },
   "source": [
    "**Write your comment here**:  50% of students speak Chinese as their first language - the same as all the other groups combined."
   ]
  },
  {
   "cell_type": "markdown",
   "metadata": {
    "id": "xmoUMgCDCYUF"
   },
   "source": [
    "### Exercise 5 - Creating a box plot from Wellbeing data column\n",
    "---\n",
    "A box plot is used to visualise summary infomation about a data series such as the min, max, median and quartiles.  They can show outliers (unusually high or low values that are not typical of the general distribution of values, marked on the plot as a circle or dot outside the 'whiskers').\n",
    "\n",
    "Create a box plot of the Wellbeing scores\n",
    "can\n",
    "*  split off the wellbeing column to isolate the data  \n",
    "*  use plt.boxplot(data) to create boxplot and show any outliers (it will do this by default - they are shown as small circles at one, or both ends of the plot) "
   ]
  },
  {
   "cell_type": "code",
   "execution_count": 276,
   "metadata": {
    "id": "gUEIP5THCYUF"
   },
   "outputs": [
    {
     "data": {
      "text/plain": [
       "{'whiskers': [<matplotlib.lines.Line2D at 0x21c6ce3f3a0>,\n",
       "  <matplotlib.lines.Line2D at 0x21c6ce3f6d0>],\n",
       " 'caps': [<matplotlib.lines.Line2D at 0x21c6ce3fa30>,\n",
       "  <matplotlib.lines.Line2D at 0x21c6ce3fdc0>],\n",
       " 'boxes': [<matplotlib.lines.Line2D at 0x21c6ce3f130>],\n",
       " 'medians': [<matplotlib.lines.Line2D at 0x21c6ce25160>],\n",
       " 'fliers': [<matplotlib.lines.Line2D at 0x21c6ce254c0>],\n",
       " 'means': []}"
      ]
     },
     "execution_count": 276,
     "metadata": {},
     "output_type": "execute_result"
    },
    {
     "data": {
      "image/png": "[encoded data removed]",
      "text/plain": [
       "<Figure size 432x288 with 1 Axes>"
      ]
     },
     "metadata": {
      "needs_background": "light"
     },
     "output_type": "display_data"
    }
   ],
   "source": [
    "wellbeing = psych_data['Wellbeing']\n",
    "\n",
    "plt.boxplot(wellbeing)"
   ]
  },
  {
   "cell_type": "markdown",
   "metadata": {
    "id": "v-C-aiMHCYUI"
   },
   "source": [
    "### Exercise 6 - Create a histogram from age data \n",
    "---\n",
    "\n",
    "Create a histogram which shows the frequency distribution for `Wellbeing`.\n",
    "\n",
    "* split the `Wellbeing` column off to provide the data\n",
    "* plot the histogram using `plt.hist(data)` \n",
    "* add the label `Wellbeing` to the x-axis and `Frequency` to the y-axis\n",
    "* change the colours of the bars - try plt.hist(x, color = 'red')\n",
    "* show the plot (plt.show())\n"
   ]
  },
  {
   "cell_type": "code",
   "execution_count": 277,
   "metadata": {
    "id": "J8Yf3kNxCYUI"
   },
   "outputs": [
    {
     "data": {
      "image/png": "[encoded data removed]",
      "text/plain": [
       "<Figure size 432x288 with 1 Axes>"
      ]
     },
     "metadata": {
      "needs_background": "light"
     },
     "output_type": "display_data"
    }
   ],
   "source": [
    "plt.hist(wellbeing)\n",
    "\n",
    "plt.xlabel('Wellbeing') \n",
    "plt.ylabel('Frequency')\n",
    "plt.hist(wellbeing, color = 'red')\n",
    "plt.show()\n"
   ]
  },
  {
   "cell_type": "markdown",
   "metadata": {
    "id": "vFMYfsBZCYUJ"
   },
   "source": [
    "### Exercise 7 - Create a scatterplot using Wellbeing and Stress data\n",
    "---\n",
    "\n",
    "Create a scatterplot of Wellbeing and Stress data.\n",
    "\n",
    "* create **x** from the `Stress` column\n",
    "* create *y* from the `Wellbeing` column\n",
    "* use `plt.scatter(x,y)` to create a scatterplot\n",
    "* set x axis and y axis labels to '`Stress`' and '`Wellbeing`'\n",
    "* show the plot \n",
    "\n",
    "Write a short data story ( a description of the data.  What conclusion could be reached from the chart?  How confident could you be in this conclusion and why?\n",
    "\n"
   ]
  },
  {
   "cell_type": "code",
   "execution_count": 278,
   "metadata": {
    "id": "H6rOmFj4CYUJ"
   },
   "outputs": [
    {
     "data": {
      "image/png": "[encoded data removed]",
      "text/plain": [
       "<Figure size 432x288 with 1 Axes>"
      ]
     },
     "metadata": {
      "needs_background": "light"
     },
     "output_type": "display_data"
    }
   ],
   "source": [
    "x = psych_data['Stress']\n",
    "y = wellbeing\n",
    "\n",
    "plt.scatter(x,y)\n",
    "\n",
    "plt.xlabel('Stress') \n",
    "plt.ylabel('Wellbeing')\n",
    "plt.show()\n",
    "\n"
   ]
  },
  {
   "cell_type": "markdown",
   "metadata": {
    "id": "UmlIbxwgZKvA"
   },
   "source": [
    "**Write your data story here**: "
   ]
  },
  {
   "cell_type": "markdown",
   "metadata": {
    "id": "Yw77TwzRCYUK"
   },
   "source": [
    "# Using seaborn to create more advanced visuals\n",
    "---\n",
    "\n",
    "Seaborn is another python package based upon matplotlib. It is useful for creating more attractive visualisations and also specialises in statistical visualisations so can often provide more insightful visualisations. \n",
    "\n",
    "In order to use seaborn use the following:   \n",
    "\n",
    "``` import seaborn as sns ```\n",
    "\n",
    "Similar to matplotlib, you can use seaborn to display all the above visualisations such as:\n",
    "\n",
    "**bar chart** \n",
    "\n",
    "`sns.barplot(x = '...', y = '..', data = '...')`\n",
    "\n",
    "**box plot**     \n",
    "1. box plot with 1 variable, landscape   \n",
    "`sns.boxplot(x=\"...\", data='...')` \n",
    "2. boxplot with 1 variable,  portrait   \n",
    "`sns.boxplot(y=\"...\", data='...')` \n",
    "3. box plot 2 variables, x against y   \n",
    "`sns.boxplot(x=\"...\", y=\"....\", data='...')`\n",
    "\n",
    "**scatter plot**\n",
    "\n",
    "`sns.lmplot(x='..', y='..', data='...')`\n",
    "\n",
    "### As well as some more complex visualisations:\n",
    "\n",
    "**scatter plot with line of best fit**\n",
    "\n",
    "`sns.regplot(x=\"...\", y=\"...\", data= '...')`\n",
    "\n",
    "**histogram plot (of distribution)**\n",
    "\n",
    "`sns.distplot(dataframe['column'])`   \n",
    "*if you add* `,bins= ... ` *you can set the number of bins (bars) in your chart*\n",
    "\n",
    "**correlation heatmap matrix** \n",
    "\n",
    "`correlation_matrix = dataframe.corr().round(2)`\n",
    "\n",
    "`sns.heatmap(data=correlation_matrix, annot=True)`  \n",
    "Use `annot = True` *to print the correlation values inside the square*\n",
    "\n",
    "\n",
    "\n",
    "\n",
    "**For the next few exercises you will continue using the positive psychology dataset**"
   ]
  },
  {
   "cell_type": "markdown",
   "metadata": {
    "id": "UjsjO73XCYUK"
   },
   "source": [
    "### Exercise 8 - Create a scatter plot with a line of best fit\n",
    "---\n",
    "\n",
    "Use seaborn to create a scatterplot with a line of best fit of Wellbeing (x) and Stress (y)\n",
    "* use `sns.regplot`"
   ]
  },
  {
   "cell_type": "code",
   "execution_count": 279,
   "metadata": {
    "id": "GzVfmVPzCYUK"
   },
   "outputs": [
    {
     "data": {
      "text/plain": [
       "<AxesSubplot:xlabel='Stress', ylabel='Wellbeing'>"
      ]
     },
     "execution_count": 279,
     "metadata": {},
     "output_type": "execute_result"
    },
    {
     "data": {
      "image/png": "[encoded data removed]",
      "text/plain": [
       "<Figure size 432x288 with 1 Axes>"
      ]
     },
     "metadata": {
      "needs_background": "light"
     },
     "output_type": "display_data"
    }
   ],
   "source": [
    "import seaborn as sns\n",
    "\n",
    "# Wellbeing (y) and Stress (x) - to compare with the test output given\n",
    "sns.regplot(x='Stress', y='Wellbeing', data=psych_data)\n"
   ]
  },
  {
   "cell_type": "code",
   "execution_count": 280,
   "metadata": {},
   "outputs": [
    {
     "data": {
      "text/plain": [
       "<AxesSubplot:xlabel='Wellbeing', ylabel='Stress'>"
      ]
     },
     "execution_count": 280,
     "metadata": {},
     "output_type": "execute_result"
    },
    {
     "data": {
      "image/png": "[encoded data removed]",
      "text/plain": [
       "<Figure size 432x288 with 1 Axes>"
      ]
     },
     "metadata": {
      "needs_background": "light"
     },
     "output_type": "display_data"
    }
   ],
   "source": [
    "# Wellbeing (x) and Stress (y) to satisfy the requirements\n",
    "sns.regplot(y='Stress', x='Wellbeing', data=psych_data)"
   ]
  },
  {
   "cell_type": "markdown",
   "metadata": {
    "id": "bknRpcpfCYUL"
   },
   "source": [
    "### Exercise 9 - Create a box plot \n",
    "---\n",
    "Use seaborn to create a portrait box plot of Stress data\n",
    "* use `sns.boxplot`\n",
    "* can you see any outliers?"
   ]
  },
  {
   "cell_type": "code",
   "execution_count": 281,
   "metadata": {},
   "outputs": [
    {
     "data": {
      "text/plain": [
       "<AxesSubplot:ylabel='Stress'>"
      ]
     },
     "execution_count": 281,
     "metadata": {},
     "output_type": "execute_result"
    },
    {
     "data": {
      "image/png": "[encoded data removed]",
      "text/plain": [
       "<Figure size 432x288 with 1 Axes>"
      ]
     },
     "metadata": {
      "needs_background": "light"
     },
     "output_type": "display_data"
    }
   ],
   "source": [
    "# To satisfy the requirements (doesn't fit the test output given for comparison)\n",
    "sns.boxplot(y=\"Stress\", data=psych_data)"
   ]
  },
  {
   "cell_type": "code",
   "execution_count": 282,
   "metadata": {},
   "outputs": [
    {
     "data": {
      "text/plain": [
       "<AxesSubplot:ylabel='Wellbeing'>"
      ]
     },
     "execution_count": 282,
     "metadata": {},
     "output_type": "execute_result"
    },
    {
     "data": {
      "image/png": "[encoded data removed]",
      "text/plain": [
       "<Figure size 432x288 with 1 Axes>"
      ]
     },
     "metadata": {
      "needs_background": "light"
     },
     "output_type": "display_data"
    }
   ],
   "source": [
    "# To compare with the given test output\n",
    "sns.boxplot(y = \"Wellbeing\", data=psych_data)"
   ]
  },
  {
   "cell_type": "markdown",
   "metadata": {
    "id": "S5qhuChwCYUL"
   },
   "source": [
    "### Exercise 10 - Correlation matrix \n",
    "---\n",
    "Create a correlation heatmap matrix using seaborn to show the correlation coefficient (confidence the one value can predict the other - the nearer to 1, or -1, the stronger the correlation, positive or negative) between all columns in the dataframe\n",
    "\n",
    "* Set the correlation matrix into a variable using the .corr() function \n",
    "* Create a heatmap using `sns.heatmap` of the correlation matrix \n",
    "(You can add `cmap='BrBG'` to the heatmap parameter list to change the colour scheme)\n",
    "\n",
    "Explain which variables seem to be correlated fairly strongly with which other variables."
   ]
  },
  {
   "cell_type": "code",
   "execution_count": 283,
   "metadata": {
    "id": "O4-9jov4CYUL"
   },
   "outputs": [
    {
     "data": {
      "text/plain": [
       "<AxesSubplot:>"
      ]
     },
     "execution_count": 283,
     "metadata": {},
     "output_type": "execute_result"
    },
    {
     "data": {
      "image/png": "[encoded data removed]",
      "text/plain": [
       "<Figure size 432x288 with 2 Axes>"
      ]
     },
     "metadata": {
      "needs_background": "light"
     },
     "output_type": "display_data"
    }
   ],
   "source": [
    "correlation_matrix = psych_data.corr().round(2)\n",
    "sns.heatmap(data=correlation_matrix, annot=True, cmap='BrBG')"
   ]
  },
  {
   "cell_type": "markdown",
   "metadata": {
    "id": "zZeJ2KrLfo70"
   },
   "source": [
    "**Describe the correlation between variables here**:  \n",
    "\n",
    "Wellbeing - strong positive correlation with Self-Esteem\n",
    "\n",
    "Wellbeing - moderate positive correlation with Resillience \n",
    "\n",
    "Resillience - moderate negative correlation with LoC\n",
    "\n",
    "Self-Esteem - moderate positive correlation with Resillience\n",
    "\n",
    "Self-Esteem - moderate positive correlation with Sleep\n",
    "\n",
    "Stress - moderate negative correlation with Resillience\n",
    "\n",
    "Stress - moderate negative correlation with Self-Esteem\n",
    "\n",
    "Wellbeing - moderate negative correlation with Stress\n",
    "\n",
    "Wellbeing - moderate positive correlation with sleep\n",
    "\n",
    "Self-esteem  - moderate negative correlation with LoC"
   ]
  },
  {
   "cell_type": "markdown",
   "metadata": {
    "id": "8YTsyOCjCYUM"
   },
   "source": [
    "# Reflection\n",
    "----\n",
    "\n",
    "## What skills have you demonstrated in completing this notebook?"
   ]
  },
  {
   "cell_type": "markdown",
   "metadata": {
    "id": "eQZFgzjvCYUM"
   },
   "source": [
    "Your answer here: Ability to use simple data visualisation techniques in python."
   ]
  },
  {
   "cell_type": "markdown",
   "metadata": {
    "id": "hWleoi7-CYUM"
   },
   "source": [
    "## What caused you the most difficulty?"
   ]
  },
  {
   "cell_type": "markdown",
   "metadata": {
    "id": "IKSHnYcgCYUM"
   },
   "source": [
    "Your answer here: Exercise 4 - had to research a bit to solve an issue with lables in a shape of I think tuples, but finally managed."
   ]
  }
 ],
 "metadata": {
  "colab": {
   "collapsed_sections": [],
   "name": "Visualisation .ipynb",
   "provenance": []
  },
  "kernelspec": {
   "display_name": "Python 3",
   "language": "python",
   "name": "python3"
  },
  "language_info": {
   "codemirror_mode": {
    "name": "ipython",
    "version": 3
   },
   "file_extension": ".py",
   "mimetype": "text/x-python",
   "name": "python",
   "nbconvert_exporter": "python",
   "pygments_lexer": "ipython3",
   "version": "3.8.8"
  }
 },
 "nbformat": 4,
 "nbformat_minor": 1
}
