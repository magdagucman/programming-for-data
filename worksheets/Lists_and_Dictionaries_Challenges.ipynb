{
 "cells": [
  {
   "cell_type": "markdown",
   "metadata": {
    "colab_type": "text",
    "id": "view-in-github"
   },
   "source": [
    "<a href=\"https://colab.research.google.com/github/magdagucman/programming-for-data/blob/main/Lists_and_Dictionaries_Challenges.ipynb\" target=\"_parent\"><img src=\"https://colab.research.google.com/assets/colab-badge.svg\" alt=\"Open In Colab\"/></a>"
   ]
  },
  {
   "cell_type": "markdown",
   "metadata": {
    "id": "nEJLJX3J9B2k"
   },
   "source": [
    "# Some challenges to help you become more confident with using Lists, Tuples and Dictionaries\n",
    "\n",
    "---\n",
    "\n"
   ]
  },
  {
   "cell_type": "markdown",
   "metadata": {
    "id": "JvV6htgh9Nc1"
   },
   "source": [
    "### Exercise 1 - extending a list\n",
    "\n",
    "There are three ways to extend a list in Python:  \n",
    "*  use `list_name.append(item)`, `list_name.insert(item)`\n",
    "*  concatenate two lists using the + operator (e.g. new_list = list1 + list2)\n",
    "*  use `list1_name.extend(list2_name)`\n",
    "\n",
    "The last method allows us to add all the `list2` items onto `list1` and for the new, extended list to now be `list1`.  `list2` will always be added to the end of `list1`.  \n",
    "\n",
    "If the objective is to add list2 before list1 then use `list2.extend(list1)`\n",
    "\n",
    "Write a function which will:  \n",
    "*  create a list of **years** containing the years 1960, 1970, 1980, 1990, 2000  \n",
    "*  print the list of years  \n",
    "*  calculate how long ago each year was and print the year and how long ago it was (e.g. 1990 was 30 years ago)  *(Hint:  use the datetime library to get the current year)*   \n",
    "*  create a second list, **years2** containing the years 2010 and 2020, extend `years` to include these later years\n",
    "*  create a third list, **years3** containing the years 1930, 1940 and 1950 and extend the list to include all the years between 1930 and 2020\n",
    "*  print the final list\n",
    "\n",
    "Expected output:  \n",
    "[1960, 1970, 1980, 1990]  \n",
    "1960 was 61 years ago  \n",
    "1970 was 51 years ago  \n",
    "1980 was 41 years ago  \n",
    "1990 was 31 years ago  \n",
    "2000 was 21 years ago  \n",
    "[1930, 1940, 1950, 1960, 1970, 1980, 1990, 2000, 2010, 2020] "
   ]
  },
  {
   "cell_type": "code",
   "execution_count": 2,
   "metadata": {
    "colab": {
     "base_uri": "https://localhost:8080/"
    },
    "id": "QAyTVqoO8-08",
    "outputId": "90321927-e766-40cf-c785-3367adecc5ae"
   },
   "outputs": [
    {
     "name": "stdout",
     "output_type": "stream",
     "text": [
      "[1960, 1970, 1980, 1990, 2000]\n",
      "1960 was 61 years ago\n",
      "1970 was 51 years ago\n",
      "1980 was 41 years ago\n",
      "1990 was 31 years ago\n",
      "2000 was 21 years ago\n",
      "[1930, 1940, 1950, 1960, 1970, 1980, 1990, 2000, 2010, 2020]\n"
     ]
    },
    {
     "data": {
      "text/plain": [
       "([1960, 1970, 1980, 1990, 2000, 2010, 2020],\n",
       " [2010, 2020],\n",
       " [1930, 1940, 1950, 1960, 1970, 1980, 1990, 2000, 2010, 2020])"
      ]
     },
     "execution_count": 2,
     "metadata": {},
     "output_type": "execute_result"
    }
   ],
   "source": [
    "# import datetime class from datetime module\n",
    "from datetime import datetime\n",
    "\n",
    "def years_creator():\n",
    "    \n",
    "    # what is the date now\n",
    "    now = datetime.now()\n",
    "\n",
    "    # create the first list\n",
    "    years = [1960, 1970, 1980, 1990, 2000]\n",
    "\n",
    "    # print the list\n",
    "    print(years)\n",
    "\n",
    "    # create a for loop to print the difference between the current year and the year from the list\n",
    "    for year in years:\n",
    "      print(year, \"was\", now.year - year, \"years ago\")\n",
    "\n",
    "    # create the second list\n",
    "    years2 = [2010, 2020]\n",
    "\n",
    "    # extend years to contain years from years2\n",
    "    years.extend(years2)\n",
    "\n",
    "    # create years 3\n",
    "    years3 = [1930, 1940, 1950]\n",
    "\n",
    "    # extend years3 to contain all the years\n",
    "    years3.extend(years)\n",
    "\n",
    "    # print the final list\n",
    "    print(years3)\n",
    "    \n",
    "    return years, years2, years3\n",
    "\n",
    "# test by running the function\n",
    "years_creator()"
   ]
  },
  {
   "cell_type": "markdown",
   "metadata": {
    "id": "S5iPicFzBzOW"
   },
   "source": [
    "---\n",
    "### Exercise 2 - creating a dictionary from a tuple and three lists\n",
    "\n",
    "Write a function which will create a list of dictionary items using the values in a tuple as the dictionary keys and the values in three corresponding lists as the dictionary values.\n",
    "\n",
    "*  loop through the status items in the tuple called task_status\n",
    "*  for each status, loop through the list with the same name (*Hint:  you can use eval(status) to access the list with the matching name  e.g. for task in eval(status)* )\n",
    "*  each time round this second loop, create a dictionary object with the  key:value pair {status : task}\n",
    "*  add each new dictionary to a list called **project_board** that was created as an empty list before the loops  \n",
    "*  print the project_board list\n",
    "\n",
    "Expected output:  \n",
    "\n",
    "[{'assigned': 'task1'}, {'assigned': 'task2'}, {'assigned': 'task3'}, {'inprogress': 'task4'}, {'inprogress': 'task5'}, {'inprogress': 'task6'}, {'completed': 'task7'}, {'completed': 'task8'}, {'completed': 'task9'}] \n",
    "\n"
   ]
  },
  {
   "cell_type": "code",
   "execution_count": 17,
   "metadata": {
    "id": "KXYOSHY-C7m4"
   },
   "outputs": [
    {
     "name": "stdout",
     "output_type": "stream",
     "text": [
      "[{'assigned': 'task1'}, {'assigned': 'task2'}, {'assigned': 'task3'}, {'inprogress': 'task4'}, {'inprogress': 'task5'}, {'inprogress': 'task6'}, {'completed': 'task7'}, {'completed': 'task8'}, {'completed': 'task9'}]\n"
     ]
    }
   ],
   "source": [
    "def create_project_board():\n",
    "    task_status = (\"assigned\", \"inprogress\", \"completed\")\n",
    "    assigned = ['task1','task2','task3']\n",
    "    inprogress = ['task4','task5','task6']\n",
    "    completed = ['task7','task8','task9']\n",
    "    \n",
    "    project_board = []\n",
    "    \n",
    "    # loop through the status items in the tuple called task_status\n",
    "    for status in task_status:\n",
    "        \n",
    "        # loop through tasks\n",
    "        for task in eval(status):\n",
    "            \n",
    "            # create dict object\n",
    "            dict_object = {status: task}\n",
    "            \n",
    "            # append dict object to the list\n",
    "            project_board.append(dict_object)\n",
    "    \n",
    "    print(project_board)\n",
    "    return\n",
    "\n",
    "# call the function\n",
    "create_project_board()\n"
   ]
  },
  {
   "cell_type": "markdown",
   "metadata": {
    "id": "M1BuTu9p19Ma"
   },
   "source": [
    "---\n",
    "### Exercise 3 - names and heights\n",
    "\n",
    "Write a function which will allow a user to enter the names and heights of a set of people and add each set of information as a record (dictionary) to a list. The function will stop collecting names and heights when the user enters \"STOP\" as the name.\n",
    "\n",
    "Then, the function will:  \n",
    "\n",
    "*   produce a list of names in order of the shortest person to the tallest\n",
    "*   calculate the name of the tallest person\n",
    "*   calculate the name of the shortest person\n",
    "*   calculate the average height\n",
    "*   calculate the name of the person who is closest to the average height\n",
    "\n",
    "\n",
    "\n",
    "\n"
   ]
  },
  {
   "cell_type": "code",
   "execution_count": 33,
   "metadata": {
    "id": "reuyww3e18uv"
   },
   "outputs": [
    {
     "name": "stdout",
     "output_type": "stream",
     "text": [
      "Name:Foo\n",
      "Height:168\n",
      "Name:Baz\n",
      "Height:152\n",
      "Name:Bar\n",
      "Height:189\n",
      "Name:Vad\n",
      "Height:166\n",
      "Name:STOP\n",
      "[{'name': 'Baz', 'height': '152'}, {'name': 'Vad', 'height': '166'}, {'name': 'Foo', 'height': '168'}, {'name': 'Bar', 'height': '189'}]\n",
      "Tallest: Bar\n",
      "Shortest: Baz\n",
      "Average: 168.75\n",
      "Closest to average: Foo\n"
     ]
    }
   ],
   "source": [
    "def names_heights():\n",
    "    \n",
    "    # create an empty list\n",
    "    list_of_names_heights = []\n",
    "    \n",
    "    # create a name variable\n",
    "    name = 'START'\n",
    "    \n",
    "    # while name is not STOP, ask for name and height\n",
    "    \n",
    "    name = input('Name:')\n",
    "    height = input('Height:')\n",
    "        \n",
    "    while name != 'STOP':\n",
    "    # create a dict object\n",
    "        dict_object = {'name': name, 'height': height}\n",
    "        \n",
    "        # append the dict object to the list\n",
    "        list_of_names_heights.append(dict_object)\n",
    "        \n",
    "        name = input('Name:')\n",
    "        \n",
    "        if name != 'STOP':\n",
    "            height = input('Height:')\n",
    "    \n",
    "    ordered_list = sorted(list_of_names_heights, key=lambda k: k['height']) \n",
    "    print(ordered_list)\n",
    "    \n",
    "    tallest = ordered_list[-1]['name']\n",
    "    print('Tallest:', tallest)\n",
    "    \n",
    "    shortest = ordered_list[0]['name']\n",
    "    print('Shortest:', shortest)\n",
    "    \n",
    "    average = sum(int(d['height']) for d in ordered_list) / len(ordered_list)\n",
    "        \n",
    "    print('Average:', average)\n",
    "    \n",
    "    # find closest value\n",
    "    closest = 9999\n",
    "    \n",
    "    # iterate through dict objects\n",
    "    for obj in ordered_list:\n",
    "        \n",
    "        # find the absolute value of the difference between height and the average\n",
    "        difference = abs(int(obj['height']) - average)\n",
    "        \n",
    "        # if difference is lower than current closest, set closest to be equal to the difference\n",
    "        if difference < closest:\n",
    "            closest = difference\n",
    "            \n",
    "            # set closest name to the current\n",
    "            closest_name = obj['name']\n",
    "            \n",
    "    print('Closest to average:', closest_name)\n",
    "    \n",
    "names_heights()\n",
    "    "
   ]
  }
 ],
 "metadata": {
  "colab": {
   "collapsed_sections": [],
   "include_colab_link": true,
   "name": "Lists and Dictionaries Challenges.ipynb",
   "provenance": []
  },
  "kernelspec": {
   "display_name": "Python 3",
   "language": "python",
   "name": "python3"
  },
  "language_info": {
   "codemirror_mode": {
    "name": "ipython",
    "version": 3
   },
   "file_extension": ".py",
   "mimetype": "text/x-python",
   "name": "python",
   "nbconvert_exporter": "python",
   "pygments_lexer": "ipython3",
   "version": "3.8.8"
  }
 },
 "nbformat": 4,
 "nbformat_minor": 1
}
