{
 "cells": [
  {
   "cell_type": "markdown",
   "metadata": {},
   "source": [
    "# Mini-project - creating a dataframe from analysed text data\n",
    "\n",
    "For this project you are going to use the IBM Watson Tone Analyser API.  You will send text data to it, use security information stored in a config file to keep it secret, receive the results in JSON format, investigate the structure of the results and build a dataframe from them.\n",
    "\n",
    "Then you will use the results to create a visualisation of tone and to report an overall set of statistics from the data."
   ]
  },
  {
   "cell_type": "markdown",
   "metadata": {},
   "source": [
    "---\n",
    "\n",
    "## Step 1 - sign up for IBM Watson services to use the Tone Analyser\n",
    "\n",
    "1.  Sign up for IBM Watson: https://www.ibm.com/cloud/watson-studio  \n",
    "2.  Click 'Try on Cloud at no cost'  \n",
    "3.  Select the London region  (costs reduced and performance improved when you use the nearest servers)  \n",
    "4.  Create an IBM Cloud account (enter email and accept terms)  \n",
    "5.  Follow the instructions to create the account  \n",
    "6.  Provision the services  \n",
    "7.  Then go to IBM Watson Studio  \n",
    "8.  Select Tone Analyzer under the Your Services heading  \n",
    "9.  You will be shown the **url** for the Tone Analyser API and an **API key** which is needed for using the API."
   ]
  },
  {
   "cell_type": "markdown",
   "metadata": {},
   "source": [
    "---\n",
    "\n",
    "## Test to make sure it works\n",
    "\n",
    "1.  Download this file, which has some text for you to test with: https://drive.google.com/file/d/1m65cPQGYQd1mwvEmfZw69-GMUBdo43k0/view?usp=sharing, put the file in the same folder as this worksheet for now.\n",
    "\n",
    "2.  Create a second text file in the same folder as this worksheet that will hold the credentials for your IBM connection to the Tone Analyser.  Add the following text to this file and save it as 'config.txt'\n",
    "\n",
    "{\"config\":{\"url\": \"...the url you got from the IBM Tone Analyser...\", \"apikey\":\"... the API key from the analyser ...\"}}  \n",
    "\n",
    "These credentials will never appear in your code as will only be readable on your device.\n",
    "\n",
    "3.  Run the code below,which will create a ToneAnalyzer with the credentials from your **config.txt** file, then feed the text from the **text-for-analysis.txt** file\n",
    "\n",
    "4.  Decide what the data looks like and how this might be represented in a pandas dataframe"
   ]
  },
  {
   "cell_type": "code",
   "execution_count": 8,
   "metadata": {},
   "outputs": [
    {
     "name": "stdout",
     "output_type": "stream",
     "text": [
      "{'document_tone': {'tones': [{'score': 0.6165, 'tone_id': 'sadness', 'tone_name': 'Sadness'}, {'score': 0.829888, 'tone_id': 'analytical', 'tone_name': 'Analytical'}]}, 'sentences_tone': [{'sentence_id': 0, 'text': 'Team, I know that times are tough!', 'tones': [{'score': 0.801827, 'tone_id': 'analytical', 'tone_name': 'Analytical'}]}, {'sentence_id': 1, 'text': 'Product sales have been disappointing for the past three quarters.', 'tones': [{'score': 0.771241, 'tone_id': 'sadness', 'tone_name': 'Sadness'}, {'score': 0.687768, 'tone_id': 'analytical', 'tone_name': 'Analytical'}]}, {'sentence_id': 2, 'text': 'We have a competitive product, but we need to do a better job of selling it!', 'tones': [{'score': 0.506763, 'tone_id': 'analytical', 'tone_name': 'Analytical'}]}]}\n"
     ]
    }
   ],
   "source": [
    "from ibm_watson import ToneAnalyzerV3\n",
    "from ibm_cloud_sdk_core.authenticators import IAMAuthenticator\n",
    "import os\n",
    "import json\n",
    "\n",
    "# get credentials from the file config.txt\n",
    "def get_secret(key):\n",
    "    # add code here to open the config.txt file and return the value associated with the key (either 'apikey' or 'url')\n",
    "    # if there is an error print an error message and return None\n",
    "    \n",
    "    try:\n",
    "        with open('config.txt', 'r') as file:\n",
    "            data = file.read()\n",
    "            datas = json.loads(data)\n",
    "            file.close()\n",
    "        return datas['config'][key]\n",
    "    except:\n",
    "        print('Error: cannot get key')\n",
    "        return None\n",
    "    \n",
    "def get_text_for_analysis():\n",
    "    # add code here to open the text-for-analysis.txt file and return the text it reads as one string\n",
    "    # if there is an error, return None\n",
    "    try:\n",
    "        with open('text-for-analysis.txt', 'r') as file:\n",
    "            txt = file.read()\n",
    "            file.close()\n",
    "            return txt\n",
    "    except:\n",
    "        print('Error: cannot get text')\n",
    "        return None\n",
    "\n",
    "     \n",
    "# create a ToneAnalyzerV3 object, version 2017-09-21 using api key and url from config\n",
    "authenticator = IAMAuthenticator(apikey=get_secret('apikey'))\n",
    "tone_analyzer = ToneAnalyzerV3(\n",
    "    version='2017-09-21',\n",
    "    authenticator=authenticator\n",
    ")\n",
    "tone_analyzer.set_service_url(get_secret('url'))\n",
    "\n",
    "# get the text for analysis from the file\n",
    "text = get_text_for_analysis()\n",
    "\n",
    "if text:\n",
    "    tone_analysis = tone_analyzer.tone(\n",
    "        {'text': text},\n",
    "        content_type='json/application').get_result()  \n",
    "    print(tone_analysis)\n",
    "else:\n",
    "    print(\"No data\")"
   ]
  },
  {
   "cell_type": "markdown",
   "metadata": {},
   "source": [
    "### Create (on paper) an idea of how this data might be organised into a data table\n",
    "\n",
    "1.  How many bits of information are there about the document as a whole?\n",
    "2.  How many bits of information are there about each sentence?\n",
    "3.  If all tone analysis records were included in the dataframe, how many rows would there be?\n",
    "4.  What information would be included in each row?"
   ]
  },
  {
   "cell_type": "markdown",
   "metadata": {},
   "source": [
    "### Create a dataframe and start to populate with the data\n",
    "\n",
    "Before you can create a dataframe from this data you will need to convert it into a table.  One way to do this would be to create a list of dictionary records, with each record formed from the data from each row in the original 'sentences_tone' data.  You will need to loop through the rows in the 'sentences_tone' list, nesting a loop through the 'tones' list for each sentence.  For each, copy across the columns you feel should be included.\n",
    "\n",
    "_Hint:_  \n",
    "` for row in sentence_data:\n",
    "        for col in row['tones']:\n",
    "            new_row = {'sentence_id':row['sentence_id'], 'text':row['text'], 'tone_score':col['score'], 'tone_id':col['tone_id'],'tone_name':col['tone_name']}`\n"
   ]
  },
  {
   "cell_type": "code",
   "execution_count": 9,
   "metadata": {},
   "outputs": [
    {
     "data": {
      "text/html": [
       "<div>\n",
       "<style scoped>\n",
       "    .dataframe tbody tr th:only-of-type {\n",
       "        vertical-align: middle;\n",
       "    }\n",
       "\n",
       "    .dataframe tbody tr th {\n",
       "        vertical-align: top;\n",
       "    }\n",
       "\n",
       "    .dataframe thead th {\n",
       "        text-align: right;\n",
       "    }\n",
       "</style>\n",
       "<table border=\"1\" class=\"dataframe\">\n",
       "  <thead>\n",
       "    <tr style=\"text-align: right;\">\n",
       "      <th></th>\n",
       "      <th>sentence_id</th>\n",
       "      <th>text</th>\n",
       "      <th>tone_score</th>\n",
       "      <th>tone_id</th>\n",
       "      <th>tone_name</th>\n",
       "    </tr>\n",
       "  </thead>\n",
       "  <tbody>\n",
       "    <tr>\n",
       "      <th>0</th>\n",
       "      <td>0</td>\n",
       "      <td>Team, I know that times are tough!</td>\n",
       "      <td>0.801827</td>\n",
       "      <td>analytical</td>\n",
       "      <td>Analytical</td>\n",
       "    </tr>\n",
       "    <tr>\n",
       "      <th>1</th>\n",
       "      <td>1</td>\n",
       "      <td>Product sales have been disappointing for the ...</td>\n",
       "      <td>0.771241</td>\n",
       "      <td>sadness</td>\n",
       "      <td>Sadness</td>\n",
       "    </tr>\n",
       "    <tr>\n",
       "      <th>2</th>\n",
       "      <td>1</td>\n",
       "      <td>Product sales have been disappointing for the ...</td>\n",
       "      <td>0.687768</td>\n",
       "      <td>analytical</td>\n",
       "      <td>Analytical</td>\n",
       "    </tr>\n",
       "    <tr>\n",
       "      <th>3</th>\n",
       "      <td>2</td>\n",
       "      <td>We have a competitive product, but we need to ...</td>\n",
       "      <td>0.506763</td>\n",
       "      <td>analytical</td>\n",
       "      <td>Analytical</td>\n",
       "    </tr>\n",
       "  </tbody>\n",
       "</table>\n",
       "</div>"
      ],
      "text/plain": [
       "   sentence_id                                               text  tone_score  \\\n",
       "0            0                 Team, I know that times are tough!    0.801827   \n",
       "1            1  Product sales have been disappointing for the ...    0.771241   \n",
       "2            1  Product sales have been disappointing for the ...    0.687768   \n",
       "3            2  We have a competitive product, but we need to ...    0.506763   \n",
       "\n",
       "      tone_id   tone_name  \n",
       "0  analytical  Analytical  \n",
       "1     sadness     Sadness  \n",
       "2  analytical  Analytical  \n",
       "3  analytical  Analytical  "
      ]
     },
     "metadata": {},
     "output_type": "display_data"
    }
   ],
   "source": [
    "import pandas as pd\n",
    "import numpy as np\n",
    "\n",
    "# convert json data to table format with one row for each tone for each sentence\n",
    "def convert_to_tones_table(json_data):\n",
    "    json_table = []\n",
    "    # add code here to convert the json_data from the text file into a table form\n",
    "    # return the data normalized into a dataframe (pd.json_normalise(json_table))\n",
    "    for row in json_data['sentences_tone']:\n",
    "        for col in row['tones']:\n",
    "            new_row = {'sentence_id':row['sentence_id'], 'text':row['text'], 'tone_score':col['score'], 'tone_id':col['tone_id'],\n",
    "                       'tone_name':col['tone_name']}\n",
    "            json_table.append(new_row)\n",
    "    return pd.json_normalize(json_table)\n",
    "\n",
    "tone_data = convert_to_tones_table(tone_analysis)\n",
    "display(tone_data)\n",
    "\n",
    "\n"
   ]
  },
  {
   "cell_type": "markdown",
   "metadata": {},
   "source": [
    "### Summarise the sentence data\n",
    "*  Which sentence is the most analytical?\n",
    "*  which sentence is the least analytical?\n",
    "*  what is the average analytical tone score for the sentences?\n",
    "*  what do the analytical scores look like in a bar chart?"
   ]
  },
  {
   "cell_type": "code",
   "execution_count": 10,
   "metadata": {},
   "outputs": [
    {
     "name": "stdout",
     "output_type": "stream",
     "text": [
      "MAX tone_score                                             0.801827\n",
      "text          We have a competitive product, but we need to ...\n",
      "dtype: object\n",
      "MIN tone_score                                             0.506763\n",
      "text          Product sales have been disappointing for the ...\n",
      "dtype: object\n",
      "Mean analytical: 0.6654526666666666\n"
     ]
    },
    {
     "data": {
      "image/png": "[encoded data removed]",
      "text/plain": [
       "<Figure size 432x288 with 1 Axes>"
      ]
     },
     "metadata": {
      "needs_background": "light"
     },
     "output_type": "display_data"
    }
   ],
   "source": [
    "import matplotlib.pyplot as plt\n",
    "\n",
    "def analytical_data(tone_data):\n",
    "    analytical_data = tone_data.loc[tone_data['tone_name'] == 'Analytical']\n",
    "\n",
    "    # Which sentence is the most analytical?\n",
    "    print('MAX', analytical_data[['tone_score', 'text']].max())\n",
    "\n",
    "    # Which sentence is the least analytical?\n",
    "    print('MIN', analytical_data[['tone_score', 'text']].min())\n",
    "\n",
    "    # What is the average analytical tone score for the sentences?\n",
    "    print('Mean analytical:', analytical_data['tone_score'].mean())\n",
    "\n",
    "\n",
    "    # Box plot\n",
    "\n",
    "    plt.barh(analytical_data['text'], analytical_data['tone_score'])\n",
    "\n",
    "    plt.xlabel('Tone score') \n",
    "    plt.ylabel('Sentences')\n",
    "\n",
    "    plt.show()\n",
    "    \n",
    "analytical_data(tone_data)"
   ]
  },
  {
   "cell_type": "markdown",
   "metadata": {},
   "source": [
    "### Report the tone data for the whole document\n",
    "---\n",
    "\n",
    "Play with the data, create a dataframe for the document_tone, tones data (pd.json_normalize(document_tone\n",
    "Display the document score for each of the tones in the analysis"
   ]
  },
  {
   "cell_type": "code",
   "execution_count": 13,
   "metadata": {
    "scrolled": true
   },
   "outputs": [
    {
     "name": "stdout",
     "output_type": "stream",
     "text": [
      "      score     tone_id   tone_name\n",
      "0  0.616500     sadness     Sadness\n",
      "1  0.829888  analytical  Analytical\n"
     ]
    },
    {
     "data": {
      "image/png": "[encoded data removed]",
      "text/plain": [
       "<Figure size 432x288 with 1 Axes>"
      ]
     },
     "metadata": {
      "needs_background": "light"
     },
     "output_type": "display_data"
    }
   ],
   "source": [
    "def convert_to_document_tone(json_data):\n",
    "    json_table = []\n",
    "    \n",
    "    for row in json_data['document_tone']['tones']:\n",
    "        new_row = {'score':row['score'], 'tone_id':row['tone_id'],'tone_name':row['tone_name']}\n",
    "        json_table.append(new_row)\n",
    "    return pd.json_normalize(json_table)\n",
    "\n",
    "doc_tone_data = convert_to_document_tone(tone_analysis)\n",
    "print(doc_tone_data)\n",
    "\n",
    "plt.bar(doc_tone_data['tone_name'], doc_tone_data['score'])\n",
    "\n",
    "plt.xlabel('Tone name') \n",
    "plt.ylabel('Tone score')\n",
    "\n",
    "plt.show()"
   ]
  },
  {
   "cell_type": "markdown",
   "metadata": {},
   "source": [
    "### Change the text in the text file and analyse the new text.\n",
    "---\n",
    "\n",
    "Here is some alternative, happier text.  Replace the text in the text-for-analysis.txt file with the text below.  Then run the notebook cells again to see the results.\n",
    "\n",
    "But I feel peaceful. Your success in the ring this morning was, to a small degree, my success. Your future is assured. You will live, secure and safe, Wilbur. Nothing can harm you now. These autumn days will shorten and grow cold. The leaves will shake loose from the trees and fall. Christmas will come, and the snows of winter. You will live to enjoy the beauty of the frozen world, for you mean a great deal to Zuckerman and he will not harm you, ever. Winter will pass, the days will lengthen, the ice will melt in the pasture pond. The song sparrow will return and sing, the frogs will awake, the warm wind will blow again. All these sights and sounds and smells will be yours to enjoy, Wilbur-this lovely world, these precious days.\n",
    "\n",
    "### Find your own examples of text, replace the text in the file again, and analyse the results."
   ]
  },
  {
   "cell_type": "code",
   "execution_count": 14,
   "metadata": {},
   "outputs": [
    {
     "name": "stdout",
     "output_type": "stream",
     "text": [
      "{'document_tone': {'tones': [{'score': 0.689564, 'tone_id': 'joy', 'tone_name': 'Joy'}, {'score': 0.527599, 'tone_id': 'sadness', 'tone_name': 'Sadness'}, {'score': 0.802229, 'tone_id': 'confident', 'tone_name': 'Confident'}]}, 'sentences_tone': [{'sentence_id': 0, 'text': 'But I feel peaceful.', 'tones': [{'score': 0.511185, 'tone_id': 'joy', 'tone_name': 'Joy'}, {'score': 0.88939, 'tone_id': 'tentative', 'tone_name': 'Tentative'}]}, {'sentence_id': 1, 'text': 'Your success in the ring this morning was, to a small degree, my success.', 'tones': [{'score': 0.919911, 'tone_id': 'joy', 'tone_name': 'Joy'}]}, {'sentence_id': 2, 'text': 'Your future is assured.', 'tones': [{'score': 0.97759, 'tone_id': 'confident', 'tone_name': 'Confident'}]}, {'sentence_id': 3, 'text': 'You will live, secure and safe, Wilbur.', 'tones': [{'score': 0.92125, 'tone_id': 'confident', 'tone_name': 'Confident'}, {'score': 0.801827, 'tone_id': 'analytical', 'tone_name': 'Analytical'}]}, {'sentence_id': 4, 'text': 'Nothing can harm you now.', 'tones': []}, {'sentence_id': 5, 'text': 'These autumn days will shorten and grow cold.', 'tones': []}, {'sentence_id': 6, 'text': 'The leaves will shake loose from the trees and fall.', 'tones': [{'score': 0.536283, 'tone_id': 'fear', 'tone_name': 'Fear'}]}, {'sentence_id': 7, 'text': 'Christmas will come, and the snows of winter.', 'tones': [{'score': 0.612467, 'tone_id': 'joy', 'tone_name': 'Joy'}]}, {'sentence_id': 8, 'text': 'You will live to enjoy the beauty of the frozen world, for you mean a great deal to Zuckerman and he will not harm you, ever.', 'tones': [{'score': 0.930779, 'tone_id': 'joy', 'tone_name': 'Joy'}]}, {'sentence_id': 9, 'text': 'Winter will pass, the days will lengthen, the ice will melt in the pasture pond.', 'tones': [{'score': 0.667518, 'tone_id': 'sadness', 'tone_name': 'Sadness'}]}, {'sentence_id': 10, 'text': 'The song sparrow will return and sing, the frogs will awake, the warm wind will blow again.', 'tones': [{'score': 0.592807, 'tone_id': 'joy', 'tone_name': 'Joy'}]}, {'sentence_id': 11, 'text': 'All these sights and sounds and smells will be yours to enjoy, Wilbur-this lovely world, these precious days.', 'tones': [{'score': 0.794473, 'tone_id': 'joy', 'tone_name': 'Joy'}, {'score': 0.660207, 'tone_id': 'confident', 'tone_name': 'Confident'}]}]}\n"
     ]
    }
   ],
   "source": [
    "# get the text for analysis from the file\n",
    "text = get_text_for_analysis()\n",
    "\n",
    "if text:\n",
    "    tone_analysis = tone_analyzer.tone(\n",
    "        {'text': text},\n",
    "        content_type='json/application').get_result()  \n",
    "    print(tone_analysis)\n",
    "else:\n",
    "    print(\"No data\")"
   ]
  },
  {
   "cell_type": "code",
   "execution_count": 120,
   "metadata": {},
   "outputs": [
    {
     "data": {
      "text/html": [
       "<div>\n",
       "<style scoped>\n",
       "    .dataframe tbody tr th:only-of-type {\n",
       "        vertical-align: middle;\n",
       "    }\n",
       "\n",
       "    .dataframe tbody tr th {\n",
       "        vertical-align: top;\n",
       "    }\n",
       "\n",
       "    .dataframe thead th {\n",
       "        text-align: right;\n",
       "    }\n",
       "</style>\n",
       "<table border=\"1\" class=\"dataframe\">\n",
       "  <thead>\n",
       "    <tr style=\"text-align: right;\">\n",
       "      <th></th>\n",
       "      <th>sentence_id</th>\n",
       "      <th>text</th>\n",
       "      <th>tone_score</th>\n",
       "      <th>tone_id</th>\n",
       "      <th>tone_name</th>\n",
       "    </tr>\n",
       "  </thead>\n",
       "  <tbody>\n",
       "    <tr>\n",
       "      <th>0</th>\n",
       "      <td>0</td>\n",
       "      <td>But I feel peaceful.</td>\n",
       "      <td>0.511185</td>\n",
       "      <td>joy</td>\n",
       "      <td>Joy</td>\n",
       "    </tr>\n",
       "    <tr>\n",
       "      <th>1</th>\n",
       "      <td>0</td>\n",
       "      <td>But I feel peaceful.</td>\n",
       "      <td>0.889390</td>\n",
       "      <td>tentative</td>\n",
       "      <td>Tentative</td>\n",
       "    </tr>\n",
       "    <tr>\n",
       "      <th>2</th>\n",
       "      <td>1</td>\n",
       "      <td>Your success in the ring this morning was, to ...</td>\n",
       "      <td>0.919911</td>\n",
       "      <td>joy</td>\n",
       "      <td>Joy</td>\n",
       "    </tr>\n",
       "    <tr>\n",
       "      <th>3</th>\n",
       "      <td>2</td>\n",
       "      <td>Your future is assured.</td>\n",
       "      <td>0.977590</td>\n",
       "      <td>confident</td>\n",
       "      <td>Confident</td>\n",
       "    </tr>\n",
       "    <tr>\n",
       "      <th>4</th>\n",
       "      <td>3</td>\n",
       "      <td>You will live, secure and safe, Wilbur.</td>\n",
       "      <td>0.921250</td>\n",
       "      <td>confident</td>\n",
       "      <td>Confident</td>\n",
       "    </tr>\n",
       "    <tr>\n",
       "      <th>5</th>\n",
       "      <td>3</td>\n",
       "      <td>You will live, secure and safe, Wilbur.</td>\n",
       "      <td>0.801827</td>\n",
       "      <td>analytical</td>\n",
       "      <td>Analytical</td>\n",
       "    </tr>\n",
       "    <tr>\n",
       "      <th>6</th>\n",
       "      <td>6</td>\n",
       "      <td>The leaves will shake loose from the trees and...</td>\n",
       "      <td>0.536283</td>\n",
       "      <td>fear</td>\n",
       "      <td>Fear</td>\n",
       "    </tr>\n",
       "    <tr>\n",
       "      <th>7</th>\n",
       "      <td>7</td>\n",
       "      <td>Christmas will come, and the snows of winter.</td>\n",
       "      <td>0.612467</td>\n",
       "      <td>joy</td>\n",
       "      <td>Joy</td>\n",
       "    </tr>\n",
       "    <tr>\n",
       "      <th>8</th>\n",
       "      <td>8</td>\n",
       "      <td>You will live to enjoy the beauty of the froze...</td>\n",
       "      <td>0.930779</td>\n",
       "      <td>joy</td>\n",
       "      <td>Joy</td>\n",
       "    </tr>\n",
       "    <tr>\n",
       "      <th>9</th>\n",
       "      <td>9</td>\n",
       "      <td>Winter will pass, the days will lengthen, the ...</td>\n",
       "      <td>0.667518</td>\n",
       "      <td>sadness</td>\n",
       "      <td>Sadness</td>\n",
       "    </tr>\n",
       "    <tr>\n",
       "      <th>10</th>\n",
       "      <td>10</td>\n",
       "      <td>The song sparrow will return and sing, the fro...</td>\n",
       "      <td>0.592807</td>\n",
       "      <td>joy</td>\n",
       "      <td>Joy</td>\n",
       "    </tr>\n",
       "    <tr>\n",
       "      <th>11</th>\n",
       "      <td>11</td>\n",
       "      <td>All these sights and sounds and smells will be...</td>\n",
       "      <td>0.794473</td>\n",
       "      <td>joy</td>\n",
       "      <td>Joy</td>\n",
       "    </tr>\n",
       "    <tr>\n",
       "      <th>12</th>\n",
       "      <td>11</td>\n",
       "      <td>All these sights and sounds and smells will be...</td>\n",
       "      <td>0.660207</td>\n",
       "      <td>confident</td>\n",
       "      <td>Confident</td>\n",
       "    </tr>\n",
       "  </tbody>\n",
       "</table>\n",
       "</div>"
      ],
      "text/plain": [
       "    sentence_id                                               text  \\\n",
       "0             0                               But I feel peaceful.   \n",
       "1             0                               But I feel peaceful.   \n",
       "2             1  Your success in the ring this morning was, to ...   \n",
       "3             2                            Your future is assured.   \n",
       "4             3            You will live, secure and safe, Wilbur.   \n",
       "5             3            You will live, secure and safe, Wilbur.   \n",
       "6             6  The leaves will shake loose from the trees and...   \n",
       "7             7      Christmas will come, and the snows of winter.   \n",
       "8             8  You will live to enjoy the beauty of the froze...   \n",
       "9             9  Winter will pass, the days will lengthen, the ...   \n",
       "10           10  The song sparrow will return and sing, the fro...   \n",
       "11           11  All these sights and sounds and smells will be...   \n",
       "12           11  All these sights and sounds and smells will be...   \n",
       "\n",
       "    tone_score     tone_id   tone_name  \n",
       "0     0.511185         joy         Joy  \n",
       "1     0.889390   tentative   Tentative  \n",
       "2     0.919911         joy         Joy  \n",
       "3     0.977590   confident   Confident  \n",
       "4     0.921250   confident   Confident  \n",
       "5     0.801827  analytical  Analytical  \n",
       "6     0.536283        fear        Fear  \n",
       "7     0.612467         joy         Joy  \n",
       "8     0.930779         joy         Joy  \n",
       "9     0.667518     sadness     Sadness  \n",
       "10    0.592807         joy         Joy  \n",
       "11    0.794473         joy         Joy  \n",
       "12    0.660207   confident   Confident  "
      ]
     },
     "metadata": {},
     "output_type": "display_data"
    }
   ],
   "source": [
    "tone_data = convert_to_tones_table(tone_analysis)\n",
    "display(tone_data)"
   ]
  },
  {
   "cell_type": "code",
   "execution_count": 16,
   "metadata": {},
   "outputs": [
    {
     "name": "stdout",
     "output_type": "stream",
     "text": [
      "      score    tone_id  tone_name\n",
      "0  0.689564        joy        Joy\n",
      "1  0.527599    sadness    Sadness\n",
      "2  0.802229  confident  Confident\n"
     ]
    },
    {
     "data": {
      "image/png": "[encoded data removed]",
      "text/plain": [
       "<Figure size 432x288 with 1 Axes>"
      ]
     },
     "metadata": {
      "needs_background": "light"
     },
     "output_type": "display_data"
    }
   ],
   "source": [
    "doc_tone_data = convert_to_document_tone(tone_analysis)\n",
    "print(doc_tone_data)\n",
    "\n",
    "plt.bar(doc_tone_data['tone_name'], doc_tone_data['score'])\n",
    "\n",
    "plt.xlabel('Tone name') \n",
    "plt.ylabel('Tone score')\n",
    "\n",
    "plt.show()"
   ]
  },
  {
   "cell_type": "code",
   "execution_count": 17,
   "metadata": {},
   "outputs": [
    {
     "name": "stdout",
     "output_type": "stream",
     "text": [
      "{'document_tone': {'tones': [{'score': 0.831039, 'tone_id': 'confident', 'tone_name': 'Confident'}, {'score': 0.779178, 'tone_id': 'analytical', 'tone_name': 'Analytical'}]}, 'sentences_tone': [{'sentence_id': 0, 'text': 'A spokesperson for the firm said: \"The safety of our customers and colleagues remains our top priority.', 'tones': [{'score': 0.6821, 'tone_id': 'confident', 'tone_name': 'Confident'}]}, {'sentence_id': 1, 'text': 'We are continuing to provide an enhanced cleaning programme onboard our trains and at our stations as well as reminding customers to wear a face mask, unless exempt.', 'tones': [{'score': 0.589295, 'tone_id': 'analytical', 'tone_name': 'Analytical'}]}, {'sentence_id': 2, 'text': 'We are also using our reservation system to prevent overcrowding and our website to continue to inform customers which are our least busy and busier services, to enable people to plan ahead and travel in confidence.', 'tones': [{'score': 0.638807, 'tone_id': 'analytical', 'tone_name': 'Analytical'}]}]}\n"
     ]
    }
   ],
   "source": [
    "text = get_text_for_analysis()\n",
    "\n",
    "if text:\n",
    "    tone_analysis = tone_analyzer.tone(\n",
    "        {'text': text},\n",
    "        content_type='json/application').get_result()  \n",
    "    print(tone_analysis)\n",
    "else:\n",
    "    print(\"No data\")"
   ]
  },
  {
   "cell_type": "code",
   "execution_count": 18,
   "metadata": {},
   "outputs": [
    {
     "data": {
      "text/html": [
       "<div>\n",
       "<style scoped>\n",
       "    .dataframe tbody tr th:only-of-type {\n",
       "        vertical-align: middle;\n",
       "    }\n",
       "\n",
       "    .dataframe tbody tr th {\n",
       "        vertical-align: top;\n",
       "    }\n",
       "\n",
       "    .dataframe thead th {\n",
       "        text-align: right;\n",
       "    }\n",
       "</style>\n",
       "<table border=\"1\" class=\"dataframe\">\n",
       "  <thead>\n",
       "    <tr style=\"text-align: right;\">\n",
       "      <th></th>\n",
       "      <th>sentence_id</th>\n",
       "      <th>text</th>\n",
       "      <th>tone_score</th>\n",
       "      <th>tone_id</th>\n",
       "      <th>tone_name</th>\n",
       "    </tr>\n",
       "  </thead>\n",
       "  <tbody>\n",
       "    <tr>\n",
       "      <th>0</th>\n",
       "      <td>0</td>\n",
       "      <td>A spokesperson for the firm said: \"The safety ...</td>\n",
       "      <td>0.682100</td>\n",
       "      <td>confident</td>\n",
       "      <td>Confident</td>\n",
       "    </tr>\n",
       "    <tr>\n",
       "      <th>1</th>\n",
       "      <td>1</td>\n",
       "      <td>We are continuing to provide an enhanced clean...</td>\n",
       "      <td>0.589295</td>\n",
       "      <td>analytical</td>\n",
       "      <td>Analytical</td>\n",
       "    </tr>\n",
       "    <tr>\n",
       "      <th>2</th>\n",
       "      <td>2</td>\n",
       "      <td>We are also using our reservation system to pr...</td>\n",
       "      <td>0.638807</td>\n",
       "      <td>analytical</td>\n",
       "      <td>Analytical</td>\n",
       "    </tr>\n",
       "  </tbody>\n",
       "</table>\n",
       "</div>"
      ],
      "text/plain": [
       "   sentence_id                                               text  tone_score  \\\n",
       "0            0  A spokesperson for the firm said: \"The safety ...    0.682100   \n",
       "1            1  We are continuing to provide an enhanced clean...    0.589295   \n",
       "2            2  We are also using our reservation system to pr...    0.638807   \n",
       "\n",
       "      tone_id   tone_name  \n",
       "0   confident   Confident  \n",
       "1  analytical  Analytical  \n",
       "2  analytical  Analytical  "
      ]
     },
     "metadata": {},
     "output_type": "display_data"
    }
   ],
   "source": [
    "tone_data = convert_to_tones_table(tone_analysis)\n",
    "display(tone_data)"
   ]
  },
  {
   "cell_type": "code",
   "execution_count": 19,
   "metadata": {},
   "outputs": [
    {
     "name": "stdout",
     "output_type": "stream",
     "text": [
      "MAX tone_score                                             0.638807\n",
      "text          We are continuing to provide an enhanced clean...\n",
      "dtype: object\n",
      "MIN tone_score                                             0.589295\n",
      "text          We are also using our reservation system to pr...\n",
      "dtype: object\n",
      "Mean analytical: 0.614051\n"
     ]
    },
    {
     "data": {
      "image/png": "[encoded data removed]",
      "text/plain": [
       "<Figure size 432x288 with 1 Axes>"
      ]
     },
     "metadata": {
      "needs_background": "light"
     },
     "output_type": "display_data"
    }
   ],
   "source": [
    "analytical_data(tone_data)"
   ]
  },
  {
   "cell_type": "code",
   "execution_count": 22,
   "metadata": {},
   "outputs": [
    {
     "name": "stdout",
     "output_type": "stream",
     "text": [
      "      score     tone_id   tone_name\n",
      "0  0.831039   confident   Confident\n",
      "1  0.779178  analytical  Analytical\n"
     ]
    },
    {
     "data": {
      "image/png": "[encoded data removed]",
      "text/plain": [
       "<Figure size 432x288 with 1 Axes>"
      ]
     },
     "metadata": {
      "needs_background": "light"
     },
     "output_type": "display_data"
    }
   ],
   "source": [
    "doc_tone_data = convert_to_document_tone(tone_analysis)\n",
    "print(doc_tone_data)\n",
    "\n",
    "plt.bar(doc_tone_data['tone_name'], doc_tone_data['score'])\n",
    "\n",
    "plt.xlabel('Tone name') \n",
    "plt.ylabel('Tone score')\n",
    "\n",
    "plt.show()"
   ]
  },
  {
   "cell_type": "markdown",
   "metadata": {},
   "source": [
    "## Reflection\n",
    "\n",
    "In this worksheet, I have demonstrated:\n",
    "\n",
    "* ability to write code to specifications\n",
    "* ability to use IBM Watson Tone Analyser to analyze text\n",
    "* ability to write code to open and files, as well as to deal with json format \n",
    "* ability to handle errors using try - except\n",
    "* ability to convert data into a table to then create a dataframe\n",
    "* ability to calculate simple statistics - min, max, mean\n",
    "* ability to create visualisations using matplotlib library"
   ]
  }
 ],
 "metadata": {
  "kernelspec": {
   "display_name": "Python 3",
   "language": "python",
   "name": "python3"
  },
  "language_info": {
   "codemirror_mode": {
    "name": "ipython",
    "version": 3
   },
   "file_extension": ".py",
   "mimetype": "text/x-python",
   "name": "python",
   "nbconvert_exporter": "python",
   "pygments_lexer": "ipython3",
   "version": "3.8.8"
  }
 },
 "nbformat": 4,
 "nbformat_minor": 4
}
