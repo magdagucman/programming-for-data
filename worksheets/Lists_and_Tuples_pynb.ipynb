{
  "nbformat": 4,
  "nbformat_minor": 0,
  "metadata": {
    "colab": {
      "name": "Lists and Tuples.pynb",
      "provenance": [],
      "collapsed_sections": [],
      "include_colab_link": true
    },
    "kernelspec": {
      "name": "python3",
      "display_name": "Python 3"
    },
    "language_info": {
      "name": "python"
    }
  },
  "cells": [
    {
      "cell_type": "markdown",
      "metadata": {
        "id": "view-in-github",
        "colab_type": "text"
      },
      "source": [
        "<a href=\"https://colab.research.google.com/github/magdagucman/programming-for-data/blob/main/worksheets/Lists_and_Tuples_pynb.ipynb\" target=\"_parent\"><img src=\"https://colab.research.google.com/assets/colab-badge.svg\" alt=\"Open In Colab\"/></a>"
      ]
    },
    {
      "cell_type": "markdown",
      "metadata": {
        "id": "Z-M-RCWATK71"
      },
      "source": [
        "# Lists and tuples\n",
        "\n",
        "Often we need to store a number of single items of data together so that they can be processed together. This might be because all the data refers to one person (e.g. name, age, gender, etc) OR it might be because we have a set of data (e.g. all the items that should be displayed in a drop down list, such as all the years from this year back to 100 years ago so that someone can select their year of birth)\n",
        "\n",
        "Python has a range of data structures available including:\n",
        "*   lists  \n",
        "*   tuples  \n",
        "*   dictionaries  \n",
        "*   sets\n",
        "\n",
        "This worksheet looks at lists and tuples.\n",
        "\n",
        "## List\n",
        "A list is a set of related, individual data objects, that are indexed and can be processed as a whole, as subsets or as individual items.  Lists are stored, essentially, as contiguous items in memory so that access can be as quick as possible.  However, they are mutable (they can be changed after they are created and stored) and so those mechanisms need to include extra functionality to deal with changing list sizes.\n",
        "\n",
        "## Tuple\n",
        "Essentially the same as a list but it is immutable.  Once it has been created it can't be changed.  It is stored in memory as contiguous items, with the size required being fixed right from the start.  This makes it faster to access.\n",
        "\n",
        "The code below will create two lists and a tuple.\n",
        "*   the first list contains 1000 random numbers between 1 and 100\n",
        "*   the second list is of random length (up to 5000) and each item is one of the 9 characteristics that are protected under the Equality Act in the UK.\n",
        "*   the tuple contains the 9 protected characteristics\n",
        "\n",
        "**Before you start the exercises, run the code below.**  It will generate the lists and tuple so that you can use them in the exercises.  If you need to recreate the lists again (because you have changed them and need to work on the originals, just run this cell again).\n",
        "\n",
        "***Note:***  *a list variable contains a reference to the start of the list in memory, rather than storing the list itself.  This means that if you assign the list to another variable (to make a copy), it will only copy across the reference.  If you change the copy, you change the original list.*\n",
        "\n",
        "*If you need to make a copy of the list you will need to use a loop to create a new list and copy all items across.*"
      ]
    },
    {
      "cell_type": "code",
      "metadata": {
        "id": "BDRckXeQXFMT"
      },
      "source": [
        "### RUN THIS CODE EVERYTIME YOU NEED LISTS TO WORK WITH IN THE EXERCISES BELOW ###\n",
        "from random import randint, choice\n",
        "\n",
        "def get_num_list():\n",
        "  num_list = [randint(1,100) for n in range(1000)]\n",
        "  return num_list\n",
        "\n",
        "def get_protected_characteristics():\n",
        "  characteristics_tuple = ('age','disability','gender reassignment','marriage and civil partnership','pregnancy and maternity','race','religion or belief','sex','sexual orientation')\n",
        "  return characteristics_tuple\n",
        "\n",
        "def get_protected_characteristic_list(protected_characteristics):\n",
        "  char_list = [choice(protected_characteristics) for ch in range(randint(1,5000))]\n",
        "  return char_list\n",
        "\n",
        "nums = get_num_list()\n",
        "protected_characteristics = get_protected_characteristics()\n",
        "characteristics = get_protected_characteristic_list(protected_characteristics)"
      ],
      "execution_count": 2,
      "outputs": []
    },
    {
      "cell_type": "markdown",
      "metadata": {
        "id": "xXT38-4ZV45n"
      },
      "source": [
        "## The exercises below will use the lists:  \n",
        "*   **nums** (a list of between 1 and 1000 random numbers, each number is between 0 and 1000)\n",
        "*   **characteristics** (a list of 5000 random protected_characteristics)\n",
        "\n",
        "and the tuple:\n",
        "*  **protected_characteristics** (a set of the 9 protected characteristics identified in the Equality Act)\n",
        "\n",
        "## You can run the cell above any number of times to generate new lists."
      ]
    },
    {
      "cell_type": "markdown",
      "metadata": {
        "id": "Ft0dXl7fUuaK"
      },
      "source": [
        "---\n",
        "### Exercise 1 - list head, tail and shape\n",
        "\n",
        "Write a function, **describe_list()** which will:\n",
        "*  print the length of the list `nums`\n",
        "*  print the first 10 items in `nums`  \n",
        "*  print the last 5 items in `nums`  \n",
        "\n",
        "*Expected output*:  \n",
        "The length of nums is *552* (note: 552 is an example - the number will be between 1 and 1000)    \n",
        "First 10 items: [a list of 10 characteristics]  \n",
        "Last 5 items: [a list of 5 characteristics]\n"
      ]
    },
    {
      "cell_type": "code",
      "metadata": {
        "id": "jUcZD7mmTJdA",
        "colab": {
          "base_uri": "https://localhost:8080/"
        },
        "outputId": "0b846777-8d25-4ffe-cca4-df07ec06c53a"
      },
      "source": [
        "def describe_list():\n",
        "  print(\"The length of nums is\", len(nums))\n",
        "  print(\"First 10 items\", nums[:10])\n",
        "  print(\"Last 5 items\", nums[(-5):])\n",
        "\n",
        "describe_list()\n",
        "    \n",
        "  "
      ],
      "execution_count": 15,
      "outputs": [
        {
          "output_type": "stream",
          "text": [
            "The length of nums is 1000\n",
            "First 10 items [64, 16, 35, 31, 87, 70, 91, 84, 23, 97]\n",
            "Last 5 items [27, 75, 33, 73, 20]\n"
          ],
          "name": "stdout"
        }
      ]
    },
    {
      "cell_type": "markdown",
      "metadata": {
        "id": "yNWg08k6bXv0"
      },
      "source": [
        "---\n",
        "### Exercise 2 - show tuple items\n",
        "\n",
        "Write a function which will:\n",
        "*   use a loop to print the list of protected characteristics from the `protected_characteristics` tuple.  \n",
        "\n",
        "*Expected output*:  \n",
        "age  \n",
        "disability  \n",
        "gender reassignment  \n",
        "marriage and civil partnership  \n",
        "pregnancy and maternity  \n",
        "race  \n",
        "religion or belief  \n",
        "sex  \n",
        "sexual orientation  \n"
      ]
    },
    {
      "cell_type": "code",
      "metadata": {
        "id": "P2HnCG9pb1BS",
        "colab": {
          "base_uri": "https://localhost:8080/"
        },
        "outputId": "fb0e3dd8-f491-447a-9b82-af0da419edd7"
      },
      "source": [
        "def print_protected_characteristics():\n",
        "  for item in protected_characteristics:\n",
        "    print(item)\n",
        "\n",
        "print_protected_characteristics()"
      ],
      "execution_count": 16,
      "outputs": [
        {
          "output_type": "stream",
          "text": [
            "age\n",
            "disability\n",
            "gender reassignment\n",
            "marriage and civil partnership\n",
            "pregnancy and maternity\n",
            "race\n",
            "religion or belief\n",
            "sex\n",
            "sexual orientation\n"
          ],
          "name": "stdout"
        }
      ]
    },
    {
      "cell_type": "markdown",
      "metadata": {
        "id": "RTSuQZs4b1JU"
      },
      "source": [
        "---\n",
        "### Exercise 3 - display items in the middle\n",
        "\n",
        "Write a function which will:\n",
        "*  calculate the position of the middle item in the `characteristics` list   \n",
        "(*Hint: use len() to help with this*)\n",
        "*  calculate the position of the item that is 5 places before the middle item\n",
        "*  calculate the position of the item that is 5 places after the middle item\n",
        "*  print the part of the list that includes the items from 5 places before to 5 places after.  \n",
        "\n",
        "*Expected output*:  \n",
        "Your list will include 10 items.  "
      ]
    },
    {
      "cell_type": "code",
      "metadata": {
        "id": "OwhFnH2kdC11",
        "colab": {
          "base_uri": "https://localhost:8080/"
        },
        "outputId": "9c1d66c7-6d9a-4d1b-d16b-8b92363167cd"
      },
      "source": [
        "def print_middle():\n",
        "\n",
        "  # If the list is of odd length\n",
        "  if len(characteristics) % 2 != 0:\n",
        "    middle_item_position = int((len(characteristics)-1)/2)\n",
        "    five_before = middle_item_position - 5\n",
        "    five_after = middle_item_position + 5\n",
        "    for index in range(five_before, five_after + 1):\n",
        "      print(characteristics[index])\n",
        "  \n",
        "  # If the list is of even length\n",
        "  elif len(characteristics) % 2 == 0:\n",
        "    middle_item_1 = int(len(characteristics)/2 - 1)\n",
        "    middle_item_2 = int(len(characteristics)/2)\n",
        "    five_before = middle_item_1 - 5\n",
        "    five_after = middle_item_2 + 5\n",
        "    for index in range(five_before, five_after + 1):\n",
        "      print(characteristics[index])\n",
        "\n",
        "# Call the function \n",
        "print_middle()\n",
        "\n",
        "# In the case of odd length of list, I thought there should be 11 items printed (middle + 5 before + 5 after) \n",
        "# My logic assumed that in the case of even length, there are 2 items in the middle (as opposed to no items), so the total number of items would be 12 (2 from the middle + 5 before + 5 after)."
      ],
      "execution_count": 17,
      "outputs": [
        {
          "output_type": "stream",
          "text": [
            "sex\n",
            "marriage and civil partnership\n",
            "sex\n",
            "pregnancy and maternity\n",
            "disability\n",
            "race\n",
            "race\n",
            "marriage and civil partnership\n",
            "race\n",
            "age\n",
            "gender reassignment\n"
          ],
          "name": "stdout"
        }
      ]
    },
    {
      "cell_type": "markdown",
      "metadata": {
        "id": "KS0x3oFNePI9"
      },
      "source": [
        "---\n",
        "### Exercise 4 - create a copy\n",
        "\n",
        "Write a function which will: use a for loop to create a copy of the `nums` list:\n",
        "\n",
        "*   create a new, empty, list called **new_nums**  (*Hint: an empty list is [ ]*)\n",
        "*   use a for loop which uses the following syntax:  `for num in nums:`\n",
        "*   each time round the loop append `num` to `new_nums`  ( *`new_nums.append(num)`*)\n",
        "*   print the first 10 items of `new_nums`\n",
        "*   print the first 10 items of `nums`\n",
        "*   print the length of both lists\n",
        "\n",
        "*Example expected output*:  \n",
        "[34, 3, 16, 3, 79, 33, 98, 24, 48, 8]  \n",
        "[34, 3, 16, 3, 79, 33, 98, 24, 48, 8]  \n",
        "Length of new_nums: 1000 Length of nums: 1000  "
      ]
    },
    {
      "cell_type": "code",
      "metadata": {
        "id": "mpK1Ip3we-uC",
        "colab": {
          "base_uri": "https://localhost:8080/"
        },
        "outputId": "9a45fdc7-a696-4ed7-ea2c-7d3d0640d23f"
      },
      "source": [
        "new_nums = []\n",
        "\n",
        "def create_copy():\n",
        "  for num in nums:\n",
        "    new_nums.append(num)\n",
        "\n",
        "create_copy()\n",
        "\n",
        "print(nums[:10])\n",
        "print(new_nums[:10])\n",
        "print(\"Length of nums:\", len(nums))\n",
        "print(\"Length of new_nums:\", len(new_nums))"
      ],
      "execution_count": 18,
      "outputs": [
        {
          "output_type": "stream",
          "text": [
            "[64, 16, 35, 31, 87, 70, 91, 84, 23, 97]\n",
            "[64, 16, 35, 31, 87, 70, 91, 84, 23, 97]\n",
            "Length of nums: 1000\n",
            "Length of new_nums: 1000\n"
          ],
          "name": "stdout"
        }
      ]
    },
    {
      "cell_type": "markdown",
      "metadata": {
        "id": "deUIFWjRe-3G"
      },
      "source": [
        "### Exercise 5 - count the occurrence of age in characteristics\n",
        "\n",
        "---\n",
        "\n",
        "Write a function which will use the list method:\n",
        "\n",
        "`list_name.count(item)`\n",
        "\n",
        "to count the number of occurrences of 'age' in the `characteristics` list.\n",
        "\n",
        "Print the result.\n",
        "\n",
        "*Example expected output*:  \n",
        "Number of times age appears in list: 42"
      ]
    },
    {
      "cell_type": "code",
      "metadata": {
        "id": "b9TrHQ9hfoIU",
        "colab": {
          "base_uri": "https://localhost:8080/"
        },
        "outputId": "37e610b2-00db-423d-e678-71906cdcea16"
      },
      "source": [
        "def age_counter():\n",
        "  age_count = characteristics.count(\"age\")\n",
        "  return age_count\n",
        "\n",
        "print(\"Number of times age appears in list:\", age_counter())"
      ],
      "execution_count": 20,
      "outputs": [
        {
          "output_type": "stream",
          "text": [
            "Number of times age appears in list: 87\n"
          ],
          "name": "stdout"
        }
      ]
    },
    {
      "cell_type": "markdown",
      "metadata": {
        "id": "zm2VI5RmfoSy"
      },
      "source": [
        "---\n",
        "### Exercise 6 - sort the nums list\n",
        "\n",
        "Write a function which will:\n",
        "*   call the function `get_num_list()` and store the result in a new list called **sort_nums**\n",
        "*   print the first, and last, 10 items in the `sort_nums` list\n",
        "*   use the `list_name.sort()` method to sort the `sort_nums` list into ascending order\n",
        "*   print the first, and last, 10 items again  \n",
        "*   use the `list_name.sort()` method again to sort the `sort_nums` list into descending order\n",
        "*   print the first, and last, 10 items again  \n",
        "\n",
        "*Example expected output*:  \n",
        "Unsorted [94, 95, 54, 75, 87, 32, 55, 15, 37, 30] ....... [91, 92, 40, 83, 37, 82, 78, 82, 80, 9]  \n",
        "Ascending [1, 1, 1, 1, 1, 1, 1, 2, 2, 2] ....... [99, 99, 99, 100, 100, 100, 100, 100, 100, 100]  \n",
        "Descending [100, 100, 100, 100, 100, 100, 100, 99, 99, 99] ....... [2, 2, 2, 1, 1, 1, 1, 1, 1, 1]  "
      ]
    },
    {
      "cell_type": "code",
      "metadata": {
        "id": "Fksgpj9JgWDs",
        "colab": {
          "base_uri": "https://localhost:8080/"
        },
        "outputId": "e8478a8f-b198-47d6-9c17-90249d6637db"
      },
      "source": [
        "def sort_nums_list():\n",
        "  sort_nums = get_num_list()\n",
        "  print(\"Unsorted:\", sort_nums[:10], end=\"...\")\n",
        "  print(sort_nums[(-10):])\n",
        "  sort_nums.sort()\n",
        "  print(\"Ascending:\", sort_nums[:10], end=\"...\")\n",
        "  print(sort_nums[(-10):])\n",
        "  sort_nums.sort(reverse=True)\n",
        "  print(\"Descending: \", sort_nums[:10], end=\"...\")\n",
        "  print(sort_nums[(-10):])\n",
        "\n",
        "sort_nums_list()"
      ],
      "execution_count": 21,
      "outputs": [
        {
          "output_type": "stream",
          "text": [
            "Unsorted: [71, 75, 6, 44, 58, 86, 21, 11, 69, 71]...[64, 7, 55, 67, 8, 99, 50, 51, 85, 100]\n",
            "Ascending: [1, 1, 1, 1, 1, 1, 1, 1, 2, 2]...[100, 100, 100, 100, 100, 100, 100, 100, 100, 100]\n",
            "Descending:  [100, 100, 100, 100, 100, 100, 100, 100, 100, 100]...[2, 2, 1, 1, 1, 1, 1, 1, 1, 1]\n"
          ],
          "name": "stdout"
        }
      ]
    },
    {
      "cell_type": "markdown",
      "metadata": {
        "id": "_OF-Xuj1UrW0"
      },
      "source": [
        "---\n",
        "### Exercise 7 - get statistics (max(), min(), sum() )\n",
        "\n",
        "Write a function which will:\n",
        "*   print the maximum and minimum numbers in the `nums` list  \n",
        "*   print the sum of the `nums` list\n",
        "*   calculate and print the average of the `nums` list (using `len()` to help)  \n",
        "\n",
        "*Example expected output*:  \n",
        "Maximum: 100 Minimum: 1  \n",
        "Sum 49750  \n",
        "Average 49.75   \n"
      ]
    },
    {
      "cell_type": "code",
      "metadata": {
        "id": "9YmYMenZVGod",
        "colab": {
          "base_uri": "https://localhost:8080/"
        },
        "outputId": "c00cb416-17fe-4a50-d922-c6f0fb11e50f"
      },
      "source": [
        "def get_statistics(): \n",
        "  print(\"Maximum: \", max(nums))\n",
        "  print(\"Minimum: \", min(nums))\n",
        "  print(\"Sum: \", sum(nums))\n",
        "  print(\"Average: \", sum(nums)/len(nums))\n",
        "\n",
        "get_statistics()"
      ],
      "execution_count": 22,
      "outputs": [
        {
          "output_type": "stream",
          "text": [
            "Maximum:  100\n",
            "Minimum:  1\n",
            "Sum:  50744\n",
            "Average:  50.744\n"
          ],
          "name": "stdout"
        }
      ]
    },
    {
      "cell_type": "markdown",
      "metadata": {
        "id": "Mn4tHQ_KVbHa"
      },
      "source": [
        "---\n",
        "### Exercise 8 - percentage difference\n",
        "\n",
        "Write a function which will:\n",
        "*   generate a new list called **ex8_nums** using `get_num_list()`\n",
        "*   calculate and print the percentage difference between the first number in each list (as a percentage of the number in the nums list) (Hint:  find the difference between the two numbers, divide the difference by the number in `nums` and multiply by 100 - and use abs to ensure that the number is always positive)\n",
        "*   calculate and print the percentage difference between the last numbers in each list in the same way\n",
        "*   calculate and print the percentage difference between the middle numbers in each list in the same way.\n",
        "*   calculate and print the percentage difference between the sums of each list in the same way\n",
        "\n",
        "*Example expected output*:  \n",
        "First number difference 0.59 %  \n",
        "Last number difference 0.97 %  \n",
        "Middle number difference 0.65 %  \n",
        "Sum number difference 0.01 %  "
      ]
    },
    {
      "cell_type": "code",
      "metadata": {
        "id": "nJCQjZIeZL0e",
        "colab": {
          "base_uri": "https://localhost:8080/"
        },
        "outputId": "91524475-9aad-4bc5-c30a-b33558092927"
      },
      "source": [
        "def percentage_difference():\n",
        "  ex8_nums = get_num_list()\n",
        "  print(\"First number difference\", round(abs((ex8_nums[0]-nums[0])/nums[0])*100, 2), \"%\")\n",
        "  print(\"Last number difference\", round(abs(100*(ex8_nums[-1]-nums[-1])/nums[-1]), 2), \"%\")\n",
        "\n",
        "  # Below is a bit inaccurate as both lists have even number of items (always 1000), so each has 2 items in the middle\n",
        "  print(\"Middle number difference\", round(abs(100*(ex8_nums[int(len(ex8_nums)/2)]-nums[int(len(nums)/2)])/nums[int(len(nums)/2)]), 2), \"%\")\n",
        "  print(\"Sum number difference\", round(abs(100*(sum(ex8_nums)-sum(nums))/sum(nums)), 2), \"%\")\n",
        "\n",
        "percentage_difference()"
      ],
      "execution_count": 23,
      "outputs": [
        {
          "output_type": "stream",
          "text": [
            "First number difference 25.0 %\n",
            "Last number difference 285.0 %\n",
            "Middle number difference 153.33 %\n",
            "Sum number difference 1.62 %\n"
          ],
          "name": "stdout"
        }
      ]
    },
    {
      "cell_type": "markdown",
      "metadata": {
        "id": "HNs3lZmYawFO"
      },
      "source": [
        "---\n",
        "### Exercise 9 - characteristic counts\n",
        "\n",
        "Write a function which will:\n",
        "*  iterate through the `protected_characteristics` tuple and for each **characteristic**:\n",
        "*   *   count the number of occurrences of that `characteristic` in the `characteristics` list\n",
        "*   *   print the `protected_characteristic` and the **count**    \n",
        "  \n",
        "*Example expected output*:\n",
        "\n",
        "age 100  \n",
        "disability 120  \n",
        "gender reassignment 120  \n",
        "marriage and civil partnership 111  \n",
        "pregnancy and maternity 103  \n",
        "race 106  \n",
        "religion or belief 95  \n",
        "sex 110  \n",
        "sexual orientation 113  \n",
        "\n",
        "Extra learning:  you can read [here](https://thispointer.com/python-how-to-pad-strings-with-zero-space-or-some-other-character/) how to justify the printed characteristic so that the output is organised into two columns as shown below:  \n",
        "![tabulated output](https://drive.google.com/uc?id=1CCXfX6K5ZeDefnq7vUsqxCDmqvcfY8Mz)\n",
        "\n",
        "\n",
        "\n"
      ]
    },
    {
      "cell_type": "code",
      "metadata": {
        "id": "GURT11albqUs",
        "colab": {
          "base_uri": "https://localhost:8080/"
        },
        "outputId": "2e43c110-321e-47e4-9b11-973c70c8978c"
      },
      "source": [
        "def characteristic_counts():\n",
        "  column1 = \"Protected Characteristic\"\n",
        "  column2 = \"Frequency\"\n",
        "  \n",
        "  if len(column1) > len(max(characteristics, key=len)):\n",
        "    longest_name = len(column1)\n",
        "  else: \n",
        "    longest_name = len(max(characteristics, key=len))\n",
        "\n",
        "  print(column1, column2.rjust(longest_name + len(column2) - len(column1), ' '))\n",
        "  for characteristic in protected_characteristics:\n",
        "    count_characteristic = characteristics.count(characteristic)\n",
        "    print(characteristic, str(count_characteristic).rjust(longest_name - len(characteristic) + 2, ' '))\n",
        "  return\n",
        "\n",
        "\n",
        "characteristic_counts()"
      ],
      "execution_count": 24,
      "outputs": [
        {
          "output_type": "stream",
          "text": [
            "Protected Characteristic       Frequency\n",
            "age                            87\n",
            "disability                     73\n",
            "gender reassignment            82\n",
            "marriage and civil partnership 66\n",
            "pregnancy and maternity        68\n",
            "race                           76\n",
            "religion or belief             68\n",
            "sex                            67\n",
            "sexual orientation             68\n"
          ],
          "name": "stdout"
        }
      ]
    },
    {
      "cell_type": "markdown",
      "metadata": {
        "id": "9Po7yQj-ds38"
      },
      "source": [
        "---\n",
        "### Exercise 10 - characteristics statistics\n",
        "\n",
        "Assuming that the `characteristics` list may have been taken from a study of cases that have been taken to court in relation to the Equality Act.  \n",
        "\n",
        "Write a function which will:\n",
        "\n",
        "*   find the most common characteristic resulting in court action, from this population\n",
        "*   print this in a message, e.g. The characteristic with the highest number of court cases is:  *characteristic*\n",
        "*   print the list of `protected_characteristics`, on one line if possible - see [here](https://www.geeksforgeeks.org/g-fact-25-print-single-multiple-variable-python/)\n",
        "*   ask the user to enter a characteristic that they would like to see statistics on and use a while loop to continue until the user has entered a valid characteristic\n",
        "*   print the characteristic, its frequency and the percentage that this frequency is of the whole population.\n",
        "\n",
        "*Test input*:  \n",
        "maternity and pregnancy\n",
        "\n",
        "*Example expected output*:  \n",
        "The characteristic with the highest number of court cases is: sex  \n",
        "Protected characteristics:  age disability gender reassignment marriage and civil partnership pregnancy and maternity race religion or belief sex sexual orientation   \n",
        "Which characteristic would you like to see statistics on? marriage  \n",
        "Which characteristic would you like to see statistics on? age  \n",
        "age 473 10.97 %  \n"
      ]
    },
    {
      "cell_type": "code",
      "metadata": {
        "id": "uk_I5z7UgbDs",
        "colab": {
          "base_uri": "https://localhost:8080/"
        },
        "outputId": "843157c7-0c67-469c-cf27-1e9df186dd25"
      },
      "source": [
        "def most_common(list):\n",
        "  return max(set(list), key = list.count)\n",
        "\n",
        "print(\"The characteristic with the highest number of court cases is:\", most_common(characteristics))\n",
        "\n",
        "print(\"Protected characteristics:\", end = \" \") \n",
        "print(*protected_characteristics, sep =\", \")\n",
        "print(\"Which characteristic would you like to see statistics on?\", end = \" \")\n",
        "answer = input()\n",
        "while answer not in characteristics:\n",
        "  print(\"Which characteristic would you like to see statistics on?\", end = \" \")\n",
        "  answer = input()\n",
        "print(answer, characteristics.count(answer), round(100*characteristics.count(answer)/len(characteristics),2), \"%\")"
      ],
      "execution_count": 25,
      "outputs": [
        {
          "output_type": "stream",
          "text": [
            "The characteristic with the highest number of court cases is: age\n",
            "Protected characteristics: age, disability, gender reassignment, marriage and civil partnership, pregnancy and maternity, race, religion or belief, sex, sexual orientation\n",
            "Which characteristic would you like to see statistics on? race\n",
            "race 76 11.6 %\n"
          ],
          "name": "stdout"
        }
      ]
    },
    {
      "cell_type": "markdown",
      "metadata": {
        "id": "g24vq4z2zECI"
      },
      "source": [
        "# Reflection\n",
        "----\n",
        "\n",
        "## What skills have you demonstrated in completing this notebook?"
      ]
    },
    {
      "cell_type": "markdown",
      "metadata": {
        "id": "dJ-UIZakzI4S"
      },
      "source": [
        "I have demonstrated basic knowledge of Python syntax, ability to create variables, use loops, if statements, defining and calling functions, using methods, casting, using arithmetic operators."
      ]
    },
    {
      "cell_type": "markdown",
      "metadata": {
        "id": "MYoQrjddzJxg"
      },
      "source": [
        "## What caused you the most difficulty?"
      ]
    },
    {
      "cell_type": "markdown",
      "metadata": {
        "id": "aFPNBDPPzjx9"
      },
      "source": [
        "The exercises seemed straightforward once I refreshed my memory when it comes to syntax, although I am unsure whether my approach was always correct as I am not very certain of my coding skills. My general pace was quite slow as I hadn't used Python since I first learned the basics of it roughly a year ago. The exercise that caused me most trouble was no 3, as I don't understand why the expected output is to have 10 elements (I explained my logic in code comments).\n",
        "\n",
        "I also got confused as the description of what is in the provided code doesn't seem to match it:\n",
        "\n",
        "\"nums (a list of between 1 and 1000 random numbers, each number is between 0 and 1000)\" -- the range in the code is set to 1000 (not randomized), and integers chosen randomly from 1 to 100\n",
        "\n",
        "\"characteristics (a list of 5000 random protected_characteristics)\" -- in the provided code the length of characteristics is randomized to fall between 1 and 5000"
      ]
    }
  ]
}