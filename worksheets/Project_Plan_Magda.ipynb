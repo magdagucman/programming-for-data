{
 "cells": [
  {
   "attachments": {},
   "cell_type": "markdown",
   "id": "b9ec82fc",
   "metadata": {},
   "source": [
    "# A Look at Global Health: Suicides - Can We Predict & Therefore Prevent Them?\n",
    "---\n",
    "\n",
    "## Description\n",
    "\n",
    "Suicide rates vary internationally. Using records taken from UN online databases, this notebook will investigate how well the number of suicides can be predicted by various other factors: unemployment, poverty, inequality, accessibility of psychiatrists, and accessibility of psychiatric hospitals. It will also investigate whether higher gender inequality can be connected with higher percentage of suicides among women.\n",
    "\n",
    "The notebook will investigate and report on various correlations, as well as present a multidimensional linear regression model (see 'Hypotheses' section for details). The aim is to tell a story about complex causality of suicides and to raise the topic of suicide prevention needing to be focused on satisfying basic human needs as well as providing access to (ideally free) mental healthcare.\n",
    "\n",
    "\n",
    "### Hypotheses\n",
    "\n",
    "H1: There is a positive, statistically significant correlation between the total number of suicides and unemployment, measured as a total percentage of labour force.\n",
    "\n",
    "H2: There is a positive, statistically significant correlation between the total number of suicides and poverty, measured by percentage of population living below national income poverty line.\n",
    "\n",
    "H3: There is a positive, statistically significant correlation between the total number of suicides and inequality, measured by the Coefficient of Human Inequality.\n",
    "\n",
    "\n",
    "H4: There is a negative, statistically significant correlation between the total number of suicides and accessibility of psychiatrists, measured by the number of psychiatrists working in mental health sector per 100000 people.\n",
    "\n",
    "H5: There is a negative, statistically significant correlation between the total number of suicides and accessibility of mental hospitals, measured by the number of mental hospitals per 100000 people.\n",
    "\n",
    "H6: There is a positive, statistically significant relation between the ratio of female to male suicides and gender inequality index.\n",
    "\n",
    "H7: Total suicide rates can be predicted by unemployment (measured as a total percentage of labour force), poverty (measured by percentage of population living below national income poverty line), inequality (measured by the Coefficient of Human Inequality), accessibility of psychiatrists (measured by the number of psychiatrists working in mental health sector per 100000 people), accessibility of psychiatric hospitals (measured by the number of mental hospitals per 100000 people).\n",
    "\n",
    "\n",
    "### Chosen datasets (short description and links): \n",
    "* Suicide rate, female (per 100,000 people, age-standardized): contains records of number of deaths from purposely self-inflicted injuries, expressed per 100,000 people in the reference population, for years 2000, 2010, 2015 and 2016 for 183 countries. The rates are age-standardized. The countries are associated with their HDI rank. The data set contains additional data for regions and depending on the values of HDI. Link: https://raw.githubusercontent.com/magdagucman/programming-for-data/main/Data%20Sets/Suicide%20rate%2C%20female%20(per%20100%2C000%20people%2C%20age-standardized).csv\n",
    "\n",
    "* Suicide rate, male (per 100,000 people, age-standardized) - as above, but for males. Link: https://raw.githubusercontent.com/magdagucman/programming-for-data/main/Data%20Sets/Suicide%20rate%2C%20male%20(per%20100%2C000%20people%2C%20age-standardized).csv\n",
    "\n",
    "* Unemployment, total (% of labour force): contains records of percentage of the labour force population ages 15 and older that is not in paid employment or self-employed but is available for work and has taken steps to seek paid employment or self-employment. The data is available for years 1991, 1995, 2000, 2005, 2010-2019 for 179 countries associated with their HDI rank. The data set contains additional data for regions and depending on the values of HDI. Link: https://raw.githubusercontent.com/magdagucman/programming-for-data/main/Data%20Sets/Unemployment%2C%20total%20(%25%20of%20labour%20force).csv\n",
    "\n",
    "* Population living below income poverty line, national poverty line (%): contains records of percentage of the population living below the national poverty line, which is the poverty line deemed appropriate for a country by its authorities. National estimates are based on population-weighted subgroup estimates from household surveys. The data is available for a range of years between 2008 and 2019 (most recent data available during the specified period) for 130 countries associated with HDI rank. The data set contains additional data for regions and depending on the values of HDI. Link: https://raw.githubusercontent.com/magdagucman/programming-for-data/main/Data%20Sets/Population%20living%20below%20income%20poverty%20line%2C%20national%20poverty%20line%20(%25).csv\n",
    "\n",
    "* Coefficient of human inequality: contains records of the coefficient calculated as the arithmetic mean of the values in inequality in life expectancy, inequality in education and inequality in income for years 2010-2019 for 167 countries (some values missing in various years). Countries are associated with their HDI rank. The data set contains additional data for regions and depending on the values of HDI. Link: https://raw.githubusercontent.com/magdagucman/programming-for-data/main/Data%20Sets/Coefficient%20of%20human%20inequality.csv\n",
    "\n",
    "* Psychiatrists working in mental health sector (per 100,000): contains records of psychiatrists per 100000 people for year 2011 for 180 countries. Link: https://raw.githubusercontent.com/magdagucman/programming-for-data/main/Data%20Sets/Psychiatrists.csv\n",
    "\n",
    "* Mental hospitals (per 100,000): contains records of mental hospitals per 100000 people for year 2011 for 173 countries. Link: https://raw.githubusercontent.com/magdagucman/programming-for-data/main/Data%20Sets/Hospitals.csv\n",
    "\n",
    "* Gender Inequality Index: contains records for years 1995, 2000, 2005, 2010-2019 for 162 countries and associated HDI rank.  Additional data for regions and depending on the values of HDI in rows below. https://raw.githubusercontent.com/magdagucman/programming-for-data/main/Data%20Sets/Gender%20Inequality%20Index%20(GII).csv\n",
    "\n",
    "(Sources: datasets downloaded from http://hdr.undp.org/en/data and http://data.un.org/Explorer.aspx)"
   ]
  },
  {
   "cell_type": "markdown",
   "id": "784b9fea",
   "metadata": {},
   "source": [
    "## Plan\n",
    "\n",
    "* describe the data: investigate the data displaying info, summary statistics, head and tail\n",
    "* prepare for analysis: clean and wrangle; create one data set including the following columns: Country, Suicide_male, Suicide_female, Suicide_ratio, Suicide_total, Unemployment, Poverty, Inequality, Psychiatrists_access, Mental_hospitals_access, Gender_inequality_index\n",
    "* sort by total suicide rate and visually look at the first and last 10 rows of data\n",
    "* check for normality of data and other assumptions; remove outliers\n",
    "* use linear regression to show correlations as listed in hypotheses H1-H6; visualise results\n",
    "* use multiple linear regression to investigate relations between total suicide rates and other variables (as per H7): what variables significantly predict suicide rates?; how well does the model account for the variance in suicide rates between the countries?; how does the slope for each significant variable explain the impact on the IV?; visualise results\n",
    "* summarise all results textually\n",
    "* write conclusions; consider bias and other issues\n",
    "\n",
    "## Presentation\n",
    "Show correlations in tables and on plots. Show multiple regression results in a table."
   ]
  }
 ],
 "metadata": {
  "kernelspec": {
   "display_name": "Python 3",
   "language": "python",
   "name": "python3"
  },
  "language_info": {
   "codemirror_mode": {
    "name": "ipython",
    "version": 3
   },
   "file_extension": ".py",
   "mimetype": "text/x-python",
   "name": "python",
   "nbconvert_exporter": "python",
   "pygments_lexer": "ipython3",
   "version": "3.8.8"
  }
 },
 "nbformat": 4,
 "nbformat_minor": 5
}
